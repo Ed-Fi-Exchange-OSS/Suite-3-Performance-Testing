{
 "cells": [
  {
   "attachments": {},
   "cell_type": "markdown",
   "id": "3176ea51",
   "metadata": {},
   "source": [
    "# Volume Test Analysis TC\n",
    "\n",
    "Run the cell below. It will prompt you for which directory to access with the volume test results to analyze."
   ]
  },
  {
   "cell_type": "code",
   "execution_count": 1,
   "id": "f6353239",
   "metadata": {
    "tags": []
   },
   "outputs": [],
   "source": [
    "from edfi_perf_test_analysis.ui_helpers import get_result_directory\n",
    "default_dir, compare_dir = get_result_directory()"
   ]
  },
  {
   "cell_type": "code",
   "execution_count": 12,
   "id": "46230a89",
   "metadata": {
    "scrolled": false
   },
   "outputs": [
    {
     "data": {
      "text/markdown": [
       "✅ **Running analysis on c:\\Simpat\\edfi\\Suite-3-Performance-Testing\\TestResults\\26May**"
      ],
      "text/plain": [
       "<IPython.core.display.Markdown object>"
      ]
     },
     "metadata": {},
     "output_type": "display_data"
    },
    {
     "data": {
      "text/markdown": [
       "### Exceptions"
      ],
      "text/plain": [
       "<IPython.core.display.Markdown object>"
      ]
     },
     "metadata": {},
     "output_type": "display_data"
    },
    {
     "data": {
      "text/markdown": [
       "First five exceptions"
      ],
      "text/plain": [
       "<IPython.core.display.Markdown object>"
      ]
     },
     "metadata": {},
     "output_type": "display_data"
    },
    {
     "data": {
      "text/markdown": [
       "❕ **No data to display**"
      ],
      "text/plain": [
       "<IPython.core.display.Markdown object>"
      ]
     },
     "metadata": {},
     "output_type": "display_data"
    },
    {
     "data": {
      "text/markdown": [
       "### Failures"
      ],
      "text/plain": [
       "<IPython.core.display.Markdown object>"
      ]
     },
     "metadata": {},
     "output_type": "display_data"
    },
    {
     "data": {
      "text/markdown": [
       "First ten failures"
      ],
      "text/plain": [
       "<IPython.core.display.Markdown object>"
      ]
     },
     "metadata": {},
     "output_type": "display_data"
    },
    {
     "data": {
      "text/html": [
       "<style type=\"text/css\">\n",
       "#T_12c71 th {\n",
       "  text-align: left;\n",
       "}\n",
       "#T_12c71_row0_col0, #T_12c71_row0_col1, #T_12c71_row0_col2, #T_12c71_row0_col3, #T_12c71_row1_col0, #T_12c71_row1_col1, #T_12c71_row1_col2, #T_12c71_row1_col3, #T_12c71_row2_col0, #T_12c71_row2_col1, #T_12c71_row2_col2, #T_12c71_row2_col3, #T_12c71_row3_col0, #T_12c71_row3_col1, #T_12c71_row3_col2, #T_12c71_row3_col3, #T_12c71_row4_col0, #T_12c71_row4_col1, #T_12c71_row4_col2, #T_12c71_row4_col3, #T_12c71_row5_col0, #T_12c71_row5_col1, #T_12c71_row5_col2, #T_12c71_row5_col3, #T_12c71_row6_col0, #T_12c71_row6_col1, #T_12c71_row6_col2, #T_12c71_row6_col3, #T_12c71_row7_col0, #T_12c71_row7_col1, #T_12c71_row7_col2, #T_12c71_row7_col3, #T_12c71_row8_col0, #T_12c71_row8_col1, #T_12c71_row8_col2, #T_12c71_row8_col3, #T_12c71_row9_col0, #T_12c71_row9_col1, #T_12c71_row9_col2, #T_12c71_row9_col3 {\n",
       "  text-align: left;\n",
       "}\n",
       "</style>\n",
       "<table id=\"T_12c71\">\n",
       "  <thead>\n",
       "    <tr>\n",
       "      <th class=\"blank level0\" >&nbsp;</th>\n",
       "      <th id=\"T_12c71_level0_col0\" class=\"col_heading level0 col0\" >Method</th>\n",
       "      <th id=\"T_12c71_level0_col1\" class=\"col_heading level0 col1\" >Name</th>\n",
       "      <th id=\"T_12c71_level0_col2\" class=\"col_heading level0 col2\" >Error</th>\n",
       "      <th id=\"T_12c71_level0_col3\" class=\"col_heading level0 col3\" >Occurrences</th>\n",
       "    </tr>\n",
       "  </thead>\n",
       "  <tbody>\n",
       "    <tr>\n",
       "      <th id=\"T_12c71_level0_row0\" class=\"row_heading level0 row0\" >0</th>\n",
       "      <td id=\"T_12c71_row0_col0\" class=\"data row0 col0\" >PUT</td>\n",
       "      <td id=\"T_12c71_row0_col1\" class=\"data row0 col1\" >/data/v3/ed-fi/calendars/{id}</td>\n",
       "      <td id=\"T_12c71_row0_col2\" class=\"data row0 col2\" >BadStatusCode('https://edfi-perf-web.southcentralus.cloudapp.azure.com/v6.0/api/data/v3/ed-fi/calendars/87aca3908c1f49e18351b45d894ff43c', code=500)</td>\n",
       "      <td id=\"T_12c71_row0_col3\" class=\"data row0 col3\" >1</td>\n",
       "    </tr>\n",
       "    <tr>\n",
       "      <th id=\"T_12c71_level0_row1\" class=\"row_heading level0 row1\" >1</th>\n",
       "      <td id=\"T_12c71_row1_col0\" class=\"data row1 col0\" >PUT</td>\n",
       "      <td id=\"T_12c71_row1_col1\" class=\"data row1 col1\" >/data/v3/ed-fi/calendars/{id}</td>\n",
       "      <td id=\"T_12c71_row1_col2\" class=\"data row1 col2\" >BadStatusCode('https://edfi-perf-web.southcentralus.cloudapp.azure.com/v6.0/api/data/v3/ed-fi/calendars/9a63f13edd364feebf818ecd140ddc7f', code=500)</td>\n",
       "      <td id=\"T_12c71_row1_col3\" class=\"data row1 col3\" >1</td>\n",
       "    </tr>\n",
       "    <tr>\n",
       "      <th id=\"T_12c71_level0_row2\" class=\"row_heading level0 row2\" >2</th>\n",
       "      <td id=\"T_12c71_row2_col0\" class=\"data row2 col0\" >PUT</td>\n",
       "      <td id=\"T_12c71_row2_col1\" class=\"data row2 col1\" >/data/v3/ed-fi/calendars/{id}</td>\n",
       "      <td id=\"T_12c71_row2_col2\" class=\"data row2 col2\" >BadStatusCode('https://edfi-perf-web.southcentralus.cloudapp.azure.com/v6.0/api/data/v3/ed-fi/calendars/7bdbbc0965a044e4b16ebfc464c5f625', code=500)</td>\n",
       "      <td id=\"T_12c71_row2_col3\" class=\"data row2 col3\" >1</td>\n",
       "    </tr>\n",
       "    <tr>\n",
       "      <th id=\"T_12c71_level0_row3\" class=\"row_heading level0 row3\" >3</th>\n",
       "      <td id=\"T_12c71_row3_col0\" class=\"data row3 col0\" >PUT</td>\n",
       "      <td id=\"T_12c71_row3_col1\" class=\"data row3 col1\" >/data/v3/ed-fi/calendars/{id}</td>\n",
       "      <td id=\"T_12c71_row3_col2\" class=\"data row3 col2\" >BadStatusCode('https://edfi-perf-web.southcentralus.cloudapp.azure.com/v6.0/api/data/v3/ed-fi/calendars/e4de490236fa47c4bb90c443083c6092', code=500)</td>\n",
       "      <td id=\"T_12c71_row3_col3\" class=\"data row3 col3\" >1</td>\n",
       "    </tr>\n",
       "    <tr>\n",
       "      <th id=\"T_12c71_level0_row4\" class=\"row_heading level0 row4\" >4</th>\n",
       "      <td id=\"T_12c71_row4_col0\" class=\"data row4 col0\" >PUT</td>\n",
       "      <td id=\"T_12c71_row4_col1\" class=\"data row4 col1\" >/data/v3/ed-fi/calendars/{id}</td>\n",
       "      <td id=\"T_12c71_row4_col2\" class=\"data row4 col2\" >BadStatusCode('https://edfi-perf-web.southcentralus.cloudapp.azure.com/v6.0/api/data/v3/ed-fi/calendars/520b6f3e6b5f4516a2cd14201d468b03', code=500)</td>\n",
       "      <td id=\"T_12c71_row4_col3\" class=\"data row4 col3\" >1</td>\n",
       "    </tr>\n",
       "    <tr>\n",
       "      <th id=\"T_12c71_level0_row5\" class=\"row_heading level0 row5\" >5</th>\n",
       "      <td id=\"T_12c71_row5_col0\" class=\"data row5 col0\" >PUT</td>\n",
       "      <td id=\"T_12c71_row5_col1\" class=\"data row5 col1\" >/data/v3/ed-fi/calendars/{id}</td>\n",
       "      <td id=\"T_12c71_row5_col2\" class=\"data row5 col2\" >BadStatusCode('https://edfi-perf-web.southcentralus.cloudapp.azure.com/v6.0/api/data/v3/ed-fi/calendars/fb2e3a5343b6446d8fc075eb83528c0b', code=500)</td>\n",
       "      <td id=\"T_12c71_row5_col3\" class=\"data row5 col3\" >1</td>\n",
       "    </tr>\n",
       "    <tr>\n",
       "      <th id=\"T_12c71_level0_row6\" class=\"row_heading level0 row6\" >6</th>\n",
       "      <td id=\"T_12c71_row6_col0\" class=\"data row6 col0\" >PUT</td>\n",
       "      <td id=\"T_12c71_row6_col1\" class=\"data row6 col1\" >/data/v3/ed-fi/calendars/{id}</td>\n",
       "      <td id=\"T_12c71_row6_col2\" class=\"data row6 col2\" >BadStatusCode('https://edfi-perf-web.southcentralus.cloudapp.azure.com/v6.0/api/data/v3/ed-fi/calendars/b7e2cbbd7a3d4284a22f056554bea2e0', code=500)</td>\n",
       "      <td id=\"T_12c71_row6_col3\" class=\"data row6 col3\" >1</td>\n",
       "    </tr>\n",
       "    <tr>\n",
       "      <th id=\"T_12c71_level0_row7\" class=\"row_heading level0 row7\" >7</th>\n",
       "      <td id=\"T_12c71_row7_col0\" class=\"data row7 col0\" >PUT</td>\n",
       "      <td id=\"T_12c71_row7_col1\" class=\"data row7 col1\" >/data/v3/ed-fi/calendars/{id}</td>\n",
       "      <td id=\"T_12c71_row7_col2\" class=\"data row7 col2\" >BadStatusCode('https://edfi-perf-web.southcentralus.cloudapp.azure.com/v6.0/api/data/v3/ed-fi/calendars/7cd31f810dbe42479d94d3587954f401', code=500)</td>\n",
       "      <td id=\"T_12c71_row7_col3\" class=\"data row7 col3\" >1</td>\n",
       "    </tr>\n",
       "    <tr>\n",
       "      <th id=\"T_12c71_level0_row8\" class=\"row_heading level0 row8\" >8</th>\n",
       "      <td id=\"T_12c71_row8_col0\" class=\"data row8 col0\" >PUT</td>\n",
       "      <td id=\"T_12c71_row8_col1\" class=\"data row8 col1\" >/data/v3/ed-fi/calendars/{id}</td>\n",
       "      <td id=\"T_12c71_row8_col2\" class=\"data row8 col2\" >BadStatusCode('https://edfi-perf-web.southcentralus.cloudapp.azure.com/v6.0/api/data/v3/ed-fi/calendars/c0afd2c375654d8fb4c3dccc3d877cba', code=500)</td>\n",
       "      <td id=\"T_12c71_row8_col3\" class=\"data row8 col3\" >1</td>\n",
       "    </tr>\n",
       "    <tr>\n",
       "      <th id=\"T_12c71_level0_row9\" class=\"row_heading level0 row9\" >9</th>\n",
       "      <td id=\"T_12c71_row9_col0\" class=\"data row9 col0\" >PUT</td>\n",
       "      <td id=\"T_12c71_row9_col1\" class=\"data row9 col1\" >/data/v3/ed-fi/calendars/{id}</td>\n",
       "      <td id=\"T_12c71_row9_col2\" class=\"data row9 col2\" >BadStatusCode('https://edfi-perf-web.southcentralus.cloudapp.azure.com/v6.0/api/data/v3/ed-fi/calendars/b26ea5435b0c491bb6018eea322996bd', code=500)</td>\n",
       "      <td id=\"T_12c71_row9_col3\" class=\"data row9 col3\" >1</td>\n",
       "    </tr>\n",
       "    <tr>\n",
       "      <th class=\"row_heading level0 row_trim\" >...</th>\n",
       "      <td class=\"data col0 row_trim\" >...</td>\n",
       "      <td class=\"data col1 row_trim\" >...</td>\n",
       "      <td class=\"data col2 row_trim\" >...</td>\n",
       "      <td class=\"data col3 row_trim\" >...</td>\n",
       "    </tr>\n",
       "  </tbody>\n",
       "</table>\n"
      ],
      "text/plain": [
       "<IPython.core.display.HTML object>"
      ]
     },
     "metadata": {},
     "output_type": "display_data"
    },
    {
     "data": {
      "text/markdown": [
       "### Summary Stats"
      ],
      "text/plain": [
       "<IPython.core.display.Markdown object>"
      ]
     },
     "metadata": {},
     "output_type": "display_data"
    },
    {
     "data": {
      "text/html": [
       "<style type=\"text/css\">\n",
       "#T_d77b1 th {\n",
       "  text-align: left;\n",
       "}\n",
       "#T_d77b1_row0_col0, #T_d77b1_row0_col1, #T_d77b1_row0_col2, #T_d77b1_row0_col3, #T_d77b1_row1_col0, #T_d77b1_row1_col1, #T_d77b1_row1_col2, #T_d77b1_row1_col3, #T_d77b1_row2_col0, #T_d77b1_row2_col1, #T_d77b1_row2_col2, #T_d77b1_row2_col3, #T_d77b1_row3_col0, #T_d77b1_row3_col1, #T_d77b1_row3_col2, #T_d77b1_row3_col3 {\n",
       "  text-align: left;\n",
       "}\n",
       "</style>\n",
       "<table id=\"T_d77b1\">\n",
       "  <thead>\n",
       "    <tr>\n",
       "      <th class=\"blank level0\" >&nbsp;</th>\n",
       "      <th id=\"T_d77b1_level0_col0\" class=\"col_heading level0 col0\" >Request Count</th>\n",
       "      <th id=\"T_d77b1_level0_col1\" class=\"col_heading level0 col1\" >Failure Count</th>\n",
       "      <th id=\"T_d77b1_level0_col2\" class=\"col_heading level0 col2\" >Avg Response Time</th>\n",
       "      <th id=\"T_d77b1_level0_col3\" class=\"col_heading level0 col3\" >Approx Std Dev</th>\n",
       "    </tr>\n",
       "  </thead>\n",
       "  <tbody>\n",
       "    <tr>\n",
       "      <th id=\"T_d77b1_level0_row0\" class=\"row_heading level0 row0\" >sum</th>\n",
       "      <td id=\"T_d77b1_row0_col0\" class=\"data row0 col0\" >139314.00</td>\n",
       "      <td id=\"T_d77b1_row0_col1\" class=\"data row0 col1\" >296.00</td>\n",
       "      <td id=\"T_d77b1_row0_col2\" class=\"data row0 col2\" ></td>\n",
       "      <td id=\"T_d77b1_row0_col3\" class=\"data row0 col3\" ></td>\n",
       "    </tr>\n",
       "    <tr>\n",
       "      <th id=\"T_d77b1_level0_row1\" class=\"row_heading level0 row1\" >mean</th>\n",
       "      <td id=\"T_d77b1_row1_col0\" class=\"data row1 col0\" ></td>\n",
       "      <td id=\"T_d77b1_row1_col1\" class=\"data row1 col1\" ></td>\n",
       "      <td id=\"T_d77b1_row1_col2\" class=\"data row1 col2\" >771.18</td>\n",
       "      <td id=\"T_d77b1_row1_col3\" class=\"data row1 col3\" >689.62</td>\n",
       "    </tr>\n",
       "    <tr>\n",
       "      <th id=\"T_d77b1_level0_row2\" class=\"row_heading level0 row2\" >min</th>\n",
       "      <td id=\"T_d77b1_row2_col0\" class=\"data row2 col0\" ></td>\n",
       "      <td id=\"T_d77b1_row2_col1\" class=\"data row2 col1\" ></td>\n",
       "      <td id=\"T_d77b1_row2_col2\" class=\"data row2 col2\" >11.42</td>\n",
       "      <td id=\"T_d77b1_row2_col3\" class=\"data row2 col3\" >-103.69</td>\n",
       "    </tr>\n",
       "    <tr>\n",
       "      <th id=\"T_d77b1_level0_row3\" class=\"row_heading level0 row3\" >max</th>\n",
       "      <td id=\"T_d77b1_row3_col0\" class=\"data row3 col0\" ></td>\n",
       "      <td id=\"T_d77b1_row3_col1\" class=\"data row3 col1\" ></td>\n",
       "      <td id=\"T_d77b1_row3_col2\" class=\"data row3 col2\" >9289.89</td>\n",
       "      <td id=\"T_d77b1_row3_col3\" class=\"data row3 col3\" >6160.95</td>\n",
       "    </tr>\n",
       "  </tbody>\n",
       "</table>\n"
      ],
      "text/plain": [
       "<IPython.core.display.HTML object>"
      ]
     },
     "metadata": {},
     "output_type": "display_data"
    },
    {
     "data": {
      "text/markdown": [
       "### Ten Worst Average Response Times"
      ],
      "text/plain": [
       "<IPython.core.display.Markdown object>"
      ]
     },
     "metadata": {},
     "output_type": "display_data"
    },
    {
     "data": {
      "text/html": [
       "<style type=\"text/css\">\n",
       "#T_5c27b th {\n",
       "  text-align: left;\n",
       "}\n",
       "#T_5c27b_row0_col0, #T_5c27b_row0_col1, #T_5c27b_row0_col2, #T_5c27b_row0_col3, #T_5c27b_row0_col4, #T_5c27b_row0_col5, #T_5c27b_row1_col0, #T_5c27b_row1_col1, #T_5c27b_row1_col2, #T_5c27b_row1_col3, #T_5c27b_row1_col4, #T_5c27b_row1_col5, #T_5c27b_row2_col0, #T_5c27b_row2_col1, #T_5c27b_row2_col2, #T_5c27b_row2_col3, #T_5c27b_row2_col4, #T_5c27b_row2_col5, #T_5c27b_row3_col0, #T_5c27b_row3_col1, #T_5c27b_row3_col2, #T_5c27b_row3_col3, #T_5c27b_row3_col4, #T_5c27b_row3_col5, #T_5c27b_row4_col0, #T_5c27b_row4_col1, #T_5c27b_row4_col2, #T_5c27b_row4_col3, #T_5c27b_row4_col4, #T_5c27b_row4_col5, #T_5c27b_row5_col0, #T_5c27b_row5_col1, #T_5c27b_row5_col2, #T_5c27b_row5_col3, #T_5c27b_row5_col4, #T_5c27b_row5_col5, #T_5c27b_row6_col0, #T_5c27b_row6_col1, #T_5c27b_row6_col2, #T_5c27b_row6_col3, #T_5c27b_row6_col4, #T_5c27b_row6_col5, #T_5c27b_row7_col0, #T_5c27b_row7_col1, #T_5c27b_row7_col2, #T_5c27b_row7_col3, #T_5c27b_row7_col4, #T_5c27b_row7_col5, #T_5c27b_row8_col0, #T_5c27b_row8_col1, #T_5c27b_row8_col2, #T_5c27b_row8_col3, #T_5c27b_row8_col4, #T_5c27b_row8_col5, #T_5c27b_row9_col0, #T_5c27b_row9_col1, #T_5c27b_row9_col2, #T_5c27b_row9_col3, #T_5c27b_row9_col4, #T_5c27b_row9_col5 {\n",
       "  text-align: left;\n",
       "}\n",
       "</style>\n",
       "<table id=\"T_5c27b\">\n",
       "  <thead>\n",
       "    <tr>\n",
       "      <th class=\"blank level0\" >&nbsp;</th>\n",
       "      <th id=\"T_5c27b_level0_col0\" class=\"col_heading level0 col0\" >Avg Response Time</th>\n",
       "      <th id=\"T_5c27b_level0_col1\" class=\"col_heading level0 col1\" >Request Count</th>\n",
       "      <th id=\"T_5c27b_level0_col2\" class=\"col_heading level0 col2\" >Failure Count</th>\n",
       "      <th id=\"T_5c27b_level0_col3\" class=\"col_heading level0 col3\" >Approx Std Dev</th>\n",
       "      <th id=\"T_5c27b_level0_col4\" class=\"col_heading level0 col4\" >Min Response Time</th>\n",
       "      <th id=\"T_5c27b_level0_col5\" class=\"col_heading level0 col5\" >Max Response Time</th>\n",
       "    </tr>\n",
       "    <tr>\n",
       "      <th class=\"index_name level0\" >Request</th>\n",
       "      <th class=\"blank col0\" >&nbsp;</th>\n",
       "      <th class=\"blank col1\" >&nbsp;</th>\n",
       "      <th class=\"blank col2\" >&nbsp;</th>\n",
       "      <th class=\"blank col3\" >&nbsp;</th>\n",
       "      <th class=\"blank col4\" >&nbsp;</th>\n",
       "      <th class=\"blank col5\" >&nbsp;</th>\n",
       "    </tr>\n",
       "  </thead>\n",
       "  <tbody>\n",
       "    <tr>\n",
       "      <th id=\"T_5c27b_level0_row0\" class=\"row_heading level0 row0\" >POST /data/v3/ed-fi/programs</th>\n",
       "      <td id=\"T_5c27b_row0_col0\" class=\"data row0 col0\" >9289.89</td>\n",
       "      <td id=\"T_5c27b_row0_col1\" class=\"data row0 col1\" >277</td>\n",
       "      <td id=\"T_5c27b_row0_col2\" class=\"data row0 col2\" >0</td>\n",
       "      <td id=\"T_5c27b_row0_col3\" class=\"data row0 col3\" >4855.06</td>\n",
       "      <td id=\"T_5c27b_row0_col4\" class=\"data row0 col4\" >11</td>\n",
       "      <td id=\"T_5c27b_row0_col5\" class=\"data row0 col5\" >23672</td>\n",
       "    </tr>\n",
       "    <tr>\n",
       "      <th id=\"T_5c27b_level0_row1\" class=\"row_heading level0 row1\" >POST /data/v3/ed-fi/learningObjectives</th>\n",
       "      <td id=\"T_5c27b_row1_col0\" class=\"data row1 col0\" >9133.86</td>\n",
       "      <td id=\"T_5c27b_row1_col1\" class=\"data row1 col1\" >226</td>\n",
       "      <td id=\"T_5c27b_row1_col2\" class=\"data row1 col2\" >0</td>\n",
       "      <td id=\"T_5c27b_row1_col3\" class=\"data row1 col3\" >3433.07</td>\n",
       "      <td id=\"T_5c27b_row1_col4\" class=\"data row1 col4\" >1358</td>\n",
       "      <td id=\"T_5c27b_row1_col5\" class=\"data row1 col5\" >23466</td>\n",
       "    </tr>\n",
       "    <tr>\n",
       "      <th id=\"T_5c27b_level0_row2\" class=\"row_heading level0 row2\" >POST /data/v3/ed-fi/assessments</th>\n",
       "      <td id=\"T_5c27b_row2_col0\" class=\"data row2 col0\" >9117.70</td>\n",
       "      <td id=\"T_5c27b_row2_col1\" class=\"data row2 col1\" >1043</td>\n",
       "      <td id=\"T_5c27b_row2_col2\" class=\"data row2 col2\" >0</td>\n",
       "      <td id=\"T_5c27b_row2_col3\" class=\"data row2 col3\" >3941.15</td>\n",
       "      <td id=\"T_5c27b_row2_col4\" class=\"data row2 col4\" >1353</td>\n",
       "      <td id=\"T_5c27b_row2_col5\" class=\"data row2 col5\" >22021</td>\n",
       "    </tr>\n",
       "    <tr>\n",
       "      <th id=\"T_5c27b_level0_row3\" class=\"row_heading level0 row3\" >GET /data/v3/ed-fi/graduationPlans</th>\n",
       "      <td id=\"T_5c27b_row3_col0\" class=\"data row3 col0\" >9088.02</td>\n",
       "      <td id=\"T_5c27b_row3_col1\" class=\"data row3 col1\" >121</td>\n",
       "      <td id=\"T_5c27b_row3_col2\" class=\"data row3 col2\" >0</td>\n",
       "      <td id=\"T_5c27b_row3_col3\" class=\"data row3 col3\" >4955.99</td>\n",
       "      <td id=\"T_5c27b_row3_col4\" class=\"data row3 col4\" >1491</td>\n",
       "      <td id=\"T_5c27b_row3_col5\" class=\"data row3 col5\" >23613</td>\n",
       "    </tr>\n",
       "    <tr>\n",
       "      <th id=\"T_5c27b_level0_row4\" class=\"row_heading level0 row4\" >POST /data/v3/ed-fi/learningStandards</th>\n",
       "      <td id=\"T_5c27b_row4_col0\" class=\"data row4 col0\" >8641.27</td>\n",
       "      <td id=\"T_5c27b_row4_col1\" class=\"data row4 col1\" >213</td>\n",
       "      <td id=\"T_5c27b_row4_col2\" class=\"data row4 col2\" >0</td>\n",
       "      <td id=\"T_5c27b_row4_col3\" class=\"data row4 col3\" >4179.37</td>\n",
       "      <td id=\"T_5c27b_row4_col4\" class=\"data row4 col4\" >1416</td>\n",
       "      <td id=\"T_5c27b_row4_col5\" class=\"data row4 col5\" >21762</td>\n",
       "    </tr>\n",
       "    <tr>\n",
       "      <th id=\"T_5c27b_level0_row5\" class=\"row_heading level0 row5\" >POST /data/v3/ed-fi/parents</th>\n",
       "      <td id=\"T_5c27b_row5_col0\" class=\"data row5 col0\" >6682.47</td>\n",
       "      <td id=\"T_5c27b_row5_col1\" class=\"data row5 col1\" >385</td>\n",
       "      <td id=\"T_5c27b_row5_col2\" class=\"data row5 col2\" >0</td>\n",
       "      <td id=\"T_5c27b_row5_col3\" class=\"data row5 col3\" >5158.76</td>\n",
       "      <td id=\"T_5c27b_row5_col4\" class=\"data row5 col4\" >29</td>\n",
       "      <td id=\"T_5c27b_row5_col5\" class=\"data row5 col5\" >23690</td>\n",
       "    </tr>\n",
       "    <tr>\n",
       "      <th id=\"T_5c27b_level0_row6\" class=\"row_heading level0 row6\" >POST /data/v3/ed-fi/schools</th>\n",
       "      <td id=\"T_5c27b_row6_col0\" class=\"data row6 col0\" >6676.11</td>\n",
       "      <td id=\"T_5c27b_row6_col1\" class=\"data row6 col1\" >591</td>\n",
       "      <td id=\"T_5c27b_row6_col2\" class=\"data row6 col2\" >0</td>\n",
       "      <td id=\"T_5c27b_row6_col3\" class=\"data row6 col3\" >4661.95</td>\n",
       "      <td id=\"T_5c27b_row6_col4\" class=\"data row6 col4\" >15</td>\n",
       "      <td id=\"T_5c27b_row6_col5\" class=\"data row6 col5\" >21961</td>\n",
       "    </tr>\n",
       "    <tr>\n",
       "      <th id=\"T_5c27b_level0_row7\" class=\"row_heading level0 row7\" >POST /data/v3/ed-fi/courses</th>\n",
       "      <td id=\"T_5c27b_row7_col0\" class=\"data row7 col0\" >6639.51</td>\n",
       "      <td id=\"T_5c27b_row7_col1\" class=\"data row7 col1\" >317</td>\n",
       "      <td id=\"T_5c27b_row7_col2\" class=\"data row7 col2\" >0</td>\n",
       "      <td id=\"T_5c27b_row7_col3\" class=\"data row7 col3\" >5180.24</td>\n",
       "      <td id=\"T_5c27b_row7_col4\" class=\"data row7 col4\" >10</td>\n",
       "      <td id=\"T_5c27b_row7_col5\" class=\"data row7 col5\" >22080</td>\n",
       "    </tr>\n",
       "    <tr>\n",
       "      <th id=\"T_5c27b_level0_row8\" class=\"row_heading level0 row8\" >POST /data/v3/ed-fi/students</th>\n",
       "      <td id=\"T_5c27b_row8_col0\" class=\"data row8 col0\" >5309.46</td>\n",
       "      <td id=\"T_5c27b_row8_col1\" class=\"data row8 col1\" >5217</td>\n",
       "      <td id=\"T_5c27b_row8_col2\" class=\"data row8 col2\" >0</td>\n",
       "      <td id=\"T_5c27b_row8_col3\" class=\"data row8 col3\" >5845.27</td>\n",
       "      <td id=\"T_5c27b_row8_col4\" class=\"data row8 col4\" >13</td>\n",
       "      <td id=\"T_5c27b_row8_col5\" class=\"data row8 col5\" >23677</td>\n",
       "    </tr>\n",
       "    <tr>\n",
       "      <th id=\"T_5c27b_level0_row9\" class=\"row_heading level0 row9\" >POST /data/v3/ed-fi/calendars</th>\n",
       "      <td id=\"T_5c27b_row9_col0\" class=\"data row9 col0\" >5243.50</td>\n",
       "      <td id=\"T_5c27b_row9_col1\" class=\"data row9 col1\" >14280</td>\n",
       "      <td id=\"T_5c27b_row9_col2\" class=\"data row9 col2\" >0</td>\n",
       "      <td id=\"T_5c27b_row9_col3\" class=\"data row9 col3\" >5378.25</td>\n",
       "      <td id=\"T_5c27b_row9_col4\" class=\"data row9 col4\" >8</td>\n",
       "      <td id=\"T_5c27b_row9_col5\" class=\"data row9 col5\" >23731</td>\n",
       "    </tr>\n",
       "    <tr>\n",
       "      <th class=\"row_heading level0 row_trim\" >...</th>\n",
       "      <td class=\"data col0 row_trim\" >...</td>\n",
       "      <td class=\"data col1 row_trim\" >...</td>\n",
       "      <td class=\"data col2 row_trim\" >...</td>\n",
       "      <td class=\"data col3 row_trim\" >...</td>\n",
       "      <td class=\"data col4 row_trim\" >...</td>\n",
       "      <td class=\"data col5 row_trim\" >...</td>\n",
       "    </tr>\n",
       "  </tbody>\n",
       "</table>\n"
      ],
      "text/plain": [
       "<IPython.core.display.HTML object>"
      ]
     },
     "metadata": {},
     "output_type": "display_data"
    },
    {
     "data": {
      "text/markdown": [
       "### Ten Best Average Response Times"
      ],
      "text/plain": [
       "<IPython.core.display.Markdown object>"
      ]
     },
     "metadata": {},
     "output_type": "display_data"
    },
    {
     "data": {
      "text/html": [
       "<style type=\"text/css\">\n",
       "#T_dae2b th {\n",
       "  text-align: left;\n",
       "}\n",
       "#T_dae2b_row0_col0, #T_dae2b_row0_col1, #T_dae2b_row0_col2, #T_dae2b_row0_col3, #T_dae2b_row0_col4, #T_dae2b_row0_col5, #T_dae2b_row1_col0, #T_dae2b_row1_col1, #T_dae2b_row1_col2, #T_dae2b_row1_col3, #T_dae2b_row1_col4, #T_dae2b_row1_col5, #T_dae2b_row2_col0, #T_dae2b_row2_col1, #T_dae2b_row2_col2, #T_dae2b_row2_col3, #T_dae2b_row2_col4, #T_dae2b_row2_col5, #T_dae2b_row3_col0, #T_dae2b_row3_col1, #T_dae2b_row3_col2, #T_dae2b_row3_col3, #T_dae2b_row3_col4, #T_dae2b_row3_col5, #T_dae2b_row4_col0, #T_dae2b_row4_col1, #T_dae2b_row4_col2, #T_dae2b_row4_col3, #T_dae2b_row4_col4, #T_dae2b_row4_col5, #T_dae2b_row5_col0, #T_dae2b_row5_col1, #T_dae2b_row5_col2, #T_dae2b_row5_col3, #T_dae2b_row5_col4, #T_dae2b_row5_col5, #T_dae2b_row6_col0, #T_dae2b_row6_col1, #T_dae2b_row6_col2, #T_dae2b_row6_col3, #T_dae2b_row6_col4, #T_dae2b_row6_col5, #T_dae2b_row7_col0, #T_dae2b_row7_col1, #T_dae2b_row7_col2, #T_dae2b_row7_col3, #T_dae2b_row7_col4, #T_dae2b_row7_col5, #T_dae2b_row8_col0, #T_dae2b_row8_col1, #T_dae2b_row8_col2, #T_dae2b_row8_col3, #T_dae2b_row8_col4, #T_dae2b_row8_col5, #T_dae2b_row9_col0, #T_dae2b_row9_col1, #T_dae2b_row9_col2, #T_dae2b_row9_col3, #T_dae2b_row9_col4, #T_dae2b_row9_col5 {\n",
       "  text-align: left;\n",
       "}\n",
       "</style>\n",
       "<table id=\"T_dae2b\">\n",
       "  <thead>\n",
       "    <tr>\n",
       "      <th class=\"blank level0\" >&nbsp;</th>\n",
       "      <th id=\"T_dae2b_level0_col0\" class=\"col_heading level0 col0\" >Avg Response Time</th>\n",
       "      <th id=\"T_dae2b_level0_col1\" class=\"col_heading level0 col1\" >Request Count</th>\n",
       "      <th id=\"T_dae2b_level0_col2\" class=\"col_heading level0 col2\" >Failure Count</th>\n",
       "      <th id=\"T_dae2b_level0_col3\" class=\"col_heading level0 col3\" >Approx Std Dev</th>\n",
       "      <th id=\"T_dae2b_level0_col4\" class=\"col_heading level0 col4\" >Min Response Time</th>\n",
       "      <th id=\"T_dae2b_level0_col5\" class=\"col_heading level0 col5\" >Max Response Time</th>\n",
       "    </tr>\n",
       "    <tr>\n",
       "      <th class=\"index_name level0\" >Request</th>\n",
       "      <th class=\"blank col0\" >&nbsp;</th>\n",
       "      <th class=\"blank col1\" >&nbsp;</th>\n",
       "      <th class=\"blank col2\" >&nbsp;</th>\n",
       "      <th class=\"blank col3\" >&nbsp;</th>\n",
       "      <th class=\"blank col4\" >&nbsp;</th>\n",
       "      <th class=\"blank col5\" >&nbsp;</th>\n",
       "    </tr>\n",
       "  </thead>\n",
       "  <tbody>\n",
       "    <tr>\n",
       "      <th id=\"T_dae2b_level0_row0\" class=\"row_heading level0 row0\" >PUT /data/v3/ed-fi/assessmentItems/{id}</th>\n",
       "      <td id=\"T_dae2b_row0_col0\" class=\"data row0 col0\" >11.42</td>\n",
       "      <td id=\"T_dae2b_row0_col1\" class=\"data row0 col1\" >109</td>\n",
       "      <td id=\"T_dae2b_row0_col2\" class=\"data row0 col2\" >0</td>\n",
       "      <td id=\"T_dae2b_row0_col3\" class=\"data row0 col3\" >3.29</td>\n",
       "      <td id=\"T_dae2b_row0_col4\" class=\"data row0 col4\" >7</td>\n",
       "      <td id=\"T_dae2b_row0_col5\" class=\"data row0 col5\" >58</td>\n",
       "    </tr>\n",
       "    <tr>\n",
       "      <th id=\"T_dae2b_level0_row1\" class=\"row_heading level0 row1\" >POST /data/v3/ed-fi/objectiveAssessments</th>\n",
       "      <td id=\"T_dae2b_row1_col0\" class=\"data row1 col0\" >13.75</td>\n",
       "      <td id=\"T_dae2b_row1_col1\" class=\"data row1 col1\" >301</td>\n",
       "      <td id=\"T_dae2b_row1_col2\" class=\"data row1 col2\" >0</td>\n",
       "      <td id=\"T_dae2b_row1_col3\" class=\"data row1 col3\" >4.62</td>\n",
       "      <td id=\"T_dae2b_row1_col4\" class=\"data row1 col4\" >8</td>\n",
       "      <td id=\"T_dae2b_row1_col5\" class=\"data row1 col5\" >108</td>\n",
       "    </tr>\n",
       "    <tr>\n",
       "      <th id=\"T_dae2b_level0_row2\" class=\"row_heading level0 row2\" >POST /data/v3/ed-fi/studentSchoolAttendanceEvents</th>\n",
       "      <td id=\"T_dae2b_row2_col0\" class=\"data row2 col0\" >13.91</td>\n",
       "      <td id=\"T_dae2b_row2_col1\" class=\"data row2 col1\" >268</td>\n",
       "      <td id=\"T_dae2b_row2_col2\" class=\"data row2 col2\" >0</td>\n",
       "      <td id=\"T_dae2b_row2_col3\" class=\"data row2 col3\" >4.54</td>\n",
       "      <td id=\"T_dae2b_row2_col4\" class=\"data row2 col4\" >8</td>\n",
       "      <td id=\"T_dae2b_row2_col5\" class=\"data row2 col5\" >83</td>\n",
       "    </tr>\n",
       "    <tr>\n",
       "      <th id=\"T_dae2b_level0_row3\" class=\"row_heading level0 row3\" >DELETE /data/v3/ed-fi/studentSchoolAttendanceEvents/{id}</th>\n",
       "      <td id=\"T_dae2b_row3_col0\" class=\"data row3 col0\" >13.94</td>\n",
       "      <td id=\"T_dae2b_row3_col1\" class=\"data row3 col1\" >268</td>\n",
       "      <td id=\"T_dae2b_row3_col2\" class=\"data row3 col2\" >0</td>\n",
       "      <td id=\"T_dae2b_row3_col3\" class=\"data row3 col3\" >5.53</td>\n",
       "      <td id=\"T_dae2b_row3_col4\" class=\"data row3 col4\" >8</td>\n",
       "      <td id=\"T_dae2b_row3_col5\" class=\"data row3 col5\" >41</td>\n",
       "    </tr>\n",
       "    <tr>\n",
       "      <th id=\"T_dae2b_level0_row4\" class=\"row_heading level0 row4\" >DELETE /data/v3/ed-fi/calendarDates/{id}</th>\n",
       "      <td id=\"T_dae2b_row4_col0\" class=\"data row4 col0\" >14.06</td>\n",
       "      <td id=\"T_dae2b_row4_col1\" class=\"data row4 col1\" >359</td>\n",
       "      <td id=\"T_dae2b_row4_col2\" class=\"data row4 col2\" >0</td>\n",
       "      <td id=\"T_dae2b_row4_col3\" class=\"data row4 col3\" >5.97</td>\n",
       "      <td id=\"T_dae2b_row4_col4\" class=\"data row4 col4\" >8</td>\n",
       "      <td id=\"T_dae2b_row4_col5\" class=\"data row4 col5\" >41</td>\n",
       "    </tr>\n",
       "    <tr>\n",
       "      <th id=\"T_dae2b_level0_row5\" class=\"row_heading level0 row5\" >POST /data/v3/ed-fi/studentDisciplineIncidentAssociations</th>\n",
       "      <td id=\"T_dae2b_row5_col0\" class=\"data row5 col0\" >14.12</td>\n",
       "      <td id=\"T_dae2b_row5_col1\" class=\"data row5 col1\" >710</td>\n",
       "      <td id=\"T_dae2b_row5_col2\" class=\"data row5 col2\" >0</td>\n",
       "      <td id=\"T_dae2b_row5_col3\" class=\"data row5 col3\" >5.94</td>\n",
       "      <td id=\"T_dae2b_row5_col4\" class=\"data row5 col4\" >8</td>\n",
       "      <td id=\"T_dae2b_row5_col5\" class=\"data row5 col5\" >72</td>\n",
       "    </tr>\n",
       "    <tr>\n",
       "      <th id=\"T_dae2b_level0_row6\" class=\"row_heading level0 row6\" >DELETE /data/v3/ed-fi/gradingPeriods/{id}</th>\n",
       "      <td id=\"T_dae2b_row6_col0\" class=\"data row6 col0\" >14.13</td>\n",
       "      <td id=\"T_dae2b_row6_col1\" class=\"data row6 col1\" >5149</td>\n",
       "      <td id=\"T_dae2b_row6_col2\" class=\"data row6 col2\" >0</td>\n",
       "      <td id=\"T_dae2b_row6_col3\" class=\"data row6 col3\" >6.43</td>\n",
       "      <td id=\"T_dae2b_row6_col4\" class=\"data row6 col4\" >7</td>\n",
       "      <td id=\"T_dae2b_row6_col5\" class=\"data row6 col5\" >133</td>\n",
       "    </tr>\n",
       "    <tr>\n",
       "      <th id=\"T_dae2b_level0_row7\" class=\"row_heading level0 row7\" >DELETE /data/v3/ed-fi/calendars/{id}</th>\n",
       "      <td id=\"T_dae2b_row7_col0\" class=\"data row7 col0\" >14.15</td>\n",
       "      <td id=\"T_dae2b_row7_col1\" class=\"data row7 col1\" >14270</td>\n",
       "      <td id=\"T_dae2b_row7_col2\" class=\"data row7 col2\" >0</td>\n",
       "      <td id=\"T_dae2b_row7_col3\" class=\"data row7 col3\" >6.42</td>\n",
       "      <td id=\"T_dae2b_row7_col4\" class=\"data row7 col4\" >7</td>\n",
       "      <td id=\"T_dae2b_row7_col5\" class=\"data row7 col5\" >174</td>\n",
       "    </tr>\n",
       "    <tr>\n",
       "      <th id=\"T_dae2b_level0_row8\" class=\"row_heading level0 row8\" >POST /data/v3/ed-fi/studentSectionAssociations</th>\n",
       "      <td id=\"T_dae2b_row8_col0\" class=\"data row8 col0\" >14.25</td>\n",
       "      <td id=\"T_dae2b_row8_col1\" class=\"data row8 col1\" >566</td>\n",
       "      <td id=\"T_dae2b_row8_col2\" class=\"data row8 col2\" >0</td>\n",
       "      <td id=\"T_dae2b_row8_col3\" class=\"data row8 col3\" >5.88</td>\n",
       "      <td id=\"T_dae2b_row8_col4\" class=\"data row8 col4\" >8</td>\n",
       "      <td id=\"T_dae2b_row8_col5\" class=\"data row8 col5\" >102</td>\n",
       "    </tr>\n",
       "    <tr>\n",
       "      <th id=\"T_dae2b_level0_row9\" class=\"row_heading level0 row9\" >POST /data/v3/ed-fi/assessmentItems</th>\n",
       "      <td id=\"T_dae2b_row9_col0\" class=\"data row9 col0\" >14.28</td>\n",
       "      <td id=\"T_dae2b_row9_col1\" class=\"data row9 col1\" >205</td>\n",
       "      <td id=\"T_dae2b_row9_col2\" class=\"data row9 col2\" >0</td>\n",
       "      <td id=\"T_dae2b_row9_col3\" class=\"data row9 col3\" >5.36</td>\n",
       "      <td id=\"T_dae2b_row9_col4\" class=\"data row9 col4\" >8</td>\n",
       "      <td id=\"T_dae2b_row9_col5\" class=\"data row9 col5\" >88</td>\n",
       "    </tr>\n",
       "    <tr>\n",
       "      <th class=\"row_heading level0 row_trim\" >...</th>\n",
       "      <td class=\"data col0 row_trim\" >...</td>\n",
       "      <td class=\"data col1 row_trim\" >...</td>\n",
       "      <td class=\"data col2 row_trim\" >...</td>\n",
       "      <td class=\"data col3 row_trim\" >...</td>\n",
       "      <td class=\"data col4 row_trim\" >...</td>\n",
       "      <td class=\"data col5 row_trim\" >...</td>\n",
       "    </tr>\n",
       "  </tbody>\n",
       "</table>\n"
      ],
      "text/plain": [
       "<IPython.core.display.HTML object>"
      ]
     },
     "metadata": {},
     "output_type": "display_data"
    },
    {
     "data": {
      "text/markdown": [
       "### Web Server Data"
      ],
      "text/plain": [
       "<IPython.core.display.Markdown object>"
      ]
     },
     "metadata": {},
     "output_type": "display_data"
    },
    {
     "data": {
      "image/png": "[encoded data removed]",
      "text/plain": [
       "<Figure size 640x480 with 1 Axes>"
      ]
     },
     "metadata": {},
     "output_type": "display_data"
    },
    {
     "data": {
      "text/markdown": [
       "y=(-0.0724)x + 18.3814, r=-1.0"
      ],
      "text/plain": [
       "<IPython.core.display.Markdown object>"
      ]
     },
     "metadata": {},
     "output_type": "display_data"
    },
    {
     "data": {
      "image/png": "[encoded data removed]",
      "text/plain": [
       "<Figure size 640x480 with 1 Axes>"
      ]
     },
     "metadata": {},
     "output_type": "display_data"
    },
    {
     "data": {
      "text/markdown": [
       "y=(0.2712)x + 18.2933, r=1.0"
      ],
      "text/plain": [
       "<IPython.core.display.Markdown object>"
      ]
     },
     "metadata": {},
     "output_type": "display_data"
    },
    {
     "data": {
      "text/markdown": [
       "### Db Server Data"
      ],
      "text/plain": [
       "<IPython.core.display.Markdown object>"
      ]
     },
     "metadata": {},
     "output_type": "display_data"
    },
    {
     "data": {
      "image/png": "[encoded data removed]",
      "text/plain": [
       "<Figure size 640x480 with 1 Axes>"
      ]
     },
     "metadata": {},
     "output_type": "display_data"
    },
    {
     "data": {
      "text/markdown": [
       "y=(-0.0202)x + 5.5346, r=-1.0"
      ],
      "text/plain": [
       "<IPython.core.display.Markdown object>"
      ]
     },
     "metadata": {},
     "output_type": "display_data"
    },
    {
     "data": {
      "image/png": "[encoded data removed]",
      "text/plain": [
       "<Figure size 640x480 with 1 Axes>"
      ]
     },
     "metadata": {},
     "output_type": "display_data"
    },
    {
     "data": {
      "text/markdown": [
       "y=(0.1352)x + 16.163, r=1.0"
      ],
      "text/plain": [
       "<IPython.core.display.Markdown object>"
      ]
     },
     "metadata": {},
     "output_type": "display_data"
    }
   ],
   "source": [
    "from edfi_perf_test_analysis.volume import run_analysis, run_comparison\n",
    "results_dir, df_stats = run_analysis(format(default_dir))"
   ]
  },
  {
   "attachments": {},
   "cell_type": "markdown",
   "id": "933333ea",
   "metadata": {},
   "source": [
    "# Comparison\n",
    "\n",
    "Optional: run the following to select a second directory for head-to-head comparison of results."
   ]
  },
  {
   "cell_type": "code",
   "execution_count": 13,
   "id": "ec80c393",
   "metadata": {
    "scrolled": false
   },
   "outputs": [
    {
     "data": {
      "text/markdown": [
       "✅ **Running analysis on c:\\Simpat\\edfi\\Suite-3-Performance-Testing\\TestResults\\12Jun**"
      ],
      "text/plain": [
       "<IPython.core.display.Markdown object>"
      ]
     },
     "metadata": {},
     "output_type": "display_data"
    },
    {
     "data": {
      "text/markdown": [
       "## Summary Statistics"
      ],
      "text/plain": [
       "<IPython.core.display.Markdown object>"
      ]
     },
     "metadata": {},
     "output_type": "display_data"
    },
    {
     "data": {
      "text/markdown": [
       "### Left Summary"
      ],
      "text/plain": [
       "<IPython.core.display.Markdown object>"
      ]
     },
     "metadata": {},
     "output_type": "display_data"
    },
    {
     "data": {
      "text/markdown": [
       "Directory: c:\\Simpat\\edfi\\Suite-3-Performance-Testing\\TestResults\\26May"
      ],
      "text/plain": [
       "<IPython.core.display.Markdown object>"
      ]
     },
     "metadata": {},
     "output_type": "display_data"
    },
    {
     "data": {
      "text/html": [
       "<style type=\"text/css\">\n",
       "#T_fa694 th {\n",
       "  text-align: left;\n",
       "}\n",
       "#T_fa694_row0_col0, #T_fa694_row0_col1, #T_fa694_row0_col2, #T_fa694_row0_col3, #T_fa694_row1_col0, #T_fa694_row1_col1, #T_fa694_row1_col2, #T_fa694_row1_col3, #T_fa694_row2_col0, #T_fa694_row2_col1, #T_fa694_row2_col2, #T_fa694_row2_col3, #T_fa694_row3_col0, #T_fa694_row3_col1, #T_fa694_row3_col2, #T_fa694_row3_col3 {\n",
       "  text-align: left;\n",
       "}\n",
       "</style>\n",
       "<table id=\"T_fa694\">\n",
       "  <thead>\n",
       "    <tr>\n",
       "      <th class=\"blank level0\" >&nbsp;</th>\n",
       "      <th id=\"T_fa694_level0_col0\" class=\"col_heading level0 col0\" >Request Count</th>\n",
       "      <th id=\"T_fa694_level0_col1\" class=\"col_heading level0 col1\" >Failure Count</th>\n",
       "      <th id=\"T_fa694_level0_col2\" class=\"col_heading level0 col2\" >Avg Response Time</th>\n",
       "      <th id=\"T_fa694_level0_col3\" class=\"col_heading level0 col3\" >Approx Std Dev</th>\n",
       "    </tr>\n",
       "  </thead>\n",
       "  <tbody>\n",
       "    <tr>\n",
       "      <th id=\"T_fa694_level0_row0\" class=\"row_heading level0 row0\" >sum</th>\n",
       "      <td id=\"T_fa694_row0_col0\" class=\"data row0 col0\" >139314.00</td>\n",
       "      <td id=\"T_fa694_row0_col1\" class=\"data row0 col1\" >296.00</td>\n",
       "      <td id=\"T_fa694_row0_col2\" class=\"data row0 col2\" ></td>\n",
       "      <td id=\"T_fa694_row0_col3\" class=\"data row0 col3\" ></td>\n",
       "    </tr>\n",
       "    <tr>\n",
       "      <th id=\"T_fa694_level0_row1\" class=\"row_heading level0 row1\" >mean</th>\n",
       "      <td id=\"T_fa694_row1_col0\" class=\"data row1 col0\" ></td>\n",
       "      <td id=\"T_fa694_row1_col1\" class=\"data row1 col1\" ></td>\n",
       "      <td id=\"T_fa694_row1_col2\" class=\"data row1 col2\" >771.18</td>\n",
       "      <td id=\"T_fa694_row1_col3\" class=\"data row1 col3\" >689.62</td>\n",
       "    </tr>\n",
       "    <tr>\n",
       "      <th id=\"T_fa694_level0_row2\" class=\"row_heading level0 row2\" >min</th>\n",
       "      <td id=\"T_fa694_row2_col0\" class=\"data row2 col0\" ></td>\n",
       "      <td id=\"T_fa694_row2_col1\" class=\"data row2 col1\" ></td>\n",
       "      <td id=\"T_fa694_row2_col2\" class=\"data row2 col2\" >11.42</td>\n",
       "      <td id=\"T_fa694_row2_col3\" class=\"data row2 col3\" >-103.69</td>\n",
       "    </tr>\n",
       "    <tr>\n",
       "      <th id=\"T_fa694_level0_row3\" class=\"row_heading level0 row3\" >max</th>\n",
       "      <td id=\"T_fa694_row3_col0\" class=\"data row3 col0\" ></td>\n",
       "      <td id=\"T_fa694_row3_col1\" class=\"data row3 col1\" ></td>\n",
       "      <td id=\"T_fa694_row3_col2\" class=\"data row3 col2\" >9289.89</td>\n",
       "      <td id=\"T_fa694_row3_col3\" class=\"data row3 col3\" >6160.95</td>\n",
       "    </tr>\n",
       "  </tbody>\n",
       "</table>\n"
      ],
      "text/plain": [
       "<IPython.core.display.HTML object>"
      ]
     },
     "metadata": {},
     "output_type": "display_data"
    },
    {
     "data": {
      "text/markdown": [
       "### Right Summary"
      ],
      "text/plain": [
       "<IPython.core.display.Markdown object>"
      ]
     },
     "metadata": {},
     "output_type": "display_data"
    },
    {
     "data": {
      "text/markdown": [
       "Directory: c:\\Simpat\\edfi\\Suite-3-Performance-Testing\\TestResults\\12Jun"
      ],
      "text/plain": [
       "<IPython.core.display.Markdown object>"
      ]
     },
     "metadata": {},
     "output_type": "display_data"
    },
    {
     "data": {
      "text/html": [
       "<style type=\"text/css\">\n",
       "#T_00a3d th {\n",
       "  text-align: left;\n",
       "}\n",
       "#T_00a3d_row0_col0, #T_00a3d_row0_col1, #T_00a3d_row0_col2, #T_00a3d_row0_col3, #T_00a3d_row1_col0, #T_00a3d_row1_col1, #T_00a3d_row1_col2, #T_00a3d_row1_col3, #T_00a3d_row2_col0, #T_00a3d_row2_col1, #T_00a3d_row2_col2, #T_00a3d_row2_col3, #T_00a3d_row3_col0, #T_00a3d_row3_col1, #T_00a3d_row3_col2, #T_00a3d_row3_col3 {\n",
       "  text-align: left;\n",
       "}\n",
       "</style>\n",
       "<table id=\"T_00a3d\">\n",
       "  <thead>\n",
       "    <tr>\n",
       "      <th class=\"blank level0\" >&nbsp;</th>\n",
       "      <th id=\"T_00a3d_level0_col0\" class=\"col_heading level0 col0\" >Request Count</th>\n",
       "      <th id=\"T_00a3d_level0_col1\" class=\"col_heading level0 col1\" >Failure Count</th>\n",
       "      <th id=\"T_00a3d_level0_col2\" class=\"col_heading level0 col2\" >Avg Response Time</th>\n",
       "      <th id=\"T_00a3d_level0_col3\" class=\"col_heading level0 col3\" >Approx Std Dev</th>\n",
       "    </tr>\n",
       "  </thead>\n",
       "  <tbody>\n",
       "    <tr>\n",
       "      <th id=\"T_00a3d_level0_row0\" class=\"row_heading level0 row0\" >sum</th>\n",
       "      <td id=\"T_00a3d_row0_col0\" class=\"data row0 col0\" >94.00</td>\n",
       "      <td id=\"T_00a3d_row0_col1\" class=\"data row0 col1\" >0.00</td>\n",
       "      <td id=\"T_00a3d_row0_col2\" class=\"data row0 col2\" ></td>\n",
       "      <td id=\"T_00a3d_row0_col3\" class=\"data row0 col3\" ></td>\n",
       "    </tr>\n",
       "    <tr>\n",
       "      <th id=\"T_00a3d_level0_row1\" class=\"row_heading level0 row1\" >mean</th>\n",
       "      <td id=\"T_00a3d_row1_col0\" class=\"data row1 col0\" ></td>\n",
       "      <td id=\"T_00a3d_row1_col1\" class=\"data row1 col1\" ></td>\n",
       "      <td id=\"T_00a3d_row1_col2\" class=\"data row1 col2\" >973.61</td>\n",
       "      <td id=\"T_00a3d_row1_col3\" class=\"data row1 col3\" >1083.20</td>\n",
       "    </tr>\n",
       "    <tr>\n",
       "      <th id=\"T_00a3d_level0_row2\" class=\"row_heading level0 row2\" >min</th>\n",
       "      <td id=\"T_00a3d_row2_col0\" class=\"data row2 col0\" ></td>\n",
       "      <td id=\"T_00a3d_row2_col1\" class=\"data row2 col1\" ></td>\n",
       "      <td id=\"T_00a3d_row2_col2\" class=\"data row2 col2\" >39.93</td>\n",
       "      <td id=\"T_00a3d_row2_col3\" class=\"data row2 col3\" >35.04</td>\n",
       "    </tr>\n",
       "    <tr>\n",
       "      <th id=\"T_00a3d_level0_row3\" class=\"row_heading level0 row3\" >max</th>\n",
       "      <td id=\"T_00a3d_row3_col0\" class=\"data row3 col0\" ></td>\n",
       "      <td id=\"T_00a3d_row3_col1\" class=\"data row3 col1\" ></td>\n",
       "      <td id=\"T_00a3d_row3_col2\" class=\"data row3 col2\" >2322.00</td>\n",
       "      <td id=\"T_00a3d_row3_col3\" class=\"data row3 col3\" >2822.70</td>\n",
       "    </tr>\n",
       "  </tbody>\n",
       "</table>\n"
      ],
      "text/plain": [
       "<IPython.core.display.HTML object>"
      ]
     },
     "metadata": {},
     "output_type": "display_data"
    },
    {
     "data": {
      "text/markdown": [
       "## Direct Comparison"
      ],
      "text/plain": [
       "<IPython.core.display.Markdown object>"
      ]
     },
     "metadata": {},
     "output_type": "display_data"
    },
    {
     "data": {
      "text/markdown": [
       "Hypothesis: the average response times for each request are the same in both sets."
      ],
      "text/plain": [
       "<IPython.core.display.Markdown object>"
      ]
     },
     "metadata": {},
     "output_type": "display_data"
    },
    {
     "data": {
      "text/markdown": [
       "### Worse"
      ],
      "text/plain": [
       "<IPython.core.display.Markdown object>"
      ]
     },
     "metadata": {},
     "output_type": "display_data"
    },
    {
     "data": {
      "text/markdown": [
       "95% confident that the response times are in fact different from on another, and the second data set is worse than the first data set."
      ],
      "text/plain": [
       "<IPython.core.display.Markdown object>"
      ]
     },
     "metadata": {},
     "output_type": "display_data"
    },
    {
     "data": {
      "text/markdown": [
       "❕ **No data to display**"
      ],
      "text/plain": [
       "<IPython.core.display.Markdown object>"
      ]
     },
     "metadata": {},
     "output_type": "display_data"
    },
    {
     "data": {
      "text/markdown": [
       "### Same"
      ],
      "text/plain": [
       "<IPython.core.display.Markdown object>"
      ]
     },
     "metadata": {},
     "output_type": "display_data"
    },
    {
     "data": {
      "text/markdown": [
       "95% confident that the response times are the same."
      ],
      "text/plain": [
       "<IPython.core.display.Markdown object>"
      ]
     },
     "metadata": {},
     "output_type": "display_data"
    },
    {
     "data": {
      "text/html": [
       "<style type=\"text/css\">\n",
       "#T_87ca3 th {\n",
       "  text-align: left;\n",
       "}\n",
       "#T_87ca3_row0_col0, #T_87ca3_row0_col1, #T_87ca3_row0_col2, #T_87ca3_row0_col3, #T_87ca3_row0_col4, #T_87ca3_row0_col5, #T_87ca3_row0_col6, #T_87ca3_row0_col7, #T_87ca3_row0_col8, #T_87ca3_row0_col9, #T_87ca3_row0_col10, #T_87ca3_row0_col11, #T_87ca3_row0_col12, #T_87ca3_row0_col13 {\n",
       "  text-align: left;\n",
       "}\n",
       "</style>\n",
       "<table id=\"T_87ca3\">\n",
       "  <thead>\n",
       "    <tr>\n",
       "      <th class=\"blank level0\" >&nbsp;</th>\n",
       "      <th id=\"T_87ca3_level0_col0\" class=\"col_heading level0 col0\" >Avg Response Time_l</th>\n",
       "      <th id=\"T_87ca3_level0_col1\" class=\"col_heading level0 col1\" >Request Count_l</th>\n",
       "      <th id=\"T_87ca3_level0_col2\" class=\"col_heading level0 col2\" >Failure Count_l</th>\n",
       "      <th id=\"T_87ca3_level0_col3\" class=\"col_heading level0 col3\" >Approx Std Dev_l</th>\n",
       "      <th id=\"T_87ca3_level0_col4\" class=\"col_heading level0 col4\" >Min Response Time_l</th>\n",
       "      <th id=\"T_87ca3_level0_col5\" class=\"col_heading level0 col5\" >Max Response Time_l</th>\n",
       "      <th id=\"T_87ca3_level0_col6\" class=\"col_heading level0 col6\" >Avg Response Time_r</th>\n",
       "      <th id=\"T_87ca3_level0_col7\" class=\"col_heading level0 col7\" >Request Count_r</th>\n",
       "      <th id=\"T_87ca3_level0_col8\" class=\"col_heading level0 col8\" >Failure Count_r</th>\n",
       "      <th id=\"T_87ca3_level0_col9\" class=\"col_heading level0 col9\" >Approx Std Dev_r</th>\n",
       "      <th id=\"T_87ca3_level0_col10\" class=\"col_heading level0 col10\" >Min Response Time_r</th>\n",
       "      <th id=\"T_87ca3_level0_col11\" class=\"col_heading level0 col11\" >Max Response Time_r</th>\n",
       "      <th id=\"T_87ca3_level0_col12\" class=\"col_heading level0 col12\" >diff</th>\n",
       "      <th id=\"T_87ca3_level0_col13\" class=\"col_heading level0 col13\" >T p-value</th>\n",
       "    </tr>\n",
       "    <tr>\n",
       "      <th class=\"index_name level0\" >Request</th>\n",
       "      <th class=\"blank col0\" >&nbsp;</th>\n",
       "      <th class=\"blank col1\" >&nbsp;</th>\n",
       "      <th class=\"blank col2\" >&nbsp;</th>\n",
       "      <th class=\"blank col3\" >&nbsp;</th>\n",
       "      <th class=\"blank col4\" >&nbsp;</th>\n",
       "      <th class=\"blank col5\" >&nbsp;</th>\n",
       "      <th class=\"blank col6\" >&nbsp;</th>\n",
       "      <th class=\"blank col7\" >&nbsp;</th>\n",
       "      <th class=\"blank col8\" >&nbsp;</th>\n",
       "      <th class=\"blank col9\" >&nbsp;</th>\n",
       "      <th class=\"blank col10\" >&nbsp;</th>\n",
       "      <th class=\"blank col11\" >&nbsp;</th>\n",
       "      <th class=\"blank col12\" >&nbsp;</th>\n",
       "      <th class=\"blank col13\" >&nbsp;</th>\n",
       "    </tr>\n",
       "  </thead>\n",
       "  <tbody>\n",
       "    <tr>\n",
       "      <th id=\"T_87ca3_level0_row0\" class=\"row_heading level0 row0\" >PUT /data/v3/ed-fi/schools/{id}</th>\n",
       "      <td id=\"T_87ca3_row0_col0\" class=\"data row0 col0\" >34.59</td>\n",
       "      <td id=\"T_87ca3_row0_col1\" class=\"data row0 col1\" >190</td>\n",
       "      <td id=\"T_87ca3_row0_col2\" class=\"data row0 col2\" >0</td>\n",
       "      <td id=\"T_87ca3_row0_col3\" class=\"data row0 col3\" >1.70</td>\n",
       "      <td id=\"T_87ca3_row0_col4\" class=\"data row0 col4\" >13</td>\n",
       "      <td id=\"T_87ca3_row0_col5\" class=\"data row0 col5\" >1424</td>\n",
       "      <td id=\"T_87ca3_row0_col6\" class=\"data row0 col6\" >46.50</td>\n",
       "      <td id=\"T_87ca3_row0_col7\" class=\"data row0 col7\" >12</td>\n",
       "      <td id=\"T_87ca3_row0_col8\" class=\"data row0 col8\" >0</td>\n",
       "      <td id=\"T_87ca3_row0_col9\" class=\"data row0 col9\" >71.75</td>\n",
       "      <td id=\"T_87ca3_row0_col10\" class=\"data row0 col10\" >15</td>\n",
       "      <td id=\"T_87ca3_row0_col11\" class=\"data row0 col11\" >194</td>\n",
       "      <td id=\"T_87ca3_row0_col12\" class=\"data row0 col12\" >-11.91</td>\n",
       "      <td id=\"T_87ca3_row0_col13\" class=\"data row0 col13\" >0.58</td>\n",
       "    </tr>\n",
       "  </tbody>\n",
       "</table>\n"
      ],
      "text/plain": [
       "<IPython.core.display.HTML object>"
      ]
     },
     "metadata": {},
     "output_type": "display_data"
    },
    {
     "data": {
      "text/markdown": [
       "### Better"
      ],
      "text/plain": [
       "<IPython.core.display.Markdown object>"
      ]
     },
     "metadata": {},
     "output_type": "display_data"
    },
    {
     "data": {
      "text/markdown": [
       "95% confident that the response times are in fact different from on another, and the second data set is better than the first data set."
      ],
      "text/plain": [
       "<IPython.core.display.Markdown object>"
      ]
     },
     "metadata": {},
     "output_type": "display_data"
    },
    {
     "data": {
      "text/html": [
       "<style type=\"text/css\">\n",
       "#T_e8886 th {\n",
       "  text-align: left;\n",
       "}\n",
       "#T_e8886_row0_col0, #T_e8886_row0_col1, #T_e8886_row0_col2, #T_e8886_row0_col3, #T_e8886_row0_col4, #T_e8886_row0_col5, #T_e8886_row0_col6, #T_e8886_row0_col7, #T_e8886_row0_col8, #T_e8886_row0_col9, #T_e8886_row0_col10, #T_e8886_row0_col11, #T_e8886_row0_col12, #T_e8886_row0_col13, #T_e8886_row1_col0, #T_e8886_row1_col1, #T_e8886_row1_col2, #T_e8886_row1_col3, #T_e8886_row1_col4, #T_e8886_row1_col5, #T_e8886_row1_col6, #T_e8886_row1_col7, #T_e8886_row1_col8, #T_e8886_row1_col9, #T_e8886_row1_col10, #T_e8886_row1_col11, #T_e8886_row1_col12, #T_e8886_row1_col13, #T_e8886_row2_col0, #T_e8886_row2_col1, #T_e8886_row2_col2, #T_e8886_row2_col3, #T_e8886_row2_col4, #T_e8886_row2_col5, #T_e8886_row2_col6, #T_e8886_row2_col7, #T_e8886_row2_col8, #T_e8886_row2_col9, #T_e8886_row2_col10, #T_e8886_row2_col11, #T_e8886_row2_col12, #T_e8886_row2_col13 {\n",
       "  text-align: left;\n",
       "}\n",
       "</style>\n",
       "<table id=\"T_e8886\">\n",
       "  <thead>\n",
       "    <tr>\n",
       "      <th class=\"blank level0\" >&nbsp;</th>\n",
       "      <th id=\"T_e8886_level0_col0\" class=\"col_heading level0 col0\" >Avg Response Time_l</th>\n",
       "      <th id=\"T_e8886_level0_col1\" class=\"col_heading level0 col1\" >Request Count_l</th>\n",
       "      <th id=\"T_e8886_level0_col2\" class=\"col_heading level0 col2\" >Failure Count_l</th>\n",
       "      <th id=\"T_e8886_level0_col3\" class=\"col_heading level0 col3\" >Approx Std Dev_l</th>\n",
       "      <th id=\"T_e8886_level0_col4\" class=\"col_heading level0 col4\" >Min Response Time_l</th>\n",
       "      <th id=\"T_e8886_level0_col5\" class=\"col_heading level0 col5\" >Max Response Time_l</th>\n",
       "      <th id=\"T_e8886_level0_col6\" class=\"col_heading level0 col6\" >Avg Response Time_r</th>\n",
       "      <th id=\"T_e8886_level0_col7\" class=\"col_heading level0 col7\" >Request Count_r</th>\n",
       "      <th id=\"T_e8886_level0_col8\" class=\"col_heading level0 col8\" >Failure Count_r</th>\n",
       "      <th id=\"T_e8886_level0_col9\" class=\"col_heading level0 col9\" >Approx Std Dev_r</th>\n",
       "      <th id=\"T_e8886_level0_col10\" class=\"col_heading level0 col10\" >Min Response Time_r</th>\n",
       "      <th id=\"T_e8886_level0_col11\" class=\"col_heading level0 col11\" >Max Response Time_r</th>\n",
       "      <th id=\"T_e8886_level0_col12\" class=\"col_heading level0 col12\" >diff</th>\n",
       "      <th id=\"T_e8886_level0_col13\" class=\"col_heading level0 col13\" >T p-value</th>\n",
       "    </tr>\n",
       "    <tr>\n",
       "      <th class=\"index_name level0\" >Request</th>\n",
       "      <th class=\"blank col0\" >&nbsp;</th>\n",
       "      <th class=\"blank col1\" >&nbsp;</th>\n",
       "      <th class=\"blank col2\" >&nbsp;</th>\n",
       "      <th class=\"blank col3\" >&nbsp;</th>\n",
       "      <th class=\"blank col4\" >&nbsp;</th>\n",
       "      <th class=\"blank col5\" >&nbsp;</th>\n",
       "      <th class=\"blank col6\" >&nbsp;</th>\n",
       "      <th class=\"blank col7\" >&nbsp;</th>\n",
       "      <th class=\"blank col8\" >&nbsp;</th>\n",
       "      <th class=\"blank col9\" >&nbsp;</th>\n",
       "      <th class=\"blank col10\" >&nbsp;</th>\n",
       "      <th class=\"blank col11\" >&nbsp;</th>\n",
       "      <th class=\"blank col12\" >&nbsp;</th>\n",
       "      <th class=\"blank col13\" >&nbsp;</th>\n",
       "    </tr>\n",
       "  </thead>\n",
       "  <tbody>\n",
       "    <tr>\n",
       "      <th id=\"T_e8886_level0_row0\" class=\"row_heading level0 row0\" >POST /data/v3/ed-fi/schools</th>\n",
       "      <td id=\"T_e8886_row0_col0\" class=\"data row0 col0\" >6676.11</td>\n",
       "      <td id=\"T_e8886_row0_col1\" class=\"data row0 col1\" >591</td>\n",
       "      <td id=\"T_e8886_row0_col2\" class=\"data row0 col2\" >0</td>\n",
       "      <td id=\"T_e8886_row0_col3\" class=\"data row0 col3\" >4661.95</td>\n",
       "      <td id=\"T_e8886_row0_col4\" class=\"data row0 col4\" >15</td>\n",
       "      <td id=\"T_e8886_row0_col5\" class=\"data row0 col5\" >21961</td>\n",
       "      <td id=\"T_e8886_row0_col6\" class=\"data row0 col6\" >1354.60</td>\n",
       "      <td id=\"T_e8886_row0_col7\" class=\"data row0 col7\" >15</td>\n",
       "      <td id=\"T_e8886_row0_col8\" class=\"data row0 col8\" >0</td>\n",
       "      <td id=\"T_e8886_row0_col9\" class=\"data row0 col9\" >2822.70</td>\n",
       "      <td id=\"T_e8886_row0_col10\" class=\"data row0 col10\" >18</td>\n",
       "      <td id=\"T_e8886_row0_col11\" class=\"data row0 col11\" >7022</td>\n",
       "      <td id=\"T_e8886_row0_col12\" class=\"data row0 col12\" >5321.51</td>\n",
       "      <td id=\"T_e8886_row0_col13\" class=\"data row0 col13\" >0.00</td>\n",
       "    </tr>\n",
       "    <tr>\n",
       "      <th id=\"T_e8886_level0_row1\" class=\"row_heading level0 row1\" >DELETE /data/v3/ed-fi/schools/{id}</th>\n",
       "      <td id=\"T_e8886_row1_col0\" class=\"data row1 col0\" >63.84</td>\n",
       "      <td id=\"T_e8886_row1_col1\" class=\"data row1 col1\" >589</td>\n",
       "      <td id=\"T_e8886_row1_col2\" class=\"data row1 col2\" >1</td>\n",
       "      <td id=\"T_e8886_row1_col3\" class=\"data row1 col3\" >28.08</td>\n",
       "      <td id=\"T_e8886_row1_col4\" class=\"data row1 col4\" >12</td>\n",
       "      <td id=\"T_e8886_row1_col5\" class=\"data row1 col5\" >3042</td>\n",
       "      <td id=\"T_e8886_row1_col6\" class=\"data row1 col6\" >39.93</td>\n",
       "      <td id=\"T_e8886_row1_col7\" class=\"data row1 col7\" >14</td>\n",
       "      <td id=\"T_e8886_row1_col8\" class=\"data row1 col8\" >0</td>\n",
       "      <td id=\"T_e8886_row1_col9\" class=\"data row1 col9\" >35.04</td>\n",
       "      <td id=\"T_e8886_row1_col10\" class=\"data row1 col10\" >13</td>\n",
       "      <td id=\"T_e8886_row1_col11\" class=\"data row1 col11\" >108</td>\n",
       "      <td id=\"T_e8886_row1_col12\" class=\"data row1 col12\" >23.91</td>\n",
       "      <td id=\"T_e8886_row1_col13\" class=\"data row1 col13\" >0.02</td>\n",
       "    </tr>\n",
       "    <tr>\n",
       "      <th id=\"T_e8886_level0_row2\" class=\"row_heading level0 row2\" >post /oauth/token/</th>\n",
       "      <td id=\"T_e8886_row2_col0\" class=\"data row2 col0\" >1511.42</td>\n",
       "      <td id=\"T_e8886_row2_col1\" class=\"data row2 col1\" >50</td>\n",
       "      <td id=\"T_e8886_row2_col2\" class=\"data row2 col2\" >0</td>\n",
       "      <td id=\"T_e8886_row2_col3\" class=\"data row2 col3\" >344.29</td>\n",
       "      <td id=\"T_e8886_row2_col4\" class=\"data row2 col4\" >1208</td>\n",
       "      <td id=\"T_e8886_row2_col5\" class=\"data row2 col5\" >2158</td>\n",
       "      <td id=\"T_e8886_row2_col6\" class=\"data row2 col6\" >1105.02</td>\n",
       "      <td id=\"T_e8886_row2_col7\" class=\"data row2 col7\" >50</td>\n",
       "      <td id=\"T_e8886_row2_col8\" class=\"data row2 col8\" >0</td>\n",
       "      <td id=\"T_e8886_row2_col9\" class=\"data row2 col9\" >197.49</td>\n",
       "      <td id=\"T_e8886_row2_col10\" class=\"data row2 col10\" >622</td>\n",
       "      <td id=\"T_e8886_row2_col11\" class=\"data row2 col11\" >1506</td>\n",
       "      <td id=\"T_e8886_row2_col12\" class=\"data row2 col12\" >406.40</td>\n",
       "      <td id=\"T_e8886_row2_col13\" class=\"data row2 col13\" >0.00</td>\n",
       "    </tr>\n",
       "  </tbody>\n",
       "</table>\n"
      ],
      "text/plain": [
       "<IPython.core.display.HTML object>"
      ]
     },
     "metadata": {},
     "output_type": "display_data"
    },
    {
     "data": {
      "text/markdown": [
       "### Too Few Data Points"
      ],
      "text/plain": [
       "<IPython.core.display.Markdown object>"
      ]
     },
     "metadata": {},
     "output_type": "display_data"
    },
    {
     "data": {
      "text/markdown": [
       "There were < 30 data points for the following, therefore could not perform a T-Test to statistically compare the distributions."
      ],
      "text/plain": [
       "<IPython.core.display.Markdown object>"
      ]
     },
     "metadata": {},
     "output_type": "display_data"
    },
    {
     "data": {
      "text/html": [
       "<style type=\"text/css\">\n",
       "#T_e7567 th {\n",
       "  text-align: left;\n",
       "}\n",
       "#T_e7567_row0_col0, #T_e7567_row0_col1, #T_e7567_row0_col2, #T_e7567_row0_col3, #T_e7567_row0_col4, #T_e7567_row0_col5, #T_e7567_row0_col6, #T_e7567_row0_col7, #T_e7567_row0_col8, #T_e7567_row0_col9, #T_e7567_row0_col10, #T_e7567_row0_col11, #T_e7567_row0_col12 {\n",
       "  text-align: left;\n",
       "}\n",
       "</style>\n",
       "<table id=\"T_e7567\">\n",
       "  <thead>\n",
       "    <tr>\n",
       "      <th class=\"blank level0\" >&nbsp;</th>\n",
       "      <th id=\"T_e7567_level0_col0\" class=\"col_heading level0 col0\" >Avg Response Time_l</th>\n",
       "      <th id=\"T_e7567_level0_col1\" class=\"col_heading level0 col1\" >Request Count_l</th>\n",
       "      <th id=\"T_e7567_level0_col2\" class=\"col_heading level0 col2\" >Failure Count_l</th>\n",
       "      <th id=\"T_e7567_level0_col3\" class=\"col_heading level0 col3\" >Approx Std Dev_l</th>\n",
       "      <th id=\"T_e7567_level0_col4\" class=\"col_heading level0 col4\" >Min Response Time_l</th>\n",
       "      <th id=\"T_e7567_level0_col5\" class=\"col_heading level0 col5\" >Max Response Time_l</th>\n",
       "      <th id=\"T_e7567_level0_col6\" class=\"col_heading level0 col6\" >Avg Response Time_r</th>\n",
       "      <th id=\"T_e7567_level0_col7\" class=\"col_heading level0 col7\" >Request Count_r</th>\n",
       "      <th id=\"T_e7567_level0_col8\" class=\"col_heading level0 col8\" >Failure Count_r</th>\n",
       "      <th id=\"T_e7567_level0_col9\" class=\"col_heading level0 col9\" >Approx Std Dev_r</th>\n",
       "      <th id=\"T_e7567_level0_col10\" class=\"col_heading level0 col10\" >Min Response Time_r</th>\n",
       "      <th id=\"T_e7567_level0_col11\" class=\"col_heading level0 col11\" >Max Response Time_r</th>\n",
       "      <th id=\"T_e7567_level0_col12\" class=\"col_heading level0 col12\" >diff</th>\n",
       "    </tr>\n",
       "    <tr>\n",
       "      <th class=\"index_name level0\" >Request</th>\n",
       "      <th class=\"blank col0\" >&nbsp;</th>\n",
       "      <th class=\"blank col1\" >&nbsp;</th>\n",
       "      <th class=\"blank col2\" >&nbsp;</th>\n",
       "      <th class=\"blank col3\" >&nbsp;</th>\n",
       "      <th class=\"blank col4\" >&nbsp;</th>\n",
       "      <th class=\"blank col5\" >&nbsp;</th>\n",
       "      <th class=\"blank col6\" >&nbsp;</th>\n",
       "      <th class=\"blank col7\" >&nbsp;</th>\n",
       "      <th class=\"blank col8\" >&nbsp;</th>\n",
       "      <th class=\"blank col9\" >&nbsp;</th>\n",
       "      <th class=\"blank col10\" >&nbsp;</th>\n",
       "      <th class=\"blank col11\" >&nbsp;</th>\n",
       "      <th class=\"blank col12\" >&nbsp;</th>\n",
       "    </tr>\n",
       "  </thead>\n",
       "  <tbody>\n",
       "    <tr>\n",
       "      <th id=\"T_e7567_level0_row0\" class=\"row_heading level0 row0\" >GET /data/v3/ed-fi/localEducationAgencies</th>\n",
       "      <td id=\"T_e7567_row0_col0\" class=\"data row0 col0\" >3049.50</td>\n",
       "      <td id=\"T_e7567_row0_col1\" class=\"data row0 col1\" >2</td>\n",
       "      <td id=\"T_e7567_row0_col2\" class=\"data row0 col2\" >0</td>\n",
       "      <td id=\"T_e7567_row0_col3\" class=\"data row0 col3\" >1525.25</td>\n",
       "      <td id=\"T_e7567_row0_col4\" class=\"data row0 col4\" >14</td>\n",
       "      <td id=\"T_e7567_row0_col5\" class=\"data row0 col5\" >6085</td>\n",
       "      <td id=\"T_e7567_row0_col6\" class=\"data row0 col6\" >2322.00</td>\n",
       "      <td id=\"T_e7567_row0_col7\" class=\"data row0 col7\" >3</td>\n",
       "      <td id=\"T_e7567_row0_col8\" class=\"data row0 col8\" >0</td>\n",
       "      <td id=\"T_e7567_row0_col9\" class=\"data row0 col9\" >2289.00</td>\n",
       "      <td id=\"T_e7567_row0_col10\" class=\"data row0 col10\" >16</td>\n",
       "      <td id=\"T_e7567_row0_col11\" class=\"data row0 col11\" >6930</td>\n",
       "      <td id=\"T_e7567_row0_col12\" class=\"data row0 col12\" >727.50</td>\n",
       "    </tr>\n",
       "  </tbody>\n",
       "</table>\n"
      ],
      "text/plain": [
       "<IPython.core.display.HTML object>"
      ]
     },
     "metadata": {},
     "output_type": "display_data"
    }
   ],
   "source": [
    "run_comparison(results_dir, df_stats, compare_dir)"
   ]
  }
 ],
 "metadata": {
  "kernelspec": {
   "display_name": "Python 3 (ipykernel)",
   "language": "python",
   "name": "python3"
  },
  "language_info": {
   "codemirror_mode": {
    "name": "ipython",
    "version": 3
   },
   "file_extension": ".py",
   "mimetype": "text/x-python",
   "name": "python",
   "nbconvert_exporter": "python",
   "pygments_lexer": "ipython3",
   "version": "3.10.11"
  }
 },
 "nbformat": 4,
 "nbformat_minor": 5
}
