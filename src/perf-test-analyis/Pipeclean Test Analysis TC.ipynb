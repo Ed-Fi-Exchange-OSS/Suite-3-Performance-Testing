{
 "cells": [
  {
   "attachments": {},
   "cell_type": "markdown",
   "id": "fb2bb02e",
   "metadata": {},
   "source": [
    "# Pipeclean Test Analysis\n",
    "\n",
    "Run the cell below. It will prompt you for which directory to access with the pipeclean test results to analyze."
   ]
  },
  {
   "cell_type": "code",
   "execution_count": 1,
   "id": "b9d01cdd",
   "metadata": {},
   "outputs": [],
   "source": [
    "from edfi_perf_test_analysis.ui_helpers import get_result_directory\n",
    "default_dir, compare_dir = get_result_directory()"
   ]
  },
  {
   "cell_type": "code",
   "execution_count": 2,
   "id": "b57c0f0c",
   "metadata": {},
   "outputs": [
    {
     "data": {
      "text/markdown": [
       "✅ **Running analysis on c:\\Simpat\\edfi\\Suite-3-Performance-Testing\\TestResults\\26MayP**"
      ],
      "text/plain": [
       "<IPython.core.display.Markdown object>"
      ]
     },
     "metadata": {},
     "output_type": "display_data"
    },
    {
     "data": {
      "text/markdown": [
       "### Exceptions"
      ],
      "text/plain": [
       "<IPython.core.display.Markdown object>"
      ]
     },
     "metadata": {},
     "output_type": "display_data"
    },
    {
     "data": {
      "text/markdown": [
       "First five exceptions"
      ],
      "text/plain": [
       "<IPython.core.display.Markdown object>"
      ]
     },
     "metadata": {},
     "output_type": "display_data"
    },
    {
     "data": {
      "text/markdown": [
       "❕ **No data to display**"
      ],
      "text/plain": [
       "<IPython.core.display.Markdown object>"
      ]
     },
     "metadata": {},
     "output_type": "display_data"
    },
    {
     "data": {
      "text/markdown": [
       "### Failures"
      ],
      "text/plain": [
       "<IPython.core.display.Markdown object>"
      ]
     },
     "metadata": {},
     "output_type": "display_data"
    },
    {
     "data": {
      "text/markdown": [
       "First ten failures"
      ],
      "text/plain": [
       "<IPython.core.display.Markdown object>"
      ]
     },
     "metadata": {},
     "output_type": "display_data"
    },
    {
     "data": {
      "text/html": [
       "<style type=\"text/css\">\n",
       "#T_3c4ef th {\n",
       "  text-align: left;\n",
       "}\n",
       "#T_3c4ef_row0_col0, #T_3c4ef_row0_col1, #T_3c4ef_row0_col2, #T_3c4ef_row0_col3, #T_3c4ef_row1_col0, #T_3c4ef_row1_col1, #T_3c4ef_row1_col2, #T_3c4ef_row1_col3, #T_3c4ef_row2_col0, #T_3c4ef_row2_col1, #T_3c4ef_row2_col2, #T_3c4ef_row2_col3, #T_3c4ef_row3_col0, #T_3c4ef_row3_col1, #T_3c4ef_row3_col2, #T_3c4ef_row3_col3, #T_3c4ef_row4_col0, #T_3c4ef_row4_col1, #T_3c4ef_row4_col2, #T_3c4ef_row4_col3, #T_3c4ef_row5_col0, #T_3c4ef_row5_col1, #T_3c4ef_row5_col2, #T_3c4ef_row5_col3, #T_3c4ef_row6_col0, #T_3c4ef_row6_col1, #T_3c4ef_row6_col2, #T_3c4ef_row6_col3, #T_3c4ef_row7_col0, #T_3c4ef_row7_col1, #T_3c4ef_row7_col2, #T_3c4ef_row7_col3, #T_3c4ef_row8_col0, #T_3c4ef_row8_col1, #T_3c4ef_row8_col2, #T_3c4ef_row8_col3, #T_3c4ef_row9_col0, #T_3c4ef_row9_col1, #T_3c4ef_row9_col2, #T_3c4ef_row9_col3 {\n",
       "  text-align: left;\n",
       "}\n",
       "</style>\n",
       "<table id=\"T_3c4ef\">\n",
       "  <thead>\n",
       "    <tr>\n",
       "      <th class=\"blank level0\" >&nbsp;</th>\n",
       "      <th id=\"T_3c4ef_level0_col0\" class=\"col_heading level0 col0\" >Method</th>\n",
       "      <th id=\"T_3c4ef_level0_col1\" class=\"col_heading level0 col1\" >Name</th>\n",
       "      <th id=\"T_3c4ef_level0_col2\" class=\"col_heading level0 col2\" >Error</th>\n",
       "      <th id=\"T_3c4ef_level0_col3\" class=\"col_heading level0 col3\" >Occurrences</th>\n",
       "    </tr>\n",
       "  </thead>\n",
       "  <tbody>\n",
       "    <tr>\n",
       "      <th id=\"T_3c4ef_level0_row0\" class=\"row_heading level0 row0\" >0</th>\n",
       "      <td id=\"T_3c4ef_row0_col0\" class=\"data row0 col0\" >GET</td>\n",
       "      <td id=\"T_3c4ef_row0_col1\" class=\"data row0 col1\" >/data/v3/ed-fi/contractedStaffs</td>\n",
       "      <td id=\"T_3c4ef_row0_col2\" class=\"data row0 col2\" >HTTPError('404 Client Error: Not Found for url: /data/v3/ed-fi/contractedStaffs')</td>\n",
       "      <td id=\"T_3c4ef_row0_col3\" class=\"data row0 col3\" >1</td>\n",
       "    </tr>\n",
       "    <tr>\n",
       "      <th id=\"T_3c4ef_level0_row1\" class=\"row_heading level0 row1\" >1</th>\n",
       "      <td id=\"T_3c4ef_row1_col0\" class=\"data row1 col0\" >POST</td>\n",
       "      <td id=\"T_3c4ef_row1_col1\" class=\"data row1 col1\" >/data/v3/ed-fi/contractedStaffs</td>\n",
       "      <td id=\"T_3c4ef_row1_col2\" class=\"data row1 col2\" >HTTPError('404 Client Error: Not Found for url: /data/v3/ed-fi/contractedStaffs')</td>\n",
       "      <td id=\"T_3c4ef_row1_col3\" class=\"data row1 col3\" >1</td>\n",
       "    </tr>\n",
       "    <tr>\n",
       "      <th id=\"T_3c4ef_level0_row2\" class=\"row_heading level0 row2\" >2</th>\n",
       "      <td id=\"T_3c4ef_row2_col0\" class=\"data row2 col0\" >POST</td>\n",
       "      <td id=\"T_3c4ef_row2_col1\" class=\"data row2 col1\" >/data/v3/ed-fi/payrolls</td>\n",
       "      <td id=\"T_3c4ef_row2_col2\" class=\"data row2 col2\" >HTTPError('404 Client Error: Not Found for url: /data/v3/ed-fi/payrolls')</td>\n",
       "      <td id=\"T_3c4ef_row2_col3\" class=\"data row2 col3\" >1</td>\n",
       "    </tr>\n",
       "    <tr>\n",
       "      <th id=\"T_3c4ef_level0_row3\" class=\"row_heading level0 row3\" >3</th>\n",
       "      <td id=\"T_3c4ef_row3_col0\" class=\"data row3 col0\" >POST</td>\n",
       "      <td id=\"T_3c4ef_row3_col1\" class=\"data row3 col1\" >/data/v3/ed-fi/accountClassificationDescriptors</td>\n",
       "      <td id=\"T_3c4ef_row3_col2\" class=\"data row3 col2\" >HTTPError('404 Client Error: Not Found for url: /data/v3/ed-fi/accountClassificationDescriptors')</td>\n",
       "      <td id=\"T_3c4ef_row3_col3\" class=\"data row3 col3\" >1</td>\n",
       "    </tr>\n",
       "    <tr>\n",
       "      <th id=\"T_3c4ef_level0_row4\" class=\"row_heading level0 row4\" >4</th>\n",
       "      <td id=\"T_3c4ef_row4_col0\" class=\"data row4 col0\" >POST</td>\n",
       "      <td id=\"T_3c4ef_row4_col1\" class=\"data row4 col1\" >/data/v3/ed-fi/accountCodes</td>\n",
       "      <td id=\"T_3c4ef_row4_col2\" class=\"data row4 col2\" >HTTPError('404 Client Error: Not Found for url: /data/v3/ed-fi/accountCodes')</td>\n",
       "      <td id=\"T_3c4ef_row4_col3\" class=\"data row4 col3\" >6</td>\n",
       "    </tr>\n",
       "    <tr>\n",
       "      <th id=\"T_3c4ef_level0_row5\" class=\"row_heading level0 row5\" >5</th>\n",
       "      <td id=\"T_3c4ef_row5_col0\" class=\"data row5 col0\" >POST</td>\n",
       "      <td id=\"T_3c4ef_row5_col1\" class=\"data row5 col1\" >/data/v3/ed-fi/actuals</td>\n",
       "      <td id=\"T_3c4ef_row5_col2\" class=\"data row5 col2\" >HTTPError('404 Client Error: Not Found for url: /data/v3/ed-fi/actuals')</td>\n",
       "      <td id=\"T_3c4ef_row5_col3\" class=\"data row5 col3\" >1</td>\n",
       "    </tr>\n",
       "    <tr>\n",
       "      <th id=\"T_3c4ef_level0_row6\" class=\"row_heading level0 row6\" >6</th>\n",
       "      <td id=\"T_3c4ef_row6_col0\" class=\"data row6 col0\" >GET</td>\n",
       "      <td id=\"T_3c4ef_row6_col1\" class=\"data row6 col1\" >/data/v3/ed-fi/accountCodes</td>\n",
       "      <td id=\"T_3c4ef_row6_col2\" class=\"data row6 col2\" >HTTPError('404 Client Error: Not Found for url: /data/v3/ed-fi/accountCodes')</td>\n",
       "      <td id=\"T_3c4ef_row6_col3\" class=\"data row6 col3\" >1</td>\n",
       "    </tr>\n",
       "    <tr>\n",
       "      <th id=\"T_3c4ef_level0_row7\" class=\"row_heading level0 row7\" >7</th>\n",
       "      <td id=\"T_3c4ef_row7_col0\" class=\"data row7 col0\" >POST</td>\n",
       "      <td id=\"T_3c4ef_row7_col1\" class=\"data row7 col1\" >/data/v3/ed-fi/studentGradebookEntries</td>\n",
       "      <td id=\"T_3c4ef_row7_col2\" class=\"data row7 col2\" >HTTPError('409 Client Error: Conflict for url: /data/v3/ed-fi/studentGradebookEntries')</td>\n",
       "      <td id=\"T_3c4ef_row7_col3\" class=\"data row7 col3\" >1</td>\n",
       "    </tr>\n",
       "    <tr>\n",
       "      <th id=\"T_3c4ef_level0_row8\" class=\"row_heading level0 row8\" >8</th>\n",
       "      <td id=\"T_3c4ef_row8_col0\" class=\"data row8 col0\" >GET</td>\n",
       "      <td id=\"T_3c4ef_row8_col1\" class=\"data row8 col1\" >/data/v3/ed-fi/accountClassificationDescriptors</td>\n",
       "      <td id=\"T_3c4ef_row8_col2\" class=\"data row8 col2\" >HTTPError('404 Client Error: Not Found for url: /data/v3/ed-fi/accountClassificationDescriptors')</td>\n",
       "      <td id=\"T_3c4ef_row8_col3\" class=\"data row8 col3\" >1</td>\n",
       "    </tr>\n",
       "    <tr>\n",
       "      <th id=\"T_3c4ef_level0_row9\" class=\"row_heading level0 row9\" >9</th>\n",
       "      <td id=\"T_3c4ef_row9_col0\" class=\"data row9 col0\" >GET</td>\n",
       "      <td id=\"T_3c4ef_row9_col1\" class=\"data row9 col1\" >/data/v3/ed-fi/budgets</td>\n",
       "      <td id=\"T_3c4ef_row9_col2\" class=\"data row9 col2\" >HTTPError('404 Client Error: Not Found for url: /data/v3/ed-fi/budgets')</td>\n",
       "      <td id=\"T_3c4ef_row9_col3\" class=\"data row9 col3\" >1</td>\n",
       "    </tr>\n",
       "    <tr>\n",
       "      <th class=\"row_heading level0 row_trim\" >...</th>\n",
       "      <td class=\"data col0 row_trim\" >...</td>\n",
       "      <td class=\"data col1 row_trim\" >...</td>\n",
       "      <td class=\"data col2 row_trim\" >...</td>\n",
       "      <td class=\"data col3 row_trim\" >...</td>\n",
       "    </tr>\n",
       "  </tbody>\n",
       "</table>\n"
      ],
      "text/plain": [
       "<IPython.core.display.HTML object>"
      ]
     },
     "metadata": {},
     "output_type": "display_data"
    },
    {
     "data": {
      "text/markdown": [
       "### Summary Stats"
      ],
      "text/plain": [
       "<IPython.core.display.Markdown object>"
      ]
     },
     "metadata": {},
     "output_type": "display_data"
    },
    {
     "data": {
      "text/html": [
       "<style type=\"text/css\">\n",
       "#T_5fe7e th {\n",
       "  text-align: left;\n",
       "}\n",
       "#T_5fe7e_row0_col0, #T_5fe7e_row0_col1, #T_5fe7e_row0_col2, #T_5fe7e_row0_col3, #T_5fe7e_row1_col0, #T_5fe7e_row1_col1, #T_5fe7e_row1_col2, #T_5fe7e_row1_col3, #T_5fe7e_row2_col0, #T_5fe7e_row2_col1, #T_5fe7e_row2_col2, #T_5fe7e_row2_col3, #T_5fe7e_row3_col0, #T_5fe7e_row3_col1, #T_5fe7e_row3_col2, #T_5fe7e_row3_col3 {\n",
       "  text-align: left;\n",
       "}\n",
       "</style>\n",
       "<table id=\"T_5fe7e\">\n",
       "  <thead>\n",
       "    <tr>\n",
       "      <th class=\"blank level0\" >&nbsp;</th>\n",
       "      <th id=\"T_5fe7e_level0_col0\" class=\"col_heading level0 col0\" >Request Count</th>\n",
       "      <th id=\"T_5fe7e_level0_col1\" class=\"col_heading level0 col1\" >Failure Count</th>\n",
       "      <th id=\"T_5fe7e_level0_col2\" class=\"col_heading level0 col2\" >Avg Response Time</th>\n",
       "      <th id=\"T_5fe7e_level0_col3\" class=\"col_heading level0 col3\" >Approx Std Dev</th>\n",
       "    </tr>\n",
       "  </thead>\n",
       "  <tbody>\n",
       "    <tr>\n",
       "      <th id=\"T_5fe7e_level0_row0\" class=\"row_heading level0 row0\" >sum</th>\n",
       "      <td id=\"T_5fe7e_row0_col0\" class=\"data row0 col0\" >1567.00</td>\n",
       "      <td id=\"T_5fe7e_row0_col1\" class=\"data row0 col1\" >27.00</td>\n",
       "      <td id=\"T_5fe7e_row0_col2\" class=\"data row0 col2\" ></td>\n",
       "      <td id=\"T_5fe7e_row0_col3\" class=\"data row0 col3\" ></td>\n",
       "    </tr>\n",
       "    <tr>\n",
       "      <th id=\"T_5fe7e_level0_row1\" class=\"row_heading level0 row1\" >mean</th>\n",
       "      <td id=\"T_5fe7e_row1_col0\" class=\"data row1 col0\" ></td>\n",
       "      <td id=\"T_5fe7e_row1_col1\" class=\"data row1 col1\" ></td>\n",
       "      <td id=\"T_5fe7e_row1_col2\" class=\"data row1 col2\" >74.27</td>\n",
       "      <td id=\"T_5fe7e_row1_col3\" class=\"data row1 col3\" >3.17</td>\n",
       "    </tr>\n",
       "    <tr>\n",
       "      <th id=\"T_5fe7e_level0_row2\" class=\"row_heading level0 row2\" >min</th>\n",
       "      <td id=\"T_5fe7e_row2_col0\" class=\"data row2 col0\" ></td>\n",
       "      <td id=\"T_5fe7e_row2_col1\" class=\"data row2 col1\" ></td>\n",
       "      <td id=\"T_5fe7e_row2_col2\" class=\"data row2 col2\" >4.42</td>\n",
       "      <td id=\"T_5fe7e_row2_col3\" class=\"data row2 col3\" >-12.30</td>\n",
       "    </tr>\n",
       "    <tr>\n",
       "      <th id=\"T_5fe7e_level0_row3\" class=\"row_heading level0 row3\" >max</th>\n",
       "      <td id=\"T_5fe7e_row3_col0\" class=\"data row3 col0\" ></td>\n",
       "      <td id=\"T_5fe7e_row3_col1\" class=\"data row3 col1\" ></td>\n",
       "      <td id=\"T_5fe7e_row3_col2\" class=\"data row3 col2\" >3486.97</td>\n",
       "      <td id=\"T_5fe7e_row3_col3\" class=\"data row3 col3\" >2908.99</td>\n",
       "    </tr>\n",
       "  </tbody>\n",
       "</table>\n"
      ],
      "text/plain": [
       "<IPython.core.display.HTML object>"
      ]
     },
     "metadata": {},
     "output_type": "display_data"
    },
    {
     "data": {
      "text/markdown": [
       "### Ten Worst Average Response Times"
      ],
      "text/plain": [
       "<IPython.core.display.Markdown object>"
      ]
     },
     "metadata": {},
     "output_type": "display_data"
    },
    {
     "data": {
      "text/html": [
       "<style type=\"text/css\">\n",
       "#T_59bb4 th {\n",
       "  text-align: left;\n",
       "}\n",
       "#T_59bb4_row0_col0, #T_59bb4_row0_col1, #T_59bb4_row0_col2, #T_59bb4_row0_col3, #T_59bb4_row0_col4, #T_59bb4_row0_col5, #T_59bb4_row1_col0, #T_59bb4_row1_col1, #T_59bb4_row1_col2, #T_59bb4_row1_col3, #T_59bb4_row1_col4, #T_59bb4_row1_col5, #T_59bb4_row2_col0, #T_59bb4_row2_col1, #T_59bb4_row2_col2, #T_59bb4_row2_col3, #T_59bb4_row2_col4, #T_59bb4_row2_col5, #T_59bb4_row3_col0, #T_59bb4_row3_col1, #T_59bb4_row3_col2, #T_59bb4_row3_col3, #T_59bb4_row3_col4, #T_59bb4_row3_col5, #T_59bb4_row4_col0, #T_59bb4_row4_col1, #T_59bb4_row4_col2, #T_59bb4_row4_col3, #T_59bb4_row4_col4, #T_59bb4_row4_col5, #T_59bb4_row5_col0, #T_59bb4_row5_col1, #T_59bb4_row5_col2, #T_59bb4_row5_col3, #T_59bb4_row5_col4, #T_59bb4_row5_col5, #T_59bb4_row6_col0, #T_59bb4_row6_col1, #T_59bb4_row6_col2, #T_59bb4_row6_col3, #T_59bb4_row6_col4, #T_59bb4_row6_col5, #T_59bb4_row7_col0, #T_59bb4_row7_col1, #T_59bb4_row7_col2, #T_59bb4_row7_col3, #T_59bb4_row7_col4, #T_59bb4_row7_col5, #T_59bb4_row8_col0, #T_59bb4_row8_col1, #T_59bb4_row8_col2, #T_59bb4_row8_col3, #T_59bb4_row8_col4, #T_59bb4_row8_col5, #T_59bb4_row9_col0, #T_59bb4_row9_col1, #T_59bb4_row9_col2, #T_59bb4_row9_col3, #T_59bb4_row9_col4, #T_59bb4_row9_col5 {\n",
       "  text-align: left;\n",
       "}\n",
       "</style>\n",
       "<table id=\"T_59bb4\">\n",
       "  <thead>\n",
       "    <tr>\n",
       "      <th class=\"blank level0\" >&nbsp;</th>\n",
       "      <th id=\"T_59bb4_level0_col0\" class=\"col_heading level0 col0\" >Avg Response Time</th>\n",
       "      <th id=\"T_59bb4_level0_col1\" class=\"col_heading level0 col1\" >Request Count</th>\n",
       "      <th id=\"T_59bb4_level0_col2\" class=\"col_heading level0 col2\" >Failure Count</th>\n",
       "      <th id=\"T_59bb4_level0_col3\" class=\"col_heading level0 col3\" >Approx Std Dev</th>\n",
       "      <th id=\"T_59bb4_level0_col4\" class=\"col_heading level0 col4\" >Min Response Time</th>\n",
       "      <th id=\"T_59bb4_level0_col5\" class=\"col_heading level0 col5\" >Max Response Time</th>\n",
       "    </tr>\n",
       "    <tr>\n",
       "      <th class=\"index_name level0\" >Request</th>\n",
       "      <th class=\"blank col0\" >&nbsp;</th>\n",
       "      <th class=\"blank col1\" >&nbsp;</th>\n",
       "      <th class=\"blank col2\" >&nbsp;</th>\n",
       "      <th class=\"blank col3\" >&nbsp;</th>\n",
       "      <th class=\"blank col4\" >&nbsp;</th>\n",
       "      <th class=\"blank col5\" >&nbsp;</th>\n",
       "    </tr>\n",
       "  </thead>\n",
       "  <tbody>\n",
       "    <tr>\n",
       "      <th id=\"T_59bb4_level0_row0\" class=\"row_heading level0 row0\" >GET /data/v3/ed-fi/studentAssessments</th>\n",
       "      <td id=\"T_59bb4_row0_col0\" class=\"data row0 col0\" >3486.97</td>\n",
       "      <td id=\"T_59bb4_row0_col1\" class=\"data row0 col1\" >1</td>\n",
       "      <td id=\"T_59bb4_row0_col2\" class=\"data row0 col2\" >0</td>\n",
       "      <td id=\"T_59bb4_row0_col3\" class=\"data row0 col3\" >6.52</td>\n",
       "      <td id=\"T_59bb4_row0_col4\" class=\"data row0 col4\" >3486.97</td>\n",
       "      <td id=\"T_59bb4_row0_col5\" class=\"data row0 col5\" >3486.97</td>\n",
       "    </tr>\n",
       "    <tr>\n",
       "      <th id=\"T_59bb4_level0_row1\" class=\"row_heading level0 row1\" >GET /data/v3/ed-fi/studentEducationOrganizationAssociations</th>\n",
       "      <td id=\"T_59bb4_row1_col0\" class=\"data row1 col0\" >1818.95</td>\n",
       "      <td id=\"T_59bb4_row1_col1\" class=\"data row1 col1\" >1</td>\n",
       "      <td id=\"T_59bb4_row1_col2\" class=\"data row1 col2\" >0</td>\n",
       "      <td id=\"T_59bb4_row1_col3\" class=\"data row1 col3\" >-9.47</td>\n",
       "      <td id=\"T_59bb4_row1_col4\" class=\"data row1 col4\" >1818.95</td>\n",
       "      <td id=\"T_59bb4_row1_col5\" class=\"data row1 col5\" >1818.95</td>\n",
       "    </tr>\n",
       "    <tr>\n",
       "      <th id=\"T_59bb4_level0_row2\" class=\"row_heading level0 row2\" >POST /data/v3/ed-fi/schools</th>\n",
       "      <td id=\"T_59bb4_row2_col0\" class=\"data row2 col0\" >1182.02</td>\n",
       "      <td id=\"T_59bb4_row2_col1\" class=\"data row2 col1\" >6</td>\n",
       "      <td id=\"T_59bb4_row2_col2\" class=\"data row2 col2\" >0</td>\n",
       "      <td id=\"T_59bb4_row2_col3\" class=\"data row2 col3\" >2908.99</td>\n",
       "      <td id=\"T_59bb4_row2_col4\" class=\"data row2 col4\" >21.14</td>\n",
       "      <td id=\"T_59bb4_row2_col5\" class=\"data row2 col5\" >6956.75</td>\n",
       "    </tr>\n",
       "    <tr>\n",
       "      <th id=\"T_59bb4_level0_row3\" class=\"row_heading level0 row3\" >DELETE /data/v3/ed-fi/absenceEventCategoryDescriptors/{id}</th>\n",
       "      <td id=\"T_59bb4_row3_col0\" class=\"data row3 col0\" >1164.98</td>\n",
       "      <td id=\"T_59bb4_row3_col1\" class=\"data row3 col1\" >1</td>\n",
       "      <td id=\"T_59bb4_row3_col2\" class=\"data row3 col2\" >0</td>\n",
       "      <td id=\"T_59bb4_row3_col3\" class=\"data row3 col3\" >17.51</td>\n",
       "      <td id=\"T_59bb4_row3_col4\" class=\"data row3 col4\" >1164.98</td>\n",
       "      <td id=\"T_59bb4_row3_col5\" class=\"data row3 col5\" >1164.98</td>\n",
       "    </tr>\n",
       "    <tr>\n",
       "      <th id=\"T_59bb4_level0_row4\" class=\"row_heading level0 row4\" >post /v6.0/api/oauth/token/</th>\n",
       "      <td id=\"T_59bb4_row4_col0\" class=\"data row4 col0\" >1024.61</td>\n",
       "      <td id=\"T_59bb4_row4_col1\" class=\"data row4 col1\" >1</td>\n",
       "      <td id=\"T_59bb4_row4_col2\" class=\"data row4 col2\" >0</td>\n",
       "      <td id=\"T_59bb4_row4_col3\" class=\"data row4 col3\" >-12.30</td>\n",
       "      <td id=\"T_59bb4_row4_col4\" class=\"data row4 col4\" >1024.61</td>\n",
       "      <td id=\"T_59bb4_row4_col5\" class=\"data row4 col5\" >1024.61</td>\n",
       "    </tr>\n",
       "    <tr>\n",
       "      <th id=\"T_59bb4_level0_row5\" class=\"row_heading level0 row5\" >GET /data/v3/ed-fi/courseTranscripts</th>\n",
       "      <td id=\"T_59bb4_row5_col0\" class=\"data row5 col0\" >555.38</td>\n",
       "      <td id=\"T_59bb4_row5_col1\" class=\"data row5 col1\" >1</td>\n",
       "      <td id=\"T_59bb4_row5_col2\" class=\"data row5 col2\" >0</td>\n",
       "      <td id=\"T_59bb4_row5_col3\" class=\"data row5 col3\" >2.31</td>\n",
       "      <td id=\"T_59bb4_row5_col4\" class=\"data row5 col4\" >555.38</td>\n",
       "      <td id=\"T_59bb4_row5_col5\" class=\"data row5 col5\" >555.38</td>\n",
       "    </tr>\n",
       "    <tr>\n",
       "      <th id=\"T_59bb4_level0_row6\" class=\"row_heading level0 row6\" >GET /data/v3/ed-fi/parents</th>\n",
       "      <td id=\"T_59bb4_row6_col0\" class=\"data row6 col0\" >550.46</td>\n",
       "      <td id=\"T_59bb4_row6_col1\" class=\"data row6 col1\" >1</td>\n",
       "      <td id=\"T_59bb4_row6_col2\" class=\"data row6 col2\" >0</td>\n",
       "      <td id=\"T_59bb4_row6_col3\" class=\"data row6 col3\" >-0.23</td>\n",
       "      <td id=\"T_59bb4_row6_col4\" class=\"data row6 col4\" >550.46</td>\n",
       "      <td id=\"T_59bb4_row6_col5\" class=\"data row6 col5\" >550.46</td>\n",
       "    </tr>\n",
       "    <tr>\n",
       "      <th id=\"T_59bb4_level0_row7\" class=\"row_heading level0 row7\" >GET /data/v3/ed-fi/studentAcademicRecords</th>\n",
       "      <td id=\"T_59bb4_row7_col0\" class=\"data row7 col0\" >439.22</td>\n",
       "      <td id=\"T_59bb4_row7_col1\" class=\"data row7 col1\" >1</td>\n",
       "      <td id=\"T_59bb4_row7_col2\" class=\"data row7 col2\" >0</td>\n",
       "      <td id=\"T_59bb4_row7_col3\" class=\"data row7 col3\" >0.39</td>\n",
       "      <td id=\"T_59bb4_row7_col4\" class=\"data row7 col4\" >439.22</td>\n",
       "      <td id=\"T_59bb4_row7_col5\" class=\"data row7 col5\" >439.22</td>\n",
       "    </tr>\n",
       "    <tr>\n",
       "      <th id=\"T_59bb4_level0_row8\" class=\"row_heading level0 row8\" >GET /data/v3/ed-fi/learningStandards</th>\n",
       "      <td id=\"T_59bb4_row8_col0\" class=\"data row8 col0\" >432.23</td>\n",
       "      <td id=\"T_59bb4_row8_col1\" class=\"data row8 col1\" >1</td>\n",
       "      <td id=\"T_59bb4_row8_col2\" class=\"data row8 col2\" >0</td>\n",
       "      <td id=\"T_59bb4_row8_col3\" class=\"data row8 col3\" >-1.12</td>\n",
       "      <td id=\"T_59bb4_row8_col4\" class=\"data row8 col4\" >432.23</td>\n",
       "      <td id=\"T_59bb4_row8_col5\" class=\"data row8 col5\" >432.23</td>\n",
       "    </tr>\n",
       "    <tr>\n",
       "      <th id=\"T_59bb4_level0_row9\" class=\"row_heading level0 row9\" >GET /data/v3/ed-fi/grades</th>\n",
       "      <td id=\"T_59bb4_row9_col0\" class=\"data row9 col0\" >414.55</td>\n",
       "      <td id=\"T_59bb4_row9_col1\" class=\"data row9 col1\" >1</td>\n",
       "      <td id=\"T_59bb4_row9_col2\" class=\"data row9 col2\" >0</td>\n",
       "      <td id=\"T_59bb4_row9_col3\" class=\"data row9 col3\" >-2.28</td>\n",
       "      <td id=\"T_59bb4_row9_col4\" class=\"data row9 col4\" >414.55</td>\n",
       "      <td id=\"T_59bb4_row9_col5\" class=\"data row9 col5\" >414.55</td>\n",
       "    </tr>\n",
       "    <tr>\n",
       "      <th class=\"row_heading level0 row_trim\" >...</th>\n",
       "      <td class=\"data col0 row_trim\" >...</td>\n",
       "      <td class=\"data col1 row_trim\" >...</td>\n",
       "      <td class=\"data col2 row_trim\" >...</td>\n",
       "      <td class=\"data col3 row_trim\" >...</td>\n",
       "      <td class=\"data col4 row_trim\" >...</td>\n",
       "      <td class=\"data col5 row_trim\" >...</td>\n",
       "    </tr>\n",
       "  </tbody>\n",
       "</table>\n"
      ],
      "text/plain": [
       "<IPython.core.display.HTML object>"
      ]
     },
     "metadata": {},
     "output_type": "display_data"
    },
    {
     "data": {
      "text/markdown": [
       "### Ten Best Average Response Times"
      ],
      "text/plain": [
       "<IPython.core.display.Markdown object>"
      ]
     },
     "metadata": {},
     "output_type": "display_data"
    },
    {
     "data": {
      "text/html": [
       "<style type=\"text/css\">\n",
       "#T_cd149 th {\n",
       "  text-align: left;\n",
       "}\n",
       "#T_cd149_row0_col0, #T_cd149_row0_col1, #T_cd149_row0_col2, #T_cd149_row0_col3, #T_cd149_row0_col4, #T_cd149_row0_col5, #T_cd149_row1_col0, #T_cd149_row1_col1, #T_cd149_row1_col2, #T_cd149_row1_col3, #T_cd149_row1_col4, #T_cd149_row1_col5, #T_cd149_row2_col0, #T_cd149_row2_col1, #T_cd149_row2_col2, #T_cd149_row2_col3, #T_cd149_row2_col4, #T_cd149_row2_col5, #T_cd149_row3_col0, #T_cd149_row3_col1, #T_cd149_row3_col2, #T_cd149_row3_col3, #T_cd149_row3_col4, #T_cd149_row3_col5, #T_cd149_row4_col0, #T_cd149_row4_col1, #T_cd149_row4_col2, #T_cd149_row4_col3, #T_cd149_row4_col4, #T_cd149_row4_col5, #T_cd149_row5_col0, #T_cd149_row5_col1, #T_cd149_row5_col2, #T_cd149_row5_col3, #T_cd149_row5_col4, #T_cd149_row5_col5, #T_cd149_row6_col0, #T_cd149_row6_col1, #T_cd149_row6_col2, #T_cd149_row6_col3, #T_cd149_row6_col4, #T_cd149_row6_col5, #T_cd149_row7_col0, #T_cd149_row7_col1, #T_cd149_row7_col2, #T_cd149_row7_col3, #T_cd149_row7_col4, #T_cd149_row7_col5, #T_cd149_row8_col0, #T_cd149_row8_col1, #T_cd149_row8_col2, #T_cd149_row8_col3, #T_cd149_row8_col4, #T_cd149_row8_col5, #T_cd149_row9_col0, #T_cd149_row9_col1, #T_cd149_row9_col2, #T_cd149_row9_col3, #T_cd149_row9_col4, #T_cd149_row9_col5 {\n",
       "  text-align: left;\n",
       "}\n",
       "</style>\n",
       "<table id=\"T_cd149\">\n",
       "  <thead>\n",
       "    <tr>\n",
       "      <th class=\"blank level0\" >&nbsp;</th>\n",
       "      <th id=\"T_cd149_level0_col0\" class=\"col_heading level0 col0\" >Avg Response Time</th>\n",
       "      <th id=\"T_cd149_level0_col1\" class=\"col_heading level0 col1\" >Request Count</th>\n",
       "      <th id=\"T_cd149_level0_col2\" class=\"col_heading level0 col2\" >Failure Count</th>\n",
       "      <th id=\"T_cd149_level0_col3\" class=\"col_heading level0 col3\" >Approx Std Dev</th>\n",
       "      <th id=\"T_cd149_level0_col4\" class=\"col_heading level0 col4\" >Min Response Time</th>\n",
       "      <th id=\"T_cd149_level0_col5\" class=\"col_heading level0 col5\" >Max Response Time</th>\n",
       "    </tr>\n",
       "    <tr>\n",
       "      <th class=\"index_name level0\" >Request</th>\n",
       "      <th class=\"blank col0\" >&nbsp;</th>\n",
       "      <th class=\"blank col1\" >&nbsp;</th>\n",
       "      <th class=\"blank col2\" >&nbsp;</th>\n",
       "      <th class=\"blank col3\" >&nbsp;</th>\n",
       "      <th class=\"blank col4\" >&nbsp;</th>\n",
       "      <th class=\"blank col5\" >&nbsp;</th>\n",
       "    </tr>\n",
       "  </thead>\n",
       "  <tbody>\n",
       "    <tr>\n",
       "      <th id=\"T_cd149_level0_row0\" class=\"row_heading level0 row0\" >POST /data/v3/ed-fi/payrolls</th>\n",
       "      <td id=\"T_cd149_row0_col0\" class=\"data row0 col0\" >4.42</td>\n",
       "      <td id=\"T_cd149_row0_col1\" class=\"data row0 col1\" >1</td>\n",
       "      <td id=\"T_cd149_row0_col2\" class=\"data row0 col2\" >1</td>\n",
       "      <td id=\"T_cd149_row0_col3\" class=\"data row0 col3\" >-0.21</td>\n",
       "      <td id=\"T_cd149_row0_col4\" class=\"data row0 col4\" >4.42</td>\n",
       "      <td id=\"T_cd149_row0_col5\" class=\"data row0 col5\" >4.42</td>\n",
       "    </tr>\n",
       "    <tr>\n",
       "      <th id=\"T_cd149_level0_row1\" class=\"row_heading level0 row1\" >POST /data/v3/ed-fi/accountCodes</th>\n",
       "      <td id=\"T_cd149_row1_col0\" class=\"data row1 col0\" >4.51</td>\n",
       "      <td id=\"T_cd149_row1_col1\" class=\"data row1 col1\" >6</td>\n",
       "      <td id=\"T_cd149_row1_col2\" class=\"data row1 col2\" >6</td>\n",
       "      <td id=\"T_cd149_row1_col3\" class=\"data row1 col3\" >0.25</td>\n",
       "      <td id=\"T_cd149_row1_col4\" class=\"data row1 col4\" >4.08</td>\n",
       "      <td id=\"T_cd149_row1_col5\" class=\"data row1 col5\" >5.15</td>\n",
       "    </tr>\n",
       "    <tr>\n",
       "      <th id=\"T_cd149_level0_row2\" class=\"row_heading level0 row2\" >POST /data/v3/ed-fi/contractedStaffs</th>\n",
       "      <td id=\"T_cd149_row2_col0\" class=\"data row2 col0\" >4.52</td>\n",
       "      <td id=\"T_cd149_row2_col1\" class=\"data row2 col1\" >1</td>\n",
       "      <td id=\"T_cd149_row2_col2\" class=\"data row2 col2\" >1</td>\n",
       "      <td id=\"T_cd149_row2_col3\" class=\"data row2 col3\" >0.24</td>\n",
       "      <td id=\"T_cd149_row2_col4\" class=\"data row2 col4\" >4.52</td>\n",
       "      <td id=\"T_cd149_row2_col5\" class=\"data row2 col5\" >4.52</td>\n",
       "    </tr>\n",
       "    <tr>\n",
       "      <th id=\"T_cd149_level0_row3\" class=\"row_heading level0 row3\" >POST /data/v3/ed-fi/accounts</th>\n",
       "      <td id=\"T_cd149_row3_col0\" class=\"data row3 col0\" >4.59</td>\n",
       "      <td id=\"T_cd149_row3_col1\" class=\"data row3 col1\" >5</td>\n",
       "      <td id=\"T_cd149_row3_col2\" class=\"data row3 col2\" >5</td>\n",
       "      <td id=\"T_cd149_row3_col3\" class=\"data row3 col3\" >0.21</td>\n",
       "      <td id=\"T_cd149_row3_col4\" class=\"data row3 col4\" >3.90</td>\n",
       "      <td id=\"T_cd149_row3_col5\" class=\"data row3 col5\" >5.35</td>\n",
       "    </tr>\n",
       "    <tr>\n",
       "      <th id=\"T_cd149_level0_row4\" class=\"row_heading level0 row4\" >POST /data/v3/ed-fi/accountClassificationDescriptors</th>\n",
       "      <td id=\"T_cd149_row4_col0\" class=\"data row4 col0\" >4.88</td>\n",
       "      <td id=\"T_cd149_row4_col1\" class=\"data row4 col1\" >1</td>\n",
       "      <td id=\"T_cd149_row4_col2\" class=\"data row4 col2\" >1</td>\n",
       "      <td id=\"T_cd149_row4_col3\" class=\"data row4 col3\" >0.06</td>\n",
       "      <td id=\"T_cd149_row4_col4\" class=\"data row4 col4\" >4.88</td>\n",
       "      <td id=\"T_cd149_row4_col5\" class=\"data row4 col5\" >4.88</td>\n",
       "    </tr>\n",
       "    <tr>\n",
       "      <th id=\"T_cd149_level0_row5\" class=\"row_heading level0 row5\" >GET /data/v3/ed-fi/budgets</th>\n",
       "      <td id=\"T_cd149_row5_col0\" class=\"data row5 col0\" >4.97</td>\n",
       "      <td id=\"T_cd149_row5_col1\" class=\"data row5 col1\" >1</td>\n",
       "      <td id=\"T_cd149_row5_col2\" class=\"data row5 col2\" >1</td>\n",
       "      <td id=\"T_cd149_row5_col3\" class=\"data row5 col3\" >0.02</td>\n",
       "      <td id=\"T_cd149_row5_col4\" class=\"data row5 col4\" >4.97</td>\n",
       "      <td id=\"T_cd149_row5_col5\" class=\"data row5 col5\" >4.97</td>\n",
       "    </tr>\n",
       "    <tr>\n",
       "      <th id=\"T_cd149_level0_row6\" class=\"row_heading level0 row6\" >GET /data/v3/ed-fi/accounts</th>\n",
       "      <td id=\"T_cd149_row6_col0\" class=\"data row6 col0\" >5.20</td>\n",
       "      <td id=\"T_cd149_row6_col1\" class=\"data row6 col1\" >1</td>\n",
       "      <td id=\"T_cd149_row6_col2\" class=\"data row6 col2\" >1</td>\n",
       "      <td id=\"T_cd149_row6_col3\" class=\"data row6 col3\" >-0.10</td>\n",
       "      <td id=\"T_cd149_row6_col4\" class=\"data row6 col4\" >5.20</td>\n",
       "      <td id=\"T_cd149_row6_col5\" class=\"data row6 col5\" >5.20</td>\n",
       "    </tr>\n",
       "    <tr>\n",
       "      <th id=\"T_cd149_level0_row7\" class=\"row_heading level0 row7\" >GET /data/v3/ed-fi/actuals</th>\n",
       "      <td id=\"T_cd149_row7_col0\" class=\"data row7 col0\" >5.20</td>\n",
       "      <td id=\"T_cd149_row7_col1\" class=\"data row7 col1\" >1</td>\n",
       "      <td id=\"T_cd149_row7_col2\" class=\"data row7 col2\" >1</td>\n",
       "      <td id=\"T_cd149_row7_col3\" class=\"data row7 col3\" >-0.10</td>\n",
       "      <td id=\"T_cd149_row7_col4\" class=\"data row7 col4\" >5.20</td>\n",
       "      <td id=\"T_cd149_row7_col5\" class=\"data row7 col5\" >5.20</td>\n",
       "    </tr>\n",
       "    <tr>\n",
       "      <th id=\"T_cd149_level0_row8\" class=\"row_heading level0 row8\" >GET /data/v3/ed-fi/accountCodes</th>\n",
       "      <td id=\"T_cd149_row8_col0\" class=\"data row8 col0\" >5.20</td>\n",
       "      <td id=\"T_cd149_row8_col1\" class=\"data row8 col1\" >1</td>\n",
       "      <td id=\"T_cd149_row8_col2\" class=\"data row8 col2\" >1</td>\n",
       "      <td id=\"T_cd149_row8_col3\" class=\"data row8 col3\" >-0.10</td>\n",
       "      <td id=\"T_cd149_row8_col4\" class=\"data row8 col4\" >5.20</td>\n",
       "      <td id=\"T_cd149_row8_col5\" class=\"data row8 col5\" >5.20</td>\n",
       "    </tr>\n",
       "    <tr>\n",
       "      <th id=\"T_cd149_level0_row9\" class=\"row_heading level0 row9\" >GET /data/v3/ed-fi/contractedStaffs</th>\n",
       "      <td id=\"T_cd149_row9_col0\" class=\"data row9 col0\" >5.22</td>\n",
       "      <td id=\"T_cd149_row9_col1\" class=\"data row9 col1\" >1</td>\n",
       "      <td id=\"T_cd149_row9_col2\" class=\"data row9 col2\" >1</td>\n",
       "      <td id=\"T_cd149_row9_col3\" class=\"data row9 col3\" >-0.11</td>\n",
       "      <td id=\"T_cd149_row9_col4\" class=\"data row9 col4\" >5.22</td>\n",
       "      <td id=\"T_cd149_row9_col5\" class=\"data row9 col5\" >5.22</td>\n",
       "    </tr>\n",
       "    <tr>\n",
       "      <th class=\"row_heading level0 row_trim\" >...</th>\n",
       "      <td class=\"data col0 row_trim\" >...</td>\n",
       "      <td class=\"data col1 row_trim\" >...</td>\n",
       "      <td class=\"data col2 row_trim\" >...</td>\n",
       "      <td class=\"data col3 row_trim\" >...</td>\n",
       "      <td class=\"data col4 row_trim\" >...</td>\n",
       "      <td class=\"data col5 row_trim\" >...</td>\n",
       "    </tr>\n",
       "  </tbody>\n",
       "</table>\n"
      ],
      "text/plain": [
       "<IPython.core.display.HTML object>"
      ]
     },
     "metadata": {},
     "output_type": "display_data"
    }
   ],
   "source": [
    "from edfi_perf_test_analysis.pipeclean import run_analysis\n",
    "run_analysis(default_dir)"
   ]
  }
 ],
 "metadata": {
  "kernelspec": {
   "display_name": "Python 3 (ipykernel)",
   "language": "python",
   "name": "python3"
  },
  "language_info": {
   "codemirror_mode": {
    "name": "ipython",
    "version": 3
   },
   "file_extension": ".py",
   "mimetype": "text/x-python",
   "name": "python",
   "nbconvert_exporter": "python",
   "pygments_lexer": "ipython3",
   "version": "3.10.11"
  }
 },
 "nbformat": 4,
 "nbformat_minor": 5
}
