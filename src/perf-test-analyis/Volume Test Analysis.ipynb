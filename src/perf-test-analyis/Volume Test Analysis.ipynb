{
 "cells": [
  {
   "attachments": {},
   "cell_type": "markdown",
   "id": "3176ea51",
   "metadata": {},
   "source": [
    "# Volume Test Analysis\n",
    "\n",
    "Run the cell below. It will prompt you for which directory to access with the pipeclean test results to analyze."
   ]
  },
  {
   "cell_type": "code",
   "execution_count": 1,
   "id": "46230a89",
   "metadata": {
    "scrolled": false
   },
   "outputs": [
    {
     "data": {
      "text/markdown": [
       "✅ **Running analysis on C:\\Users\\JohnnyBrenes\\Desktop\\EdFi\\PERF-289\\Volume\\12Jun**"
      ],
      "text/plain": [
       "<IPython.core.display.Markdown object>"
      ]
     },
     "metadata": {},
     "output_type": "display_data"
    },
    {
     "data": {
      "text/markdown": [
       "### Exceptions"
      ],
      "text/plain": [
       "<IPython.core.display.Markdown object>"
      ]
     },
     "metadata": {},
     "output_type": "display_data"
    },
    {
     "data": {
      "text/markdown": [
       "First five exceptions"
      ],
      "text/plain": [
       "<IPython.core.display.Markdown object>"
      ]
     },
     "metadata": {},
     "output_type": "display_data"
    },
    {
     "data": {
      "text/markdown": [
       "❕ **No data to display**"
      ],
      "text/plain": [
       "<IPython.core.display.Markdown object>"
      ]
     },
     "metadata": {},
     "output_type": "display_data"
    },
    {
     "data": {
      "text/markdown": [
       "### Failures"
      ],
      "text/plain": [
       "<IPython.core.display.Markdown object>"
      ]
     },
     "metadata": {},
     "output_type": "display_data"
    },
    {
     "data": {
      "text/markdown": [
       "First ten failures"
      ],
      "text/plain": [
       "<IPython.core.display.Markdown object>"
      ]
     },
     "metadata": {},
     "output_type": "display_data"
    },
    {
     "data": {
      "text/markdown": [
       "❕ **No data to display**"
      ],
      "text/plain": [
       "<IPython.core.display.Markdown object>"
      ]
     },
     "metadata": {},
     "output_type": "display_data"
    },
    {
     "data": {
      "text/markdown": [
       "### Summary Stats"
      ],
      "text/plain": [
       "<IPython.core.display.Markdown object>"
      ]
     },
     "metadata": {},
     "output_type": "display_data"
    },
    {
     "data": {
      "text/html": [
       "<style type=\"text/css\">\n",
       "#T_8b5e1 th {\n",
       "  text-align: left;\n",
       "}\n",
       "#T_8b5e1_row0_col0, #T_8b5e1_row0_col1, #T_8b5e1_row0_col2, #T_8b5e1_row0_col3, #T_8b5e1_row1_col0, #T_8b5e1_row1_col1, #T_8b5e1_row1_col2, #T_8b5e1_row1_col3, #T_8b5e1_row2_col0, #T_8b5e1_row2_col1, #T_8b5e1_row2_col2, #T_8b5e1_row2_col3, #T_8b5e1_row3_col0, #T_8b5e1_row3_col1, #T_8b5e1_row3_col2, #T_8b5e1_row3_col3 {\n",
       "  text-align: left;\n",
       "}\n",
       "</style>\n",
       "<table id=\"T_8b5e1\">\n",
       "  <thead>\n",
       "    <tr>\n",
       "      <th class=\"blank level0\" >&nbsp;</th>\n",
       "      <th id=\"T_8b5e1_level0_col0\" class=\"col_heading level0 col0\" >Request Count</th>\n",
       "      <th id=\"T_8b5e1_level0_col1\" class=\"col_heading level0 col1\" >Failure Count</th>\n",
       "      <th id=\"T_8b5e1_level0_col2\" class=\"col_heading level0 col2\" >Avg Response Time</th>\n",
       "      <th id=\"T_8b5e1_level0_col3\" class=\"col_heading level0 col3\" >Approx Std Dev</th>\n",
       "    </tr>\n",
       "  </thead>\n",
       "  <tbody>\n",
       "    <tr>\n",
       "      <th id=\"T_8b5e1_level0_row0\" class=\"row_heading level0 row0\" >sum</th>\n",
       "      <td id=\"T_8b5e1_row0_col0\" class=\"data row0 col0\" >94.00</td>\n",
       "      <td id=\"T_8b5e1_row0_col1\" class=\"data row0 col1\" >0.00</td>\n",
       "      <td id=\"T_8b5e1_row0_col2\" class=\"data row0 col2\" ></td>\n",
       "      <td id=\"T_8b5e1_row0_col3\" class=\"data row0 col3\" ></td>\n",
       "    </tr>\n",
       "    <tr>\n",
       "      <th id=\"T_8b5e1_level0_row1\" class=\"row_heading level0 row1\" >mean</th>\n",
       "      <td id=\"T_8b5e1_row1_col0\" class=\"data row1 col0\" ></td>\n",
       "      <td id=\"T_8b5e1_row1_col1\" class=\"data row1 col1\" ></td>\n",
       "      <td id=\"T_8b5e1_row1_col2\" class=\"data row1 col2\" >973.61</td>\n",
       "      <td id=\"T_8b5e1_row1_col3\" class=\"data row1 col3\" >1083.20</td>\n",
       "    </tr>\n",
       "    <tr>\n",
       "      <th id=\"T_8b5e1_level0_row2\" class=\"row_heading level0 row2\" >min</th>\n",
       "      <td id=\"T_8b5e1_row2_col0\" class=\"data row2 col0\" ></td>\n",
       "      <td id=\"T_8b5e1_row2_col1\" class=\"data row2 col1\" ></td>\n",
       "      <td id=\"T_8b5e1_row2_col2\" class=\"data row2 col2\" >39.93</td>\n",
       "      <td id=\"T_8b5e1_row2_col3\" class=\"data row2 col3\" >35.04</td>\n",
       "    </tr>\n",
       "    <tr>\n",
       "      <th id=\"T_8b5e1_level0_row3\" class=\"row_heading level0 row3\" >max</th>\n",
       "      <td id=\"T_8b5e1_row3_col0\" class=\"data row3 col0\" ></td>\n",
       "      <td id=\"T_8b5e1_row3_col1\" class=\"data row3 col1\" ></td>\n",
       "      <td id=\"T_8b5e1_row3_col2\" class=\"data row3 col2\" >2322.00</td>\n",
       "      <td id=\"T_8b5e1_row3_col3\" class=\"data row3 col3\" >2822.70</td>\n",
       "    </tr>\n",
       "  </tbody>\n",
       "</table>\n"
      ],
      "text/plain": [
       "<IPython.core.display.HTML object>"
      ]
     },
     "metadata": {},
     "output_type": "display_data"
    },
    {
     "data": {
      "text/markdown": [
       "### Ten Worst Average Response Times"
      ],
      "text/plain": [
       "<IPython.core.display.Markdown object>"
      ]
     },
     "metadata": {},
     "output_type": "display_data"
    },
    {
     "data": {
      "text/html": [
       "<style type=\"text/css\">\n",
       "#T_c9944 th {\n",
       "  text-align: left;\n",
       "}\n",
       "#T_c9944_row0_col0, #T_c9944_row0_col1, #T_c9944_row0_col2, #T_c9944_row0_col3, #T_c9944_row0_col4, #T_c9944_row0_col5, #T_c9944_row1_col0, #T_c9944_row1_col1, #T_c9944_row1_col2, #T_c9944_row1_col3, #T_c9944_row1_col4, #T_c9944_row1_col5, #T_c9944_row2_col0, #T_c9944_row2_col1, #T_c9944_row2_col2, #T_c9944_row2_col3, #T_c9944_row2_col4, #T_c9944_row2_col5, #T_c9944_row3_col0, #T_c9944_row3_col1, #T_c9944_row3_col2, #T_c9944_row3_col3, #T_c9944_row3_col4, #T_c9944_row3_col5, #T_c9944_row4_col0, #T_c9944_row4_col1, #T_c9944_row4_col2, #T_c9944_row4_col3, #T_c9944_row4_col4, #T_c9944_row4_col5 {\n",
       "  text-align: left;\n",
       "}\n",
       "</style>\n",
       "<table id=\"T_c9944\">\n",
       "  <thead>\n",
       "    <tr>\n",
       "      <th class=\"blank level0\" >&nbsp;</th>\n",
       "      <th id=\"T_c9944_level0_col0\" class=\"col_heading level0 col0\" >Avg Response Time</th>\n",
       "      <th id=\"T_c9944_level0_col1\" class=\"col_heading level0 col1\" >Request Count</th>\n",
       "      <th id=\"T_c9944_level0_col2\" class=\"col_heading level0 col2\" >Failure Count</th>\n",
       "      <th id=\"T_c9944_level0_col3\" class=\"col_heading level0 col3\" >Approx Std Dev</th>\n",
       "      <th id=\"T_c9944_level0_col4\" class=\"col_heading level0 col4\" >Min Response Time</th>\n",
       "      <th id=\"T_c9944_level0_col5\" class=\"col_heading level0 col5\" >Max Response Time</th>\n",
       "    </tr>\n",
       "    <tr>\n",
       "      <th class=\"index_name level0\" >Request</th>\n",
       "      <th class=\"blank col0\" >&nbsp;</th>\n",
       "      <th class=\"blank col1\" >&nbsp;</th>\n",
       "      <th class=\"blank col2\" >&nbsp;</th>\n",
       "      <th class=\"blank col3\" >&nbsp;</th>\n",
       "      <th class=\"blank col4\" >&nbsp;</th>\n",
       "      <th class=\"blank col5\" >&nbsp;</th>\n",
       "    </tr>\n",
       "  </thead>\n",
       "  <tbody>\n",
       "    <tr>\n",
       "      <th id=\"T_c9944_level0_row0\" class=\"row_heading level0 row0\" >GET /data/v3/ed-fi/localEducationAgencies</th>\n",
       "      <td id=\"T_c9944_row0_col0\" class=\"data row0 col0\" >2322.00</td>\n",
       "      <td id=\"T_c9944_row0_col1\" class=\"data row0 col1\" >3</td>\n",
       "      <td id=\"T_c9944_row0_col2\" class=\"data row0 col2\" >0</td>\n",
       "      <td id=\"T_c9944_row0_col3\" class=\"data row0 col3\" >2289.00</td>\n",
       "      <td id=\"T_c9944_row0_col4\" class=\"data row0 col4\" >16</td>\n",
       "      <td id=\"T_c9944_row0_col5\" class=\"data row0 col5\" >6930</td>\n",
       "    </tr>\n",
       "    <tr>\n",
       "      <th id=\"T_c9944_level0_row1\" class=\"row_heading level0 row1\" >POST /data/v3/ed-fi/schools</th>\n",
       "      <td id=\"T_c9944_row1_col0\" class=\"data row1 col0\" >1354.60</td>\n",
       "      <td id=\"T_c9944_row1_col1\" class=\"data row1 col1\" >15</td>\n",
       "      <td id=\"T_c9944_row1_col2\" class=\"data row1 col2\" >0</td>\n",
       "      <td id=\"T_c9944_row1_col3\" class=\"data row1 col3\" >2822.70</td>\n",
       "      <td id=\"T_c9944_row1_col4\" class=\"data row1 col4\" >18</td>\n",
       "      <td id=\"T_c9944_row1_col5\" class=\"data row1 col5\" >7022</td>\n",
       "    </tr>\n",
       "    <tr>\n",
       "      <th id=\"T_c9944_level0_row2\" class=\"row_heading level0 row2\" >post /oauth/token/</th>\n",
       "      <td id=\"T_c9944_row2_col0\" class=\"data row2 col0\" >1105.02</td>\n",
       "      <td id=\"T_c9944_row2_col1\" class=\"data row2 col1\" >50</td>\n",
       "      <td id=\"T_c9944_row2_col2\" class=\"data row2 col2\" >0</td>\n",
       "      <td id=\"T_c9944_row2_col3\" class=\"data row2 col3\" >197.49</td>\n",
       "      <td id=\"T_c9944_row2_col4\" class=\"data row2 col4\" >622</td>\n",
       "      <td id=\"T_c9944_row2_col5\" class=\"data row2 col5\" >1506</td>\n",
       "    </tr>\n",
       "    <tr>\n",
       "      <th id=\"T_c9944_level0_row3\" class=\"row_heading level0 row3\" >PUT /data/v3/ed-fi/schools/{id}</th>\n",
       "      <td id=\"T_c9944_row3_col0\" class=\"data row3 col0\" >46.50</td>\n",
       "      <td id=\"T_c9944_row3_col1\" class=\"data row3 col1\" >12</td>\n",
       "      <td id=\"T_c9944_row3_col2\" class=\"data row3 col2\" >0</td>\n",
       "      <td id=\"T_c9944_row3_col3\" class=\"data row3 col3\" >71.75</td>\n",
       "      <td id=\"T_c9944_row3_col4\" class=\"data row3 col4\" >15</td>\n",
       "      <td id=\"T_c9944_row3_col5\" class=\"data row3 col5\" >194</td>\n",
       "    </tr>\n",
       "    <tr>\n",
       "      <th id=\"T_c9944_level0_row4\" class=\"row_heading level0 row4\" >DELETE /data/v3/ed-fi/schools/{id}</th>\n",
       "      <td id=\"T_c9944_row4_col0\" class=\"data row4 col0\" >39.93</td>\n",
       "      <td id=\"T_c9944_row4_col1\" class=\"data row4 col1\" >14</td>\n",
       "      <td id=\"T_c9944_row4_col2\" class=\"data row4 col2\" >0</td>\n",
       "      <td id=\"T_c9944_row4_col3\" class=\"data row4 col3\" >35.04</td>\n",
       "      <td id=\"T_c9944_row4_col4\" class=\"data row4 col4\" >13</td>\n",
       "      <td id=\"T_c9944_row4_col5\" class=\"data row4 col5\" >108</td>\n",
       "    </tr>\n",
       "  </tbody>\n",
       "</table>\n"
      ],
      "text/plain": [
       "<IPython.core.display.HTML object>"
      ]
     },
     "metadata": {},
     "output_type": "display_data"
    },
    {
     "data": {
      "text/markdown": [
       "### Ten Best Average Response Times"
      ],
      "text/plain": [
       "<IPython.core.display.Markdown object>"
      ]
     },
     "metadata": {},
     "output_type": "display_data"
    },
    {
     "data": {
      "text/html": [
       "<style type=\"text/css\">\n",
       "#T_5f5df th {\n",
       "  text-align: left;\n",
       "}\n",
       "#T_5f5df_row0_col0, #T_5f5df_row0_col1, #T_5f5df_row0_col2, #T_5f5df_row0_col3, #T_5f5df_row0_col4, #T_5f5df_row0_col5, #T_5f5df_row1_col0, #T_5f5df_row1_col1, #T_5f5df_row1_col2, #T_5f5df_row1_col3, #T_5f5df_row1_col4, #T_5f5df_row1_col5, #T_5f5df_row2_col0, #T_5f5df_row2_col1, #T_5f5df_row2_col2, #T_5f5df_row2_col3, #T_5f5df_row2_col4, #T_5f5df_row2_col5, #T_5f5df_row3_col0, #T_5f5df_row3_col1, #T_5f5df_row3_col2, #T_5f5df_row3_col3, #T_5f5df_row3_col4, #T_5f5df_row3_col5, #T_5f5df_row4_col0, #T_5f5df_row4_col1, #T_5f5df_row4_col2, #T_5f5df_row4_col3, #T_5f5df_row4_col4, #T_5f5df_row4_col5 {\n",
       "  text-align: left;\n",
       "}\n",
       "</style>\n",
       "<table id=\"T_5f5df\">\n",
       "  <thead>\n",
       "    <tr>\n",
       "      <th class=\"blank level0\" >&nbsp;</th>\n",
       "      <th id=\"T_5f5df_level0_col0\" class=\"col_heading level0 col0\" >Avg Response Time</th>\n",
       "      <th id=\"T_5f5df_level0_col1\" class=\"col_heading level0 col1\" >Request Count</th>\n",
       "      <th id=\"T_5f5df_level0_col2\" class=\"col_heading level0 col2\" >Failure Count</th>\n",
       "      <th id=\"T_5f5df_level0_col3\" class=\"col_heading level0 col3\" >Approx Std Dev</th>\n",
       "      <th id=\"T_5f5df_level0_col4\" class=\"col_heading level0 col4\" >Min Response Time</th>\n",
       "      <th id=\"T_5f5df_level0_col5\" class=\"col_heading level0 col5\" >Max Response Time</th>\n",
       "    </tr>\n",
       "    <tr>\n",
       "      <th class=\"index_name level0\" >Request</th>\n",
       "      <th class=\"blank col0\" >&nbsp;</th>\n",
       "      <th class=\"blank col1\" >&nbsp;</th>\n",
       "      <th class=\"blank col2\" >&nbsp;</th>\n",
       "      <th class=\"blank col3\" >&nbsp;</th>\n",
       "      <th class=\"blank col4\" >&nbsp;</th>\n",
       "      <th class=\"blank col5\" >&nbsp;</th>\n",
       "    </tr>\n",
       "  </thead>\n",
       "  <tbody>\n",
       "    <tr>\n",
       "      <th id=\"T_5f5df_level0_row0\" class=\"row_heading level0 row0\" >DELETE /data/v3/ed-fi/schools/{id}</th>\n",
       "      <td id=\"T_5f5df_row0_col0\" class=\"data row0 col0\" >39.93</td>\n",
       "      <td id=\"T_5f5df_row0_col1\" class=\"data row0 col1\" >14</td>\n",
       "      <td id=\"T_5f5df_row0_col2\" class=\"data row0 col2\" >0</td>\n",
       "      <td id=\"T_5f5df_row0_col3\" class=\"data row0 col3\" >35.04</td>\n",
       "      <td id=\"T_5f5df_row0_col4\" class=\"data row0 col4\" >13</td>\n",
       "      <td id=\"T_5f5df_row0_col5\" class=\"data row0 col5\" >108</td>\n",
       "    </tr>\n",
       "    <tr>\n",
       "      <th id=\"T_5f5df_level0_row1\" class=\"row_heading level0 row1\" >PUT /data/v3/ed-fi/schools/{id}</th>\n",
       "      <td id=\"T_5f5df_row1_col0\" class=\"data row1 col0\" >46.50</td>\n",
       "      <td id=\"T_5f5df_row1_col1\" class=\"data row1 col1\" >12</td>\n",
       "      <td id=\"T_5f5df_row1_col2\" class=\"data row1 col2\" >0</td>\n",
       "      <td id=\"T_5f5df_row1_col3\" class=\"data row1 col3\" >71.75</td>\n",
       "      <td id=\"T_5f5df_row1_col4\" class=\"data row1 col4\" >15</td>\n",
       "      <td id=\"T_5f5df_row1_col5\" class=\"data row1 col5\" >194</td>\n",
       "    </tr>\n",
       "    <tr>\n",
       "      <th id=\"T_5f5df_level0_row2\" class=\"row_heading level0 row2\" >post /oauth/token/</th>\n",
       "      <td id=\"T_5f5df_row2_col0\" class=\"data row2 col0\" >1105.02</td>\n",
       "      <td id=\"T_5f5df_row2_col1\" class=\"data row2 col1\" >50</td>\n",
       "      <td id=\"T_5f5df_row2_col2\" class=\"data row2 col2\" >0</td>\n",
       "      <td id=\"T_5f5df_row2_col3\" class=\"data row2 col3\" >197.49</td>\n",
       "      <td id=\"T_5f5df_row2_col4\" class=\"data row2 col4\" >622</td>\n",
       "      <td id=\"T_5f5df_row2_col5\" class=\"data row2 col5\" >1506</td>\n",
       "    </tr>\n",
       "    <tr>\n",
       "      <th id=\"T_5f5df_level0_row3\" class=\"row_heading level0 row3\" >POST /data/v3/ed-fi/schools</th>\n",
       "      <td id=\"T_5f5df_row3_col0\" class=\"data row3 col0\" >1354.60</td>\n",
       "      <td id=\"T_5f5df_row3_col1\" class=\"data row3 col1\" >15</td>\n",
       "      <td id=\"T_5f5df_row3_col2\" class=\"data row3 col2\" >0</td>\n",
       "      <td id=\"T_5f5df_row3_col3\" class=\"data row3 col3\" >2822.70</td>\n",
       "      <td id=\"T_5f5df_row3_col4\" class=\"data row3 col4\" >18</td>\n",
       "      <td id=\"T_5f5df_row3_col5\" class=\"data row3 col5\" >7022</td>\n",
       "    </tr>\n",
       "    <tr>\n",
       "      <th id=\"T_5f5df_level0_row4\" class=\"row_heading level0 row4\" >GET /data/v3/ed-fi/localEducationAgencies</th>\n",
       "      <td id=\"T_5f5df_row4_col0\" class=\"data row4 col0\" >2322.00</td>\n",
       "      <td id=\"T_5f5df_row4_col1\" class=\"data row4 col1\" >3</td>\n",
       "      <td id=\"T_5f5df_row4_col2\" class=\"data row4 col2\" >0</td>\n",
       "      <td id=\"T_5f5df_row4_col3\" class=\"data row4 col3\" >2289.00</td>\n",
       "      <td id=\"T_5f5df_row4_col4\" class=\"data row4 col4\" >16</td>\n",
       "      <td id=\"T_5f5df_row4_col5\" class=\"data row4 col5\" >6930</td>\n",
       "    </tr>\n",
       "  </tbody>\n",
       "</table>\n"
      ],
      "text/plain": [
       "<IPython.core.display.HTML object>"
      ]
     },
     "metadata": {},
     "output_type": "display_data"
    },
    {
     "data": {
      "text/markdown": [
       "### Web Server Data"
      ],
      "text/plain": [
       "<IPython.core.display.Markdown object>"
      ]
     },
     "metadata": {},
     "output_type": "display_data"
    },
    {
     "data": {
      "image/png": "[encoded data removed]",
      "text/plain": [
       "<Figure size 640x480 with 1 Axes>"
      ]
     },
     "metadata": {},
     "output_type": "display_data"
    },
    {
     "data": {
      "text/markdown": [
       "y=(-0.0041)x + 1.411, r=-1.0"
      ],
      "text/plain": [
       "<IPython.core.display.Markdown object>"
      ]
     },
     "metadata": {},
     "output_type": "display_data"
    },
    {
     "data": {
      "image/png": "[encoded data removed]",
      "text/plain": [
       "<Figure size 640x480 with 1 Axes>"
      ]
     },
     "metadata": {},
     "output_type": "display_data"
    },
    {
     "data": {
      "text/markdown": [
       "y=(0.2364)x + 16.8396, r=1.0"
      ],
      "text/plain": [
       "<IPython.core.display.Markdown object>"
      ]
     },
     "metadata": {},
     "output_type": "display_data"
    },
    {
     "data": {
      "text/markdown": [
       "### Db Server Data"
      ],
      "text/plain": [
       "<IPython.core.display.Markdown object>"
      ]
     },
     "metadata": {},
     "output_type": "display_data"
    },
    {
     "data": {
      "image/png": "[encoded data removed]",
      "text/plain": [
       "<Figure size 640x480 with 1 Axes>"
      ]
     },
     "metadata": {},
     "output_type": "display_data"
    },
    {
     "data": {
      "text/markdown": [
       "y=(0.0072)x + 0.8777, r=1.0"
      ],
      "text/plain": [
       "<IPython.core.display.Markdown object>"
      ]
     },
     "metadata": {},
     "output_type": "display_data"
    },
    {
     "data": {
      "image/png": "[encoded data removed]",
      "text/plain": [
       "<Figure size 640x480 with 1 Axes>"
      ]
     },
     "metadata": {},
     "output_type": "display_data"
    },
    {
     "data": {
      "text/markdown": [
       "y=(0.1354)x + 16.3721, r=1.0"
      ],
      "text/plain": [
       "<IPython.core.display.Markdown object>"
      ]
     },
     "metadata": {},
     "output_type": "display_data"
    }
   ],
   "source": [
    "from edfi_perf_test_analysis.volume import run_analysis, run_comparison\n",
    "results_dir, df_stats = run_analysis()"
   ]
  },
  {
   "attachments": {},
   "cell_type": "markdown",
   "id": "933333ea",
   "metadata": {},
   "source": [
    "# Comparison\n",
    "\n",
    "Optional: run the following to select a second directory for head-to-head comparison of results."
   ]
  },
  {
   "cell_type": "code",
   "execution_count": 2,
   "id": "ec80c393",
   "metadata": {
    "scrolled": false
   },
   "outputs": [
    {
     "data": {
      "text/markdown": [
       "✅ **Running analysis on C:\\Users\\JohnnyBrenes\\Desktop\\EdFi\\PERF-289\\Volume\\26May**"
      ],
      "text/plain": [
       "<IPython.core.display.Markdown object>"
      ]
     },
     "metadata": {},
     "output_type": "display_data"
    },
    {
     "data": {
      "text/markdown": [
       "## Summary Statistics"
      ],
      "text/plain": [
       "<IPython.core.display.Markdown object>"
      ]
     },
     "metadata": {},
     "output_type": "display_data"
    },
    {
     "data": {
      "text/markdown": [
       "### Left Summary"
      ],
      "text/plain": [
       "<IPython.core.display.Markdown object>"
      ]
     },
     "metadata": {},
     "output_type": "display_data"
    },
    {
     "data": {
      "text/markdown": [
       "Directory: C:\\Users\\JohnnyBrenes\\Desktop\\EdFi\\PERF-289\\Volume\\12Jun"
      ],
      "text/plain": [
       "<IPython.core.display.Markdown object>"
      ]
     },
     "metadata": {},
     "output_type": "display_data"
    },
    {
     "data": {
      "text/html": [
       "<style type=\"text/css\">\n",
       "#T_42db3 th {\n",
       "  text-align: left;\n",
       "}\n",
       "#T_42db3_row0_col0, #T_42db3_row0_col1, #T_42db3_row0_col2, #T_42db3_row0_col3, #T_42db3_row1_col0, #T_42db3_row1_col1, #T_42db3_row1_col2, #T_42db3_row1_col3, #T_42db3_row2_col0, #T_42db3_row2_col1, #T_42db3_row2_col2, #T_42db3_row2_col3, #T_42db3_row3_col0, #T_42db3_row3_col1, #T_42db3_row3_col2, #T_42db3_row3_col3 {\n",
       "  text-align: left;\n",
       "}\n",
       "</style>\n",
       "<table id=\"T_42db3\">\n",
       "  <thead>\n",
       "    <tr>\n",
       "      <th class=\"blank level0\" >&nbsp;</th>\n",
       "      <th id=\"T_42db3_level0_col0\" class=\"col_heading level0 col0\" >Request Count</th>\n",
       "      <th id=\"T_42db3_level0_col1\" class=\"col_heading level0 col1\" >Failure Count</th>\n",
       "      <th id=\"T_42db3_level0_col2\" class=\"col_heading level0 col2\" >Avg Response Time</th>\n",
       "      <th id=\"T_42db3_level0_col3\" class=\"col_heading level0 col3\" >Approx Std Dev</th>\n",
       "    </tr>\n",
       "  </thead>\n",
       "  <tbody>\n",
       "    <tr>\n",
       "      <th id=\"T_42db3_level0_row0\" class=\"row_heading level0 row0\" >sum</th>\n",
       "      <td id=\"T_42db3_row0_col0\" class=\"data row0 col0\" >94.00</td>\n",
       "      <td id=\"T_42db3_row0_col1\" class=\"data row0 col1\" >0.00</td>\n",
       "      <td id=\"T_42db3_row0_col2\" class=\"data row0 col2\" ></td>\n",
       "      <td id=\"T_42db3_row0_col3\" class=\"data row0 col3\" ></td>\n",
       "    </tr>\n",
       "    <tr>\n",
       "      <th id=\"T_42db3_level0_row1\" class=\"row_heading level0 row1\" >mean</th>\n",
       "      <td id=\"T_42db3_row1_col0\" class=\"data row1 col0\" ></td>\n",
       "      <td id=\"T_42db3_row1_col1\" class=\"data row1 col1\" ></td>\n",
       "      <td id=\"T_42db3_row1_col2\" class=\"data row1 col2\" >973.61</td>\n",
       "      <td id=\"T_42db3_row1_col3\" class=\"data row1 col3\" >1083.20</td>\n",
       "    </tr>\n",
       "    <tr>\n",
       "      <th id=\"T_42db3_level0_row2\" class=\"row_heading level0 row2\" >min</th>\n",
       "      <td id=\"T_42db3_row2_col0\" class=\"data row2 col0\" ></td>\n",
       "      <td id=\"T_42db3_row2_col1\" class=\"data row2 col1\" ></td>\n",
       "      <td id=\"T_42db3_row2_col2\" class=\"data row2 col2\" >39.93</td>\n",
       "      <td id=\"T_42db3_row2_col3\" class=\"data row2 col3\" >35.04</td>\n",
       "    </tr>\n",
       "    <tr>\n",
       "      <th id=\"T_42db3_level0_row3\" class=\"row_heading level0 row3\" >max</th>\n",
       "      <td id=\"T_42db3_row3_col0\" class=\"data row3 col0\" ></td>\n",
       "      <td id=\"T_42db3_row3_col1\" class=\"data row3 col1\" ></td>\n",
       "      <td id=\"T_42db3_row3_col2\" class=\"data row3 col2\" >2322.00</td>\n",
       "      <td id=\"T_42db3_row3_col3\" class=\"data row3 col3\" >2822.70</td>\n",
       "    </tr>\n",
       "  </tbody>\n",
       "</table>\n"
      ],
      "text/plain": [
       "<IPython.core.display.HTML object>"
      ]
     },
     "metadata": {},
     "output_type": "display_data"
    },
    {
     "data": {
      "text/markdown": [
       "### Right Summary"
      ],
      "text/plain": [
       "<IPython.core.display.Markdown object>"
      ]
     },
     "metadata": {},
     "output_type": "display_data"
    },
    {
     "data": {
      "text/markdown": [
       "Directory: C:\\Users\\JohnnyBrenes\\Desktop\\EdFi\\PERF-289\\Volume\\26May"
      ],
      "text/plain": [
       "<IPython.core.display.Markdown object>"
      ]
     },
     "metadata": {},
     "output_type": "display_data"
    },
    {
     "data": {
      "text/html": [
       "<style type=\"text/css\">\n",
       "#T_a5f65 th {\n",
       "  text-align: left;\n",
       "}\n",
       "#T_a5f65_row0_col0, #T_a5f65_row0_col1, #T_a5f65_row0_col2, #T_a5f65_row0_col3, #T_a5f65_row1_col0, #T_a5f65_row1_col1, #T_a5f65_row1_col2, #T_a5f65_row1_col3, #T_a5f65_row2_col0, #T_a5f65_row2_col1, #T_a5f65_row2_col2, #T_a5f65_row2_col3, #T_a5f65_row3_col0, #T_a5f65_row3_col1, #T_a5f65_row3_col2, #T_a5f65_row3_col3 {\n",
       "  text-align: left;\n",
       "}\n",
       "</style>\n",
       "<table id=\"T_a5f65\">\n",
       "  <thead>\n",
       "    <tr>\n",
       "      <th class=\"blank level0\" >&nbsp;</th>\n",
       "      <th id=\"T_a5f65_level0_col0\" class=\"col_heading level0 col0\" >Request Count</th>\n",
       "      <th id=\"T_a5f65_level0_col1\" class=\"col_heading level0 col1\" >Failure Count</th>\n",
       "      <th id=\"T_a5f65_level0_col2\" class=\"col_heading level0 col2\" >Avg Response Time</th>\n",
       "      <th id=\"T_a5f65_level0_col3\" class=\"col_heading level0 col3\" >Approx Std Dev</th>\n",
       "    </tr>\n",
       "  </thead>\n",
       "  <tbody>\n",
       "    <tr>\n",
       "      <th id=\"T_a5f65_level0_row0\" class=\"row_heading level0 row0\" >sum</th>\n",
       "      <td id=\"T_a5f65_row0_col0\" class=\"data row0 col0\" >139314.00</td>\n",
       "      <td id=\"T_a5f65_row0_col1\" class=\"data row0 col1\" >296.00</td>\n",
       "      <td id=\"T_a5f65_row0_col2\" class=\"data row0 col2\" ></td>\n",
       "      <td id=\"T_a5f65_row0_col3\" class=\"data row0 col3\" ></td>\n",
       "    </tr>\n",
       "    <tr>\n",
       "      <th id=\"T_a5f65_level0_row1\" class=\"row_heading level0 row1\" >mean</th>\n",
       "      <td id=\"T_a5f65_row1_col0\" class=\"data row1 col0\" ></td>\n",
       "      <td id=\"T_a5f65_row1_col1\" class=\"data row1 col1\" ></td>\n",
       "      <td id=\"T_a5f65_row1_col2\" class=\"data row1 col2\" >771.18</td>\n",
       "      <td id=\"T_a5f65_row1_col3\" class=\"data row1 col3\" >689.62</td>\n",
       "    </tr>\n",
       "    <tr>\n",
       "      <th id=\"T_a5f65_level0_row2\" class=\"row_heading level0 row2\" >min</th>\n",
       "      <td id=\"T_a5f65_row2_col0\" class=\"data row2 col0\" ></td>\n",
       "      <td id=\"T_a5f65_row2_col1\" class=\"data row2 col1\" ></td>\n",
       "      <td id=\"T_a5f65_row2_col2\" class=\"data row2 col2\" >11.42</td>\n",
       "      <td id=\"T_a5f65_row2_col3\" class=\"data row2 col3\" >-103.69</td>\n",
       "    </tr>\n",
       "    <tr>\n",
       "      <th id=\"T_a5f65_level0_row3\" class=\"row_heading level0 row3\" >max</th>\n",
       "      <td id=\"T_a5f65_row3_col0\" class=\"data row3 col0\" ></td>\n",
       "      <td id=\"T_a5f65_row3_col1\" class=\"data row3 col1\" ></td>\n",
       "      <td id=\"T_a5f65_row3_col2\" class=\"data row3 col2\" >9289.89</td>\n",
       "      <td id=\"T_a5f65_row3_col3\" class=\"data row3 col3\" >6160.95</td>\n",
       "    </tr>\n",
       "  </tbody>\n",
       "</table>\n"
      ],
      "text/plain": [
       "<IPython.core.display.HTML object>"
      ]
     },
     "metadata": {},
     "output_type": "display_data"
    },
    {
     "data": {
      "text/markdown": [
       "## Direct Comparison"
      ],
      "text/plain": [
       "<IPython.core.display.Markdown object>"
      ]
     },
     "metadata": {},
     "output_type": "display_data"
    },
    {
     "data": {
      "text/markdown": [
       "Hypothesis: the average response times for each request are the same in both sets."
      ],
      "text/plain": [
       "<IPython.core.display.Markdown object>"
      ]
     },
     "metadata": {},
     "output_type": "display_data"
    },
    {
     "data": {
      "text/markdown": [
       "### Worse"
      ],
      "text/plain": [
       "<IPython.core.display.Markdown object>"
      ]
     },
     "metadata": {},
     "output_type": "display_data"
    },
    {
     "data": {
      "text/markdown": [
       "95% confident that the response times are in fact different from on another, and the second data set is worse than the first data set."
      ],
      "text/plain": [
       "<IPython.core.display.Markdown object>"
      ]
     },
     "metadata": {},
     "output_type": "display_data"
    },
    {
     "data": {
      "text/html": [
       "<style type=\"text/css\">\n",
       "#T_587c8 th {\n",
       "  text-align: left;\n",
       "}\n",
       "#T_587c8_row0_col0, #T_587c8_row0_col1, #T_587c8_row0_col2, #T_587c8_row0_col3, #T_587c8_row0_col4, #T_587c8_row0_col5, #T_587c8_row0_col6, #T_587c8_row0_col7, #T_587c8_row0_col8, #T_587c8_row0_col9, #T_587c8_row0_col10, #T_587c8_row0_col11, #T_587c8_row0_col12, #T_587c8_row0_col13 {\n",
       "  text-align: left;\n",
       "}\n",
       "</style>\n",
       "<table id=\"T_587c8\">\n",
       "  <thead>\n",
       "    <tr>\n",
       "      <th class=\"blank level0\" >&nbsp;</th>\n",
       "      <th id=\"T_587c8_level0_col0\" class=\"col_heading level0 col0\" >Avg Response Time_l</th>\n",
       "      <th id=\"T_587c8_level0_col1\" class=\"col_heading level0 col1\" >Request Count_l</th>\n",
       "      <th id=\"T_587c8_level0_col2\" class=\"col_heading level0 col2\" >Failure Count_l</th>\n",
       "      <th id=\"T_587c8_level0_col3\" class=\"col_heading level0 col3\" >Approx Std Dev_l</th>\n",
       "      <th id=\"T_587c8_level0_col4\" class=\"col_heading level0 col4\" >Min Response Time_l</th>\n",
       "      <th id=\"T_587c8_level0_col5\" class=\"col_heading level0 col5\" >Max Response Time_l</th>\n",
       "      <th id=\"T_587c8_level0_col6\" class=\"col_heading level0 col6\" >Avg Response Time_r</th>\n",
       "      <th id=\"T_587c8_level0_col7\" class=\"col_heading level0 col7\" >Request Count_r</th>\n",
       "      <th id=\"T_587c8_level0_col8\" class=\"col_heading level0 col8\" >Failure Count_r</th>\n",
       "      <th id=\"T_587c8_level0_col9\" class=\"col_heading level0 col9\" >Approx Std Dev_r</th>\n",
       "      <th id=\"T_587c8_level0_col10\" class=\"col_heading level0 col10\" >Min Response Time_r</th>\n",
       "      <th id=\"T_587c8_level0_col11\" class=\"col_heading level0 col11\" >Max Response Time_r</th>\n",
       "      <th id=\"T_587c8_level0_col12\" class=\"col_heading level0 col12\" >diff</th>\n",
       "      <th id=\"T_587c8_level0_col13\" class=\"col_heading level0 col13\" >T p-value</th>\n",
       "    </tr>\n",
       "    <tr>\n",
       "      <th class=\"index_name level0\" >Request</th>\n",
       "      <th class=\"blank col0\" >&nbsp;</th>\n",
       "      <th class=\"blank col1\" >&nbsp;</th>\n",
       "      <th class=\"blank col2\" >&nbsp;</th>\n",
       "      <th class=\"blank col3\" >&nbsp;</th>\n",
       "      <th class=\"blank col4\" >&nbsp;</th>\n",
       "      <th class=\"blank col5\" >&nbsp;</th>\n",
       "      <th class=\"blank col6\" >&nbsp;</th>\n",
       "      <th class=\"blank col7\" >&nbsp;</th>\n",
       "      <th class=\"blank col8\" >&nbsp;</th>\n",
       "      <th class=\"blank col9\" >&nbsp;</th>\n",
       "      <th class=\"blank col10\" >&nbsp;</th>\n",
       "      <th class=\"blank col11\" >&nbsp;</th>\n",
       "      <th class=\"blank col12\" >&nbsp;</th>\n",
       "      <th class=\"blank col13\" >&nbsp;</th>\n",
       "    </tr>\n",
       "  </thead>\n",
       "  <tbody>\n",
       "    <tr>\n",
       "      <th id=\"T_587c8_level0_row0\" class=\"row_heading level0 row0\" >post /oauth/token/</th>\n",
       "      <td id=\"T_587c8_row0_col0\" class=\"data row0 col0\" >1105.02</td>\n",
       "      <td id=\"T_587c8_row0_col1\" class=\"data row0 col1\" >50</td>\n",
       "      <td id=\"T_587c8_row0_col2\" class=\"data row0 col2\" >0</td>\n",
       "      <td id=\"T_587c8_row0_col3\" class=\"data row0 col3\" >197.49</td>\n",
       "      <td id=\"T_587c8_row0_col4\" class=\"data row0 col4\" >622</td>\n",
       "      <td id=\"T_587c8_row0_col5\" class=\"data row0 col5\" >1506</td>\n",
       "      <td id=\"T_587c8_row0_col6\" class=\"data row0 col6\" >1511.42</td>\n",
       "      <td id=\"T_587c8_row0_col7\" class=\"data row0 col7\" >50</td>\n",
       "      <td id=\"T_587c8_row0_col8\" class=\"data row0 col8\" >0</td>\n",
       "      <td id=\"T_587c8_row0_col9\" class=\"data row0 col9\" >344.29</td>\n",
       "      <td id=\"T_587c8_row0_col10\" class=\"data row0 col10\" >1208</td>\n",
       "      <td id=\"T_587c8_row0_col11\" class=\"data row0 col11\" >2158</td>\n",
       "      <td id=\"T_587c8_row0_col12\" class=\"data row0 col12\" >-406.40</td>\n",
       "      <td id=\"T_587c8_row0_col13\" class=\"data row0 col13\" >0.00</td>\n",
       "    </tr>\n",
       "  </tbody>\n",
       "</table>\n"
      ],
      "text/plain": [
       "<IPython.core.display.HTML object>"
      ]
     },
     "metadata": {},
     "output_type": "display_data"
    },
    {
     "data": {
      "text/markdown": [
       "### Same"
      ],
      "text/plain": [
       "<IPython.core.display.Markdown object>"
      ]
     },
     "metadata": {},
     "output_type": "display_data"
    },
    {
     "data": {
      "text/markdown": [
       "95% confident that the response times are the same."
      ],
      "text/plain": [
       "<IPython.core.display.Markdown object>"
      ]
     },
     "metadata": {},
     "output_type": "display_data"
    },
    {
     "data": {
      "text/markdown": [
       "❕ **No data to display**"
      ],
      "text/plain": [
       "<IPython.core.display.Markdown object>"
      ]
     },
     "metadata": {},
     "output_type": "display_data"
    },
    {
     "data": {
      "text/markdown": [
       "### Better"
      ],
      "text/plain": [
       "<IPython.core.display.Markdown object>"
      ]
     },
     "metadata": {},
     "output_type": "display_data"
    },
    {
     "data": {
      "text/markdown": [
       "95% confident that the response times are in fact different from on another, and the second data set is better than the first data set."
      ],
      "text/plain": [
       "<IPython.core.display.Markdown object>"
      ]
     },
     "metadata": {},
     "output_type": "display_data"
    },
    {
     "data": {
      "text/markdown": [
       "❕ **No data to display**"
      ],
      "text/plain": [
       "<IPython.core.display.Markdown object>"
      ]
     },
     "metadata": {},
     "output_type": "display_data"
    },
    {
     "data": {
      "text/markdown": [
       "### Too Few Data Points"
      ],
      "text/plain": [
       "<IPython.core.display.Markdown object>"
      ]
     },
     "metadata": {},
     "output_type": "display_data"
    },
    {
     "data": {
      "text/markdown": [
       "There were < 30 data points for the following, therefore could not perform a T-Test to statistically compare the distributions."
      ],
      "text/plain": [
       "<IPython.core.display.Markdown object>"
      ]
     },
     "metadata": {},
     "output_type": "display_data"
    },
    {
     "data": {
      "text/html": [
       "<style type=\"text/css\">\n",
       "#T_5282e th {\n",
       "  text-align: left;\n",
       "}\n",
       "#T_5282e_row0_col0, #T_5282e_row0_col1, #T_5282e_row0_col2, #T_5282e_row0_col3, #T_5282e_row0_col4, #T_5282e_row0_col5, #T_5282e_row0_col6, #T_5282e_row0_col7, #T_5282e_row0_col8, #T_5282e_row0_col9, #T_5282e_row0_col10, #T_5282e_row0_col11, #T_5282e_row0_col12, #T_5282e_row1_col0, #T_5282e_row1_col1, #T_5282e_row1_col2, #T_5282e_row1_col3, #T_5282e_row1_col4, #T_5282e_row1_col5, #T_5282e_row1_col6, #T_5282e_row1_col7, #T_5282e_row1_col8, #T_5282e_row1_col9, #T_5282e_row1_col10, #T_5282e_row1_col11, #T_5282e_row1_col12, #T_5282e_row2_col0, #T_5282e_row2_col1, #T_5282e_row2_col2, #T_5282e_row2_col3, #T_5282e_row2_col4, #T_5282e_row2_col5, #T_5282e_row2_col6, #T_5282e_row2_col7, #T_5282e_row2_col8, #T_5282e_row2_col9, #T_5282e_row2_col10, #T_5282e_row2_col11, #T_5282e_row2_col12, #T_5282e_row3_col0, #T_5282e_row3_col1, #T_5282e_row3_col2, #T_5282e_row3_col3, #T_5282e_row3_col4, #T_5282e_row3_col5, #T_5282e_row3_col6, #T_5282e_row3_col7, #T_5282e_row3_col8, #T_5282e_row3_col9, #T_5282e_row3_col10, #T_5282e_row3_col11, #T_5282e_row3_col12 {\n",
       "  text-align: left;\n",
       "}\n",
       "</style>\n",
       "<table id=\"T_5282e\">\n",
       "  <thead>\n",
       "    <tr>\n",
       "      <th class=\"blank level0\" >&nbsp;</th>\n",
       "      <th id=\"T_5282e_level0_col0\" class=\"col_heading level0 col0\" >Avg Response Time_l</th>\n",
       "      <th id=\"T_5282e_level0_col1\" class=\"col_heading level0 col1\" >Request Count_l</th>\n",
       "      <th id=\"T_5282e_level0_col2\" class=\"col_heading level0 col2\" >Failure Count_l</th>\n",
       "      <th id=\"T_5282e_level0_col3\" class=\"col_heading level0 col3\" >Approx Std Dev_l</th>\n",
       "      <th id=\"T_5282e_level0_col4\" class=\"col_heading level0 col4\" >Min Response Time_l</th>\n",
       "      <th id=\"T_5282e_level0_col5\" class=\"col_heading level0 col5\" >Max Response Time_l</th>\n",
       "      <th id=\"T_5282e_level0_col6\" class=\"col_heading level0 col6\" >Avg Response Time_r</th>\n",
       "      <th id=\"T_5282e_level0_col7\" class=\"col_heading level0 col7\" >Request Count_r</th>\n",
       "      <th id=\"T_5282e_level0_col8\" class=\"col_heading level0 col8\" >Failure Count_r</th>\n",
       "      <th id=\"T_5282e_level0_col9\" class=\"col_heading level0 col9\" >Approx Std Dev_r</th>\n",
       "      <th id=\"T_5282e_level0_col10\" class=\"col_heading level0 col10\" >Min Response Time_r</th>\n",
       "      <th id=\"T_5282e_level0_col11\" class=\"col_heading level0 col11\" >Max Response Time_r</th>\n",
       "      <th id=\"T_5282e_level0_col12\" class=\"col_heading level0 col12\" >diff</th>\n",
       "    </tr>\n",
       "    <tr>\n",
       "      <th class=\"index_name level0\" >Request</th>\n",
       "      <th class=\"blank col0\" >&nbsp;</th>\n",
       "      <th class=\"blank col1\" >&nbsp;</th>\n",
       "      <th class=\"blank col2\" >&nbsp;</th>\n",
       "      <th class=\"blank col3\" >&nbsp;</th>\n",
       "      <th class=\"blank col4\" >&nbsp;</th>\n",
       "      <th class=\"blank col5\" >&nbsp;</th>\n",
       "      <th class=\"blank col6\" >&nbsp;</th>\n",
       "      <th class=\"blank col7\" >&nbsp;</th>\n",
       "      <th class=\"blank col8\" >&nbsp;</th>\n",
       "      <th class=\"blank col9\" >&nbsp;</th>\n",
       "      <th class=\"blank col10\" >&nbsp;</th>\n",
       "      <th class=\"blank col11\" >&nbsp;</th>\n",
       "      <th class=\"blank col12\" >&nbsp;</th>\n",
       "    </tr>\n",
       "  </thead>\n",
       "  <tbody>\n",
       "    <tr>\n",
       "      <th id=\"T_5282e_level0_row0\" class=\"row_heading level0 row0\" >GET /data/v3/ed-fi/localEducationAgencies</th>\n",
       "      <td id=\"T_5282e_row0_col0\" class=\"data row0 col0\" >2322.00</td>\n",
       "      <td id=\"T_5282e_row0_col1\" class=\"data row0 col1\" >3</td>\n",
       "      <td id=\"T_5282e_row0_col2\" class=\"data row0 col2\" >0</td>\n",
       "      <td id=\"T_5282e_row0_col3\" class=\"data row0 col3\" >2289.00</td>\n",
       "      <td id=\"T_5282e_row0_col4\" class=\"data row0 col4\" >16</td>\n",
       "      <td id=\"T_5282e_row0_col5\" class=\"data row0 col5\" >6930</td>\n",
       "      <td id=\"T_5282e_row0_col6\" class=\"data row0 col6\" >3049.50</td>\n",
       "      <td id=\"T_5282e_row0_col7\" class=\"data row0 col7\" >2</td>\n",
       "      <td id=\"T_5282e_row0_col8\" class=\"data row0 col8\" >0</td>\n",
       "      <td id=\"T_5282e_row0_col9\" class=\"data row0 col9\" >1525.25</td>\n",
       "      <td id=\"T_5282e_row0_col10\" class=\"data row0 col10\" >14</td>\n",
       "      <td id=\"T_5282e_row0_col11\" class=\"data row0 col11\" >6085</td>\n",
       "      <td id=\"T_5282e_row0_col12\" class=\"data row0 col12\" >-727.50</td>\n",
       "    </tr>\n",
       "    <tr>\n",
       "      <th id=\"T_5282e_level0_row1\" class=\"row_heading level0 row1\" >POST /data/v3/ed-fi/schools</th>\n",
       "      <td id=\"T_5282e_row1_col0\" class=\"data row1 col0\" >1354.60</td>\n",
       "      <td id=\"T_5282e_row1_col1\" class=\"data row1 col1\" >15</td>\n",
       "      <td id=\"T_5282e_row1_col2\" class=\"data row1 col2\" >0</td>\n",
       "      <td id=\"T_5282e_row1_col3\" class=\"data row1 col3\" >2822.70</td>\n",
       "      <td id=\"T_5282e_row1_col4\" class=\"data row1 col4\" >18</td>\n",
       "      <td id=\"T_5282e_row1_col5\" class=\"data row1 col5\" >7022</td>\n",
       "      <td id=\"T_5282e_row1_col6\" class=\"data row1 col6\" >6676.11</td>\n",
       "      <td id=\"T_5282e_row1_col7\" class=\"data row1 col7\" >591</td>\n",
       "      <td id=\"T_5282e_row1_col8\" class=\"data row1 col8\" >0</td>\n",
       "      <td id=\"T_5282e_row1_col9\" class=\"data row1 col9\" >4661.95</td>\n",
       "      <td id=\"T_5282e_row1_col10\" class=\"data row1 col10\" >15</td>\n",
       "      <td id=\"T_5282e_row1_col11\" class=\"data row1 col11\" >21961</td>\n",
       "      <td id=\"T_5282e_row1_col12\" class=\"data row1 col12\" >-5321.51</td>\n",
       "    </tr>\n",
       "    <tr>\n",
       "      <th id=\"T_5282e_level0_row2\" class=\"row_heading level0 row2\" >DELETE /data/v3/ed-fi/schools/{id}</th>\n",
       "      <td id=\"T_5282e_row2_col0\" class=\"data row2 col0\" >39.93</td>\n",
       "      <td id=\"T_5282e_row2_col1\" class=\"data row2 col1\" >14</td>\n",
       "      <td id=\"T_5282e_row2_col2\" class=\"data row2 col2\" >0</td>\n",
       "      <td id=\"T_5282e_row2_col3\" class=\"data row2 col3\" >35.04</td>\n",
       "      <td id=\"T_5282e_row2_col4\" class=\"data row2 col4\" >13</td>\n",
       "      <td id=\"T_5282e_row2_col5\" class=\"data row2 col5\" >108</td>\n",
       "      <td id=\"T_5282e_row2_col6\" class=\"data row2 col6\" >63.84</td>\n",
       "      <td id=\"T_5282e_row2_col7\" class=\"data row2 col7\" >589</td>\n",
       "      <td id=\"T_5282e_row2_col8\" class=\"data row2 col8\" >1</td>\n",
       "      <td id=\"T_5282e_row2_col9\" class=\"data row2 col9\" >28.08</td>\n",
       "      <td id=\"T_5282e_row2_col10\" class=\"data row2 col10\" >12</td>\n",
       "      <td id=\"T_5282e_row2_col11\" class=\"data row2 col11\" >3042</td>\n",
       "      <td id=\"T_5282e_row2_col12\" class=\"data row2 col12\" >-23.91</td>\n",
       "    </tr>\n",
       "    <tr>\n",
       "      <th id=\"T_5282e_level0_row3\" class=\"row_heading level0 row3\" >PUT /data/v3/ed-fi/schools/{id}</th>\n",
       "      <td id=\"T_5282e_row3_col0\" class=\"data row3 col0\" >46.50</td>\n",
       "      <td id=\"T_5282e_row3_col1\" class=\"data row3 col1\" >12</td>\n",
       "      <td id=\"T_5282e_row3_col2\" class=\"data row3 col2\" >0</td>\n",
       "      <td id=\"T_5282e_row3_col3\" class=\"data row3 col3\" >71.75</td>\n",
       "      <td id=\"T_5282e_row3_col4\" class=\"data row3 col4\" >15</td>\n",
       "      <td id=\"T_5282e_row3_col5\" class=\"data row3 col5\" >194</td>\n",
       "      <td id=\"T_5282e_row3_col6\" class=\"data row3 col6\" >34.59</td>\n",
       "      <td id=\"T_5282e_row3_col7\" class=\"data row3 col7\" >190</td>\n",
       "      <td id=\"T_5282e_row3_col8\" class=\"data row3 col8\" >0</td>\n",
       "      <td id=\"T_5282e_row3_col9\" class=\"data row3 col9\" >1.70</td>\n",
       "      <td id=\"T_5282e_row3_col10\" class=\"data row3 col10\" >13</td>\n",
       "      <td id=\"T_5282e_row3_col11\" class=\"data row3 col11\" >1424</td>\n",
       "      <td id=\"T_5282e_row3_col12\" class=\"data row3 col12\" >11.91</td>\n",
       "    </tr>\n",
       "  </tbody>\n",
       "</table>\n"
      ],
      "text/plain": [
       "<IPython.core.display.HTML object>"
      ]
     },
     "metadata": {},
     "output_type": "display_data"
    }
   ],
   "source": [
    "run_comparison(results_dir, df_stats)"
   ]
  }
 ],
 "metadata": {
  "kernelspec": {
   "display_name": "Python 3 (ipykernel)",
   "language": "python",
   "name": "python3"
  },
  "language_info": {
   "codemirror_mode": {
    "name": "ipython",
    "version": 3
   },
   "file_extension": ".py",
   "mimetype": "text/x-python",
   "name": "python",
   "nbconvert_exporter": "python",
   "pygments_lexer": "ipython3",
   "version": "3.10.11"
  }
 },
 "nbformat": 4,
 "nbformat_minor": 5
}
