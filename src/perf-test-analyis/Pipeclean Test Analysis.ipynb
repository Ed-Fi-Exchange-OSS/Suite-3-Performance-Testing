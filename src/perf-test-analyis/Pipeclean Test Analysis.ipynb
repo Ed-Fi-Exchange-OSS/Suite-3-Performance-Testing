{
 "cells": [
  {
   "cell_type": "markdown",
   "id": "fb2bb02e",
   "metadata": {},
   "source": [
    "# Pipeclean Test Analysis\n",
    "\n",
    "Run the cell below. It will prompt you for which directory to access with the pipeclean test results to analyze."
   ]
  },
  {
   "cell_type": "code",
   "execution_count": 1,
   "id": "b57c0f0c",
   "metadata": {},
   "outputs": [
    {
     "data": {
      "text/markdown": [
       "✅ **Running analysis on C:\\source\\exchange\\Suite-3-Performance-Testing\\testResults\\2022-10-24-14-08-12**"
      ],
      "text/plain": [
       "<IPython.core.display.Markdown object>"
      ]
     },
     "metadata": {},
     "output_type": "display_data"
    },
    {
     "data": {
      "text/markdown": [
       "### Exceptions"
      ],
      "text/plain": [
       "<IPython.core.display.Markdown object>"
      ]
     },
     "metadata": {},
     "output_type": "display_data"
    },
    {
     "data": {
      "text/markdown": [
       "First five exceptions"
      ],
      "text/plain": [
       "<IPython.core.display.Markdown object>"
      ]
     },
     "metadata": {},
     "output_type": "display_data"
    },
    {
     "data": {
      "text/markdown": [
       "❕ **No data to display**"
      ],
      "text/plain": [
       "<IPython.core.display.Markdown object>"
      ]
     },
     "metadata": {},
     "output_type": "display_data"
    },
    {
     "data": {
      "text/markdown": [
       "### Failures"
      ],
      "text/plain": [
       "<IPython.core.display.Markdown object>"
      ]
     },
     "metadata": {},
     "output_type": "display_data"
    },
    {
     "data": {
      "text/markdown": [
       "First ten failures"
      ],
      "text/plain": [
       "<IPython.core.display.Markdown object>"
      ]
     },
     "metadata": {},
     "output_type": "display_data"
    },
    {
     "data": {
      "text/markdown": [
       "❕ **No data to display**"
      ],
      "text/plain": [
       "<IPython.core.display.Markdown object>"
      ]
     },
     "metadata": {},
     "output_type": "display_data"
    },
    {
     "data": {
      "text/markdown": [
       "### Summary Stats"
      ],
      "text/plain": [
       "<IPython.core.display.Markdown object>"
      ]
     },
     "metadata": {},
     "output_type": "display_data"
    },
    {
     "data": {
      "text/html": [
       "<style type=\"text/css\">\n",
       "#T_efb9a th {\n",
       "  text-align: left;\n",
       "}\n",
       "#T_efb9a_row0_col0, #T_efb9a_row0_col1, #T_efb9a_row0_col2, #T_efb9a_row0_col3, #T_efb9a_row1_col0, #T_efb9a_row1_col1, #T_efb9a_row1_col2, #T_efb9a_row1_col3, #T_efb9a_row2_col0, #T_efb9a_row2_col1, #T_efb9a_row2_col2, #T_efb9a_row2_col3, #T_efb9a_row3_col0, #T_efb9a_row3_col1, #T_efb9a_row3_col2, #T_efb9a_row3_col3 {\n",
       "  text-align: left;\n",
       "}\n",
       "</style>\n",
       "<table id=\"T_efb9a\">\n",
       "  <thead>\n",
       "    <tr>\n",
       "      <th class=\"blank level0\" >&nbsp;</th>\n",
       "      <th id=\"T_efb9a_level0_col0\" class=\"col_heading level0 col0\" >Request Count</th>\n",
       "      <th id=\"T_efb9a_level0_col1\" class=\"col_heading level0 col1\" >Failure Count</th>\n",
       "      <th id=\"T_efb9a_level0_col2\" class=\"col_heading level0 col2\" >Avg Response Time</th>\n",
       "      <th id=\"T_efb9a_level0_col3\" class=\"col_heading level0 col3\" >Approx Std Dev</th>\n",
       "    </tr>\n",
       "  </thead>\n",
       "  <tbody>\n",
       "    <tr>\n",
       "      <th id=\"T_efb9a_level0_row0\" class=\"row_heading level0 row0\" >sum</th>\n",
       "      <td id=\"T_efb9a_row0_col0\" class=\"data row0 col0\" >1218.00</td>\n",
       "      <td id=\"T_efb9a_row0_col1\" class=\"data row0 col1\" >0.00</td>\n",
       "      <td id=\"T_efb9a_row0_col2\" class=\"data row0 col2\" ></td>\n",
       "      <td id=\"T_efb9a_row0_col3\" class=\"data row0 col3\" ></td>\n",
       "    </tr>\n",
       "    <tr>\n",
       "      <th id=\"T_efb9a_level0_row1\" class=\"row_heading level0 row1\" >mean</th>\n",
       "      <td id=\"T_efb9a_row1_col0\" class=\"data row1 col0\" ></td>\n",
       "      <td id=\"T_efb9a_row1_col1\" class=\"data row1 col1\" ></td>\n",
       "      <td id=\"T_efb9a_row1_col2\" class=\"data row1 col2\" >46.91</td>\n",
       "      <td id=\"T_efb9a_row1_col3\" class=\"data row1 col3\" >1.23</td>\n",
       "    </tr>\n",
       "    <tr>\n",
       "      <th id=\"T_efb9a_level0_row2\" class=\"row_heading level0 row2\" >min</th>\n",
       "      <td id=\"T_efb9a_row2_col0\" class=\"data row2 col0\" ></td>\n",
       "      <td id=\"T_efb9a_row2_col1\" class=\"data row2 col1\" ></td>\n",
       "      <td id=\"T_efb9a_row2_col2\" class=\"data row2 col2\" >12.82</td>\n",
       "      <td id=\"T_efb9a_row2_col3\" class=\"data row2 col3\" >-3.33</td>\n",
       "    </tr>\n",
       "    <tr>\n",
       "      <th id=\"T_efb9a_level0_row3\" class=\"row_heading level0 row3\" >max</th>\n",
       "      <td id=\"T_efb9a_row3_col0\" class=\"data row3 col0\" ></td>\n",
       "      <td id=\"T_efb9a_row3_col1\" class=\"data row3 col1\" ></td>\n",
       "      <td id=\"T_efb9a_row3_col2\" class=\"data row3 col2\" >5206.65</td>\n",
       "      <td id=\"T_efb9a_row3_col3\" class=\"data row3 col3\" >266.87</td>\n",
       "    </tr>\n",
       "  </tbody>\n",
       "</table>\n"
      ],
      "text/plain": [
       "<IPython.core.display.HTML object>"
      ]
     },
     "metadata": {},
     "output_type": "display_data"
    },
    {
     "data": {
      "text/markdown": [
       "### Ten Worst Average Response Times"
      ],
      "text/plain": [
       "<IPython.core.display.Markdown object>"
      ]
     },
     "metadata": {},
     "output_type": "display_data"
    },
    {
     "data": {
      "text/html": [
       "<style type=\"text/css\">\n",
       "#T_4a775 th {\n",
       "  text-align: left;\n",
       "}\n",
       "#T_4a775_row0_col0, #T_4a775_row0_col1, #T_4a775_row0_col2, #T_4a775_row0_col3, #T_4a775_row0_col4, #T_4a775_row0_col5, #T_4a775_row1_col0, #T_4a775_row1_col1, #T_4a775_row1_col2, #T_4a775_row1_col3, #T_4a775_row1_col4, #T_4a775_row1_col5, #T_4a775_row2_col0, #T_4a775_row2_col1, #T_4a775_row2_col2, #T_4a775_row2_col3, #T_4a775_row2_col4, #T_4a775_row2_col5, #T_4a775_row3_col0, #T_4a775_row3_col1, #T_4a775_row3_col2, #T_4a775_row3_col3, #T_4a775_row3_col4, #T_4a775_row3_col5, #T_4a775_row4_col0, #T_4a775_row4_col1, #T_4a775_row4_col2, #T_4a775_row4_col3, #T_4a775_row4_col4, #T_4a775_row4_col5, #T_4a775_row5_col0, #T_4a775_row5_col1, #T_4a775_row5_col2, #T_4a775_row5_col3, #T_4a775_row5_col4, #T_4a775_row5_col5, #T_4a775_row6_col0, #T_4a775_row6_col1, #T_4a775_row6_col2, #T_4a775_row6_col3, #T_4a775_row6_col4, #T_4a775_row6_col5, #T_4a775_row7_col0, #T_4a775_row7_col1, #T_4a775_row7_col2, #T_4a775_row7_col3, #T_4a775_row7_col4, #T_4a775_row7_col5, #T_4a775_row8_col0, #T_4a775_row8_col1, #T_4a775_row8_col2, #T_4a775_row8_col3, #T_4a775_row8_col4, #T_4a775_row8_col5, #T_4a775_row9_col0, #T_4a775_row9_col1, #T_4a775_row9_col2, #T_4a775_row9_col3, #T_4a775_row9_col4, #T_4a775_row9_col5 {\n",
       "  text-align: left;\n",
       "}\n",
       "</style>\n",
       "<table id=\"T_4a775\">\n",
       "  <thead>\n",
       "    <tr>\n",
       "      <th class=\"blank level0\" >&nbsp;</th>\n",
       "      <th id=\"T_4a775_level0_col0\" class=\"col_heading level0 col0\" >Avg Response Time</th>\n",
       "      <th id=\"T_4a775_level0_col1\" class=\"col_heading level0 col1\" >Request Count</th>\n",
       "      <th id=\"T_4a775_level0_col2\" class=\"col_heading level0 col2\" >Failure Count</th>\n",
       "      <th id=\"T_4a775_level0_col3\" class=\"col_heading level0 col3\" >Approx Std Dev</th>\n",
       "      <th id=\"T_4a775_level0_col4\" class=\"col_heading level0 col4\" >Min Response Time</th>\n",
       "      <th id=\"T_4a775_level0_col5\" class=\"col_heading level0 col5\" >Max Response Time</th>\n",
       "    </tr>\n",
       "    <tr>\n",
       "      <th class=\"index_name level0\" >Request</th>\n",
       "      <th class=\"blank col0\" >&nbsp;</th>\n",
       "      <th class=\"blank col1\" >&nbsp;</th>\n",
       "      <th class=\"blank col2\" >&nbsp;</th>\n",
       "      <th class=\"blank col3\" >&nbsp;</th>\n",
       "      <th class=\"blank col4\" >&nbsp;</th>\n",
       "      <th class=\"blank col5\" >&nbsp;</th>\n",
       "    </tr>\n",
       "  </thead>\n",
       "  <tbody>\n",
       "    <tr>\n",
       "      <th id=\"T_4a775_level0_row0\" class=\"row_heading level0 row0\" >GET /data/v3/ed-fi/cohorts</th>\n",
       "      <td id=\"T_4a775_row0_col0\" class=\"data row0 col0\" >5206.65</td>\n",
       "      <td id=\"T_4a775_row0_col1\" class=\"data row0 col1\" >1</td>\n",
       "      <td id=\"T_4a775_row0_col2\" class=\"data row0 col2\" >0</td>\n",
       "      <td id=\"T_4a775_row0_col3\" class=\"data row0 col3\" >-3.33</td>\n",
       "      <td id=\"T_4a775_row0_col4\" class=\"data row0 col4\" >5206.65</td>\n",
       "      <td id=\"T_4a775_row0_col5\" class=\"data row0 col5\" >5206.65</td>\n",
       "    </tr>\n",
       "    <tr>\n",
       "      <th id=\"T_4a775_level0_row1\" class=\"row_heading level0 row1\" >GET /data/v3/ed-fi/studentNeglectedOrDelinquentProgramAssociations</th>\n",
       "      <td id=\"T_4a775_row1_col0\" class=\"data row1 col0\" >440.57</td>\n",
       "      <td id=\"T_4a775_row1_col1\" class=\"data row1 col1\" >1</td>\n",
       "      <td id=\"T_4a775_row1_col2\" class=\"data row1 col2\" >0</td>\n",
       "      <td id=\"T_4a775_row1_col3\" class=\"data row1 col3\" >-0.28</td>\n",
       "      <td id=\"T_4a775_row1_col4\" class=\"data row1 col4\" >440.57</td>\n",
       "      <td id=\"T_4a775_row1_col5\" class=\"data row1 col5\" >440.57</td>\n",
       "    </tr>\n",
       "    <tr>\n",
       "      <th id=\"T_4a775_level0_row2\" class=\"row_heading level0 row2\" >GET /data/v3/ed-fi/studentHomelessProgramAssociations</th>\n",
       "      <td id=\"T_4a775_row2_col0\" class=\"data row2 col0\" >410.36</td>\n",
       "      <td id=\"T_4a775_row2_col1\" class=\"data row2 col1\" >1</td>\n",
       "      <td id=\"T_4a775_row2_col2\" class=\"data row2 col2\" >0</td>\n",
       "      <td id=\"T_4a775_row2_col3\" class=\"data row2 col3\" >-0.18</td>\n",
       "      <td id=\"T_4a775_row2_col4\" class=\"data row2 col4\" >410.36</td>\n",
       "      <td id=\"T_4a775_row2_col5\" class=\"data row2 col5\" >410.36</td>\n",
       "    </tr>\n",
       "    <tr>\n",
       "      <th id=\"T_4a775_level0_row3\" class=\"row_heading level0 row3\" >GET /data/v3/ed-fi/grades</th>\n",
       "      <td id=\"T_4a775_row3_col0\" class=\"data row3 col0\" >354.76</td>\n",
       "      <td id=\"T_4a775_row3_col1\" class=\"data row3 col1\" >1</td>\n",
       "      <td id=\"T_4a775_row3_col2\" class=\"data row3 col2\" >0</td>\n",
       "      <td id=\"T_4a775_row3_col3\" class=\"data row3 col3\" >-2.38</td>\n",
       "      <td id=\"T_4a775_row3_col4\" class=\"data row3 col4\" >354.76</td>\n",
       "      <td id=\"T_4a775_row3_col5\" class=\"data row3 col5\" >354.76</td>\n",
       "    </tr>\n",
       "    <tr>\n",
       "      <th id=\"T_4a775_level0_row4\" class=\"row_heading level0 row4\" >GET /composites/v1/ed-fi/enrollment/sections</th>\n",
       "      <td id=\"T_4a775_row4_col0\" class=\"data row4 col0\" >324.49</td>\n",
       "      <td id=\"T_4a775_row4_col1\" class=\"data row4 col1\" >1</td>\n",
       "      <td id=\"T_4a775_row4_col2\" class=\"data row4 col2\" >0</td>\n",
       "      <td id=\"T_4a775_row4_col3\" class=\"data row4 col3\" >-2.25</td>\n",
       "      <td id=\"T_4a775_row4_col4\" class=\"data row4 col4\" >324.49</td>\n",
       "      <td id=\"T_4a775_row4_col5\" class=\"data row4 col5\" >324.49</td>\n",
       "    </tr>\n",
       "    <tr>\n",
       "      <th id=\"T_4a775_level0_row5\" class=\"row_heading level0 row5\" >GET /composites/v1/ed-fi/enrollment/localEducationAgencies/{id}/schools</th>\n",
       "      <td id=\"T_4a775_row5_col0\" class=\"data row5 col0\" >308.07</td>\n",
       "      <td id=\"T_4a775_row5_col1\" class=\"data row5 col1\" >1</td>\n",
       "      <td id=\"T_4a775_row5_col2\" class=\"data row5 col2\" >0</td>\n",
       "      <td id=\"T_4a775_row5_col3\" class=\"data row5 col3\" >0.96</td>\n",
       "      <td id=\"T_4a775_row5_col4\" class=\"data row5 col4\" >308.07</td>\n",
       "      <td id=\"T_4a775_row5_col5\" class=\"data row5 col5\" >308.07</td>\n",
       "    </tr>\n",
       "    <tr>\n",
       "      <th id=\"T_4a775_level0_row6\" class=\"row_heading level0 row6\" >GET /data/v3/ed-fi/studentEducationOrganizationAssociations</th>\n",
       "      <td id=\"T_4a775_row6_col0\" class=\"data row6 col0\" >291.15</td>\n",
       "      <td id=\"T_4a775_row6_col1\" class=\"data row6 col1\" >1</td>\n",
       "      <td id=\"T_4a775_row6_col2\" class=\"data row6 col2\" >0</td>\n",
       "      <td id=\"T_4a775_row6_col3\" class=\"data row6 col3\" >-0.57</td>\n",
       "      <td id=\"T_4a775_row6_col4\" class=\"data row6 col4\" >291.15</td>\n",
       "      <td id=\"T_4a775_row6_col5\" class=\"data row6 col5\" >291.15</td>\n",
       "    </tr>\n",
       "    <tr>\n",
       "      <th id=\"T_4a775_level0_row7\" class=\"row_heading level0 row7\" >GET /data/v3/ed-fi/studentAssessments</th>\n",
       "      <td id=\"T_4a775_row7_col0\" class=\"data row7 col0\" >285.15</td>\n",
       "      <td id=\"T_4a775_row7_col1\" class=\"data row7 col1\" >1</td>\n",
       "      <td id=\"T_4a775_row7_col2\" class=\"data row7 col2\" >0</td>\n",
       "      <td id=\"T_4a775_row7_col3\" class=\"data row7 col3\" >2.42</td>\n",
       "      <td id=\"T_4a775_row7_col4\" class=\"data row7 col4\" >285.15</td>\n",
       "      <td id=\"T_4a775_row7_col5\" class=\"data row7 col5\" >285.15</td>\n",
       "    </tr>\n",
       "    <tr>\n",
       "      <th id=\"T_4a775_level0_row8\" class=\"row_heading level0 row8\" >GET /data/v3/ed-fi/courseTranscripts</th>\n",
       "      <td id=\"T_4a775_row8_col0\" class=\"data row8 col0\" >258.43</td>\n",
       "      <td id=\"T_4a775_row8_col1\" class=\"data row8 col1\" >1</td>\n",
       "      <td id=\"T_4a775_row8_col2\" class=\"data row8 col2\" >0</td>\n",
       "      <td id=\"T_4a775_row8_col3\" class=\"data row8 col3\" >0.78</td>\n",
       "      <td id=\"T_4a775_row8_col4\" class=\"data row8 col4\" >258.43</td>\n",
       "      <td id=\"T_4a775_row8_col5\" class=\"data row8 col5\" >258.43</td>\n",
       "    </tr>\n",
       "    <tr>\n",
       "      <th id=\"T_4a775_level0_row9\" class=\"row_heading level0 row9\" >GET /composites/v1/ed-fi/enrollment/localEducationAgencies</th>\n",
       "      <td id=\"T_4a775_row9_col0\" class=\"data row9 col0\" >256.31</td>\n",
       "      <td id=\"T_4a775_row9_col1\" class=\"data row9 col1\" >1</td>\n",
       "      <td id=\"T_4a775_row9_col2\" class=\"data row9 col2\" >0</td>\n",
       "      <td id=\"T_4a775_row9_col3\" class=\"data row9 col3\" >1.84</td>\n",
       "      <td id=\"T_4a775_row9_col4\" class=\"data row9 col4\" >256.31</td>\n",
       "      <td id=\"T_4a775_row9_col5\" class=\"data row9 col5\" >256.31</td>\n",
       "    </tr>\n",
       "    <tr>\n",
       "      <th class=\"row_heading level0 row_trim\" >...</th>\n",
       "      <td class=\"data col0 row_trim\" >...</td>\n",
       "      <td class=\"data col1 row_trim\" >...</td>\n",
       "      <td class=\"data col2 row_trim\" >...</td>\n",
       "      <td class=\"data col3 row_trim\" >...</td>\n",
       "      <td class=\"data col4 row_trim\" >...</td>\n",
       "      <td class=\"data col5 row_trim\" >...</td>\n",
       "    </tr>\n",
       "  </tbody>\n",
       "</table>\n"
      ],
      "text/plain": [
       "<IPython.core.display.HTML object>"
      ]
     },
     "metadata": {},
     "output_type": "display_data"
    },
    {
     "data": {
      "text/markdown": [
       "### Ten Best Average Response Times"
      ],
      "text/plain": [
       "<IPython.core.display.Markdown object>"
      ]
     },
     "metadata": {},
     "output_type": "display_data"
    },
    {
     "data": {
      "text/html": [
       "<style type=\"text/css\">\n",
       "#T_f95e0 th {\n",
       "  text-align: left;\n",
       "}\n",
       "#T_f95e0_row0_col0, #T_f95e0_row0_col1, #T_f95e0_row0_col2, #T_f95e0_row0_col3, #T_f95e0_row0_col4, #T_f95e0_row0_col5, #T_f95e0_row1_col0, #T_f95e0_row1_col1, #T_f95e0_row1_col2, #T_f95e0_row1_col3, #T_f95e0_row1_col4, #T_f95e0_row1_col5, #T_f95e0_row2_col0, #T_f95e0_row2_col1, #T_f95e0_row2_col2, #T_f95e0_row2_col3, #T_f95e0_row2_col4, #T_f95e0_row2_col5, #T_f95e0_row3_col0, #T_f95e0_row3_col1, #T_f95e0_row3_col2, #T_f95e0_row3_col3, #T_f95e0_row3_col4, #T_f95e0_row3_col5, #T_f95e0_row4_col0, #T_f95e0_row4_col1, #T_f95e0_row4_col2, #T_f95e0_row4_col3, #T_f95e0_row4_col4, #T_f95e0_row4_col5, #T_f95e0_row5_col0, #T_f95e0_row5_col1, #T_f95e0_row5_col2, #T_f95e0_row5_col3, #T_f95e0_row5_col4, #T_f95e0_row5_col5, #T_f95e0_row6_col0, #T_f95e0_row6_col1, #T_f95e0_row6_col2, #T_f95e0_row6_col3, #T_f95e0_row6_col4, #T_f95e0_row6_col5, #T_f95e0_row7_col0, #T_f95e0_row7_col1, #T_f95e0_row7_col2, #T_f95e0_row7_col3, #T_f95e0_row7_col4, #T_f95e0_row7_col5, #T_f95e0_row8_col0, #T_f95e0_row8_col1, #T_f95e0_row8_col2, #T_f95e0_row8_col3, #T_f95e0_row8_col4, #T_f95e0_row8_col5, #T_f95e0_row9_col0, #T_f95e0_row9_col1, #T_f95e0_row9_col2, #T_f95e0_row9_col3, #T_f95e0_row9_col4, #T_f95e0_row9_col5 {\n",
       "  text-align: left;\n",
       "}\n",
       "</style>\n",
       "<table id=\"T_f95e0\">\n",
       "  <thead>\n",
       "    <tr>\n",
       "      <th class=\"blank level0\" >&nbsp;</th>\n",
       "      <th id=\"T_f95e0_level0_col0\" class=\"col_heading level0 col0\" >Avg Response Time</th>\n",
       "      <th id=\"T_f95e0_level0_col1\" class=\"col_heading level0 col1\" >Request Count</th>\n",
       "      <th id=\"T_f95e0_level0_col2\" class=\"col_heading level0 col2\" >Failure Count</th>\n",
       "      <th id=\"T_f95e0_level0_col3\" class=\"col_heading level0 col3\" >Approx Std Dev</th>\n",
       "      <th id=\"T_f95e0_level0_col4\" class=\"col_heading level0 col4\" >Min Response Time</th>\n",
       "      <th id=\"T_f95e0_level0_col5\" class=\"col_heading level0 col5\" >Max Response Time</th>\n",
       "    </tr>\n",
       "    <tr>\n",
       "      <th class=\"index_name level0\" >Request</th>\n",
       "      <th class=\"blank col0\" >&nbsp;</th>\n",
       "      <th class=\"blank col1\" >&nbsp;</th>\n",
       "      <th class=\"blank col2\" >&nbsp;</th>\n",
       "      <th class=\"blank col3\" >&nbsp;</th>\n",
       "      <th class=\"blank col4\" >&nbsp;</th>\n",
       "      <th class=\"blank col5\" >&nbsp;</th>\n",
       "    </tr>\n",
       "  </thead>\n",
       "  <tbody>\n",
       "    <tr>\n",
       "      <th id=\"T_f95e0_level0_row0\" class=\"row_heading level0 row0\" >GET /data/v3/ed-fi/localEducationAgencies/{id}</th>\n",
       "      <td id=\"T_f95e0_row0_col0\" class=\"data row0 col0\" >12.82</td>\n",
       "      <td id=\"T_f95e0_row0_col1\" class=\"data row0 col1\" >2</td>\n",
       "      <td id=\"T_f95e0_row0_col2\" class=\"data row0 col2\" >0</td>\n",
       "      <td id=\"T_f95e0_row0_col3\" class=\"data row0 col3\" >1.59</td>\n",
       "      <td id=\"T_f95e0_row0_col4\" class=\"data row0 col4\" >9.49</td>\n",
       "      <td id=\"T_f95e0_row0_col5\" class=\"data row0 col5\" >16.15</td>\n",
       "    </tr>\n",
       "    <tr>\n",
       "      <th id=\"T_f95e0_level0_row1\" class=\"row_heading level0 row1\" >GET /data/v3/ed-fi/contactTypeDescriptors/{id}</th>\n",
       "      <td id=\"T_f95e0_row1_col0\" class=\"data row1 col0\" >12.90</td>\n",
       "      <td id=\"T_f95e0_row1_col1\" class=\"data row1 col1\" >1</td>\n",
       "      <td id=\"T_f95e0_row1_col2\" class=\"data row1 col2\" >0</td>\n",
       "      <td id=\"T_f95e0_row1_col3\" class=\"data row1 col3\" >0.05</td>\n",
       "      <td id=\"T_f95e0_row1_col4\" class=\"data row1 col4\" >12.90</td>\n",
       "      <td id=\"T_f95e0_row1_col5\" class=\"data row1 col5\" >12.90</td>\n",
       "    </tr>\n",
       "    <tr>\n",
       "      <th id=\"T_f95e0_level0_row2\" class=\"row_heading level0 row2\" >GET /data/v3/ed-fi/schoolYearTypes/{id}</th>\n",
       "      <td id=\"T_f95e0_row2_col0\" class=\"data row2 col0\" >12.95</td>\n",
       "      <td id=\"T_f95e0_row2_col1\" class=\"data row2 col1\" >1</td>\n",
       "      <td id=\"T_f95e0_row2_col2\" class=\"data row2 col2\" >0</td>\n",
       "      <td id=\"T_f95e0_row2_col3\" class=\"data row2 col3\" >0.03</td>\n",
       "      <td id=\"T_f95e0_row2_col4\" class=\"data row2 col4\" >12.95</td>\n",
       "      <td id=\"T_f95e0_row2_col5\" class=\"data row2 col5\" >12.95</td>\n",
       "    </tr>\n",
       "    <tr>\n",
       "      <th id=\"T_f95e0_level0_row3\" class=\"row_heading level0 row3\" >GET /data/v3/ed-fi/accommodationDescriptors/{id}</th>\n",
       "      <td id=\"T_f95e0_row3_col0\" class=\"data row3 col0\" >13.04</td>\n",
       "      <td id=\"T_f95e0_row3_col1\" class=\"data row3 col1\" >1</td>\n",
       "      <td id=\"T_f95e0_row3_col2\" class=\"data row3 col2\" >0</td>\n",
       "      <td id=\"T_f95e0_row3_col3\" class=\"data row3 col3\" >-0.02</td>\n",
       "      <td id=\"T_f95e0_row3_col4\" class=\"data row3 col4\" >13.04</td>\n",
       "      <td id=\"T_f95e0_row3_col5\" class=\"data row3 col5\" >13.04</td>\n",
       "    </tr>\n",
       "    <tr>\n",
       "      <th id=\"T_f95e0_level0_row4\" class=\"row_heading level0 row4\" >GET /data/v3/ed-fi/academicHonorCategoryDescriptors/{id}</th>\n",
       "      <td id=\"T_f95e0_row4_col0\" class=\"data row4 col0\" >13.10</td>\n",
       "      <td id=\"T_f95e0_row4_col1\" class=\"data row4 col1\" >1</td>\n",
       "      <td id=\"T_f95e0_row4_col2\" class=\"data row4 col2\" >0</td>\n",
       "      <td id=\"T_f95e0_row4_col3\" class=\"data row4 col3\" >-0.05</td>\n",
       "      <td id=\"T_f95e0_row4_col4\" class=\"data row4 col4\" >13.10</td>\n",
       "      <td id=\"T_f95e0_row4_col5\" class=\"data row4 col5\" >13.10</td>\n",
       "    </tr>\n",
       "    <tr>\n",
       "      <th id=\"T_f95e0_level0_row5\" class=\"row_heading level0 row5\" >GET /data/v3/ed-fi/educationContents/{id}</th>\n",
       "      <td id=\"T_f95e0_row5_col0\" class=\"data row5 col0\" >13.31</td>\n",
       "      <td id=\"T_f95e0_row5_col1\" class=\"data row5 col1\" >1</td>\n",
       "      <td id=\"T_f95e0_row5_col2\" class=\"data row5 col2\" >0</td>\n",
       "      <td id=\"T_f95e0_row5_col3\" class=\"data row5 col3\" >-0.15</td>\n",
       "      <td id=\"T_f95e0_row5_col4\" class=\"data row5 col4\" >13.31</td>\n",
       "      <td id=\"T_f95e0_row5_col5\" class=\"data row5 col5\" >13.31</td>\n",
       "    </tr>\n",
       "    <tr>\n",
       "      <th id=\"T_f95e0_level0_row6\" class=\"row_heading level0 row6\" >GET /data/v3/ed-fi/absenceEventCategoryDescriptors/{id}</th>\n",
       "      <td id=\"T_f95e0_row6_col0\" class=\"data row6 col0\" >13.38</td>\n",
       "      <td id=\"T_f95e0_row6_col1\" class=\"data row6 col1\" >1</td>\n",
       "      <td id=\"T_f95e0_row6_col2\" class=\"data row6 col2\" >0</td>\n",
       "      <td id=\"T_f95e0_row6_col3\" class=\"data row6 col3\" >-0.19</td>\n",
       "      <td id=\"T_f95e0_row6_col4\" class=\"data row6 col4\" >13.38</td>\n",
       "      <td id=\"T_f95e0_row6_col5\" class=\"data row6 col5\" >13.38</td>\n",
       "    </tr>\n",
       "    <tr>\n",
       "      <th id=\"T_f95e0_level0_row7\" class=\"row_heading level0 row7\" >GET /data/v3/ed-fi/communityProviderLicenses/{id}</th>\n",
       "      <td id=\"T_f95e0_row7_col0\" class=\"data row7 col0\" >13.50</td>\n",
       "      <td id=\"T_f95e0_row7_col1\" class=\"data row7 col1\" >1</td>\n",
       "      <td id=\"T_f95e0_row7_col2\" class=\"data row7 col2\" >0</td>\n",
       "      <td id=\"T_f95e0_row7_col3\" class=\"data row7 col3\" >0.25</td>\n",
       "      <td id=\"T_f95e0_row7_col4\" class=\"data row7 col4\" >13.50</td>\n",
       "      <td id=\"T_f95e0_row7_col5\" class=\"data row7 col5\" >13.50</td>\n",
       "    </tr>\n",
       "    <tr>\n",
       "      <th id=\"T_f95e0_level0_row8\" class=\"row_heading level0 row8\" >GET /data/v3/ed-fi/budgets/{id}</th>\n",
       "      <td id=\"T_f95e0_row8_col0\" class=\"data row8 col0\" >13.51</td>\n",
       "      <td id=\"T_f95e0_row8_col1\" class=\"data row8 col1\" >1</td>\n",
       "      <td id=\"T_f95e0_row8_col2\" class=\"data row8 col2\" >0</td>\n",
       "      <td id=\"T_f95e0_row8_col3\" class=\"data row8 col3\" >0.24</td>\n",
       "      <td id=\"T_f95e0_row8_col4\" class=\"data row8 col4\" >13.51</td>\n",
       "      <td id=\"T_f95e0_row8_col5\" class=\"data row8 col5\" >13.51</td>\n",
       "    </tr>\n",
       "    <tr>\n",
       "      <th id=\"T_f95e0_level0_row9\" class=\"row_heading level0 row9\" >GET /data/v3/ed-fi/students/{id}</th>\n",
       "      <td id=\"T_f95e0_row9_col0\" class=\"data row9 col0\" >13.59</td>\n",
       "      <td id=\"T_f95e0_row9_col1\" class=\"data row9 col1\" >2</td>\n",
       "      <td id=\"T_f95e0_row9_col2\" class=\"data row9 col2\" >0</td>\n",
       "      <td id=\"T_f95e0_row9_col3\" class=\"data row9 col3\" >2.70</td>\n",
       "      <td id=\"T_f95e0_row9_col4\" class=\"data row9 col4\" >8.47</td>\n",
       "      <td id=\"T_f95e0_row9_col5\" class=\"data row9 col5\" >18.72</td>\n",
       "    </tr>\n",
       "    <tr>\n",
       "      <th class=\"row_heading level0 row_trim\" >...</th>\n",
       "      <td class=\"data col0 row_trim\" >...</td>\n",
       "      <td class=\"data col1 row_trim\" >...</td>\n",
       "      <td class=\"data col2 row_trim\" >...</td>\n",
       "      <td class=\"data col3 row_trim\" >...</td>\n",
       "      <td class=\"data col4 row_trim\" >...</td>\n",
       "      <td class=\"data col5 row_trim\" >...</td>\n",
       "    </tr>\n",
       "  </tbody>\n",
       "</table>\n"
      ],
      "text/plain": [
       "<IPython.core.display.HTML object>"
      ]
     },
     "metadata": {},
     "output_type": "display_data"
    }
   ],
   "source": [
    "from edfi_perf_test_analysis.pipeclean import run_analysis\n",
    "run_analysis()"
   ]
  }
 ],
 "metadata": {
  "kernelspec": {
   "display_name": "Python 3 (ipykernel)",
   "language": "python",
   "name": "python3"
  },
  "language_info": {
   "codemirror_mode": {
    "name": "ipython",
    "version": 3
   },
   "file_extension": ".py",
   "mimetype": "text/x-python",
   "name": "python",
   "nbconvert_exporter": "python",
   "pygments_lexer": "ipython3",
   "version": "3.9.9"
  }
 },
 "nbformat": 4,
 "nbformat_minor": 5
}