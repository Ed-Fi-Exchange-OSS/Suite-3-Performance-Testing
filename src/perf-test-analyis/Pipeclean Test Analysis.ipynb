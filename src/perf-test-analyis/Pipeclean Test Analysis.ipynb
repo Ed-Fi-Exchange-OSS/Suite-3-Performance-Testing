{
 "cells": [
  {
   "cell_type": "markdown",
   "id": "fb2bb02e",
   "metadata": {},
   "source": [
    "# Pipeclean Test Analysis\n",
    "\n",
    "Run the cell below. It will prompt you for which directory to access with the pipeclean test results to analyze."
   ]
  },
  {
   "cell_type": "code",
   "execution_count": 1,
   "id": "b57c0f0c",
   "metadata": {},
   "outputs": [
    {
     "data": {
      "text/markdown": [
       "✅ **Running analysis on C:\\source\\exchange\\Suite-3-Performance-Testing\\testResults\\2022-10-24-14-08-12**"
      ],
      "text/plain": [
       "<IPython.core.display.Markdown object>"
      ]
     },
     "metadata": {},
     "output_type": "display_data"
    },
    {
     "data": {
      "text/markdown": [
       "### Exceptions"
      ],
      "text/plain": [
       "<IPython.core.display.Markdown object>"
      ]
     },
     "metadata": {},
     "output_type": "display_data"
    },
    {
     "data": {
      "text/markdown": [
       "First five exceptions"
      ],
      "text/plain": [
       "<IPython.core.display.Markdown object>"
      ]
     },
     "metadata": {},
     "output_type": "display_data"
    },
    {
     "data": {
      "text/markdown": [
       "❕ **No data to display**"
      ],
      "text/plain": [
       "<IPython.core.display.Markdown object>"
      ]
     },
     "metadata": {},
     "output_type": "display_data"
    },
    {
     "data": {
      "text/markdown": [
       "### Failures"
      ],
      "text/plain": [
       "<IPython.core.display.Markdown object>"
      ]
     },
     "metadata": {},
     "output_type": "display_data"
    },
    {
     "data": {
      "text/markdown": [
       "First five failures"
      ],
      "text/plain": [
       "<IPython.core.display.Markdown object>"
      ]
     },
     "metadata": {},
     "output_type": "display_data"
    },
    {
     "data": {
      "text/markdown": [
       "❕ **No data to display**"
      ],
      "text/plain": [
       "<IPython.core.display.Markdown object>"
      ]
     },
     "metadata": {},
     "output_type": "display_data"
    },
    {
     "data": {
      "text/markdown": [
       "### Summary Stats"
      ],
      "text/plain": [
       "<IPython.core.display.Markdown object>"
      ]
     },
     "metadata": {},
     "output_type": "display_data"
    },
    {
     "data": {
      "text/html": [
       "<style type=\"text/css\">\n",
       "#T_4bfb8 th {\n",
       "  text-align: left;\n",
       "}\n",
       "#T_4bfb8_row0_col0, #T_4bfb8_row0_col1, #T_4bfb8_row0_col2, #T_4bfb8_row1_col0, #T_4bfb8_row1_col1, #T_4bfb8_row1_col2, #T_4bfb8_row2_col0, #T_4bfb8_row2_col1, #T_4bfb8_row2_col2, #T_4bfb8_row3_col0, #T_4bfb8_row3_col1, #T_4bfb8_row3_col2 {\n",
       "  text-align: left;\n",
       "}\n",
       "</style>\n",
       "<table id=\"T_4bfb8\">\n",
       "  <thead>\n",
       "    <tr>\n",
       "      <th class=\"blank level0\" >&nbsp;</th>\n",
       "      <th id=\"T_4bfb8_level0_col0\" class=\"col_heading level0 col0\" >Request Count</th>\n",
       "      <th id=\"T_4bfb8_level0_col1\" class=\"col_heading level0 col1\" >Failure Count</th>\n",
       "      <th id=\"T_4bfb8_level0_col2\" class=\"col_heading level0 col2\" >Response Time</th>\n",
       "    </tr>\n",
       "  </thead>\n",
       "  <tbody>\n",
       "    <tr>\n",
       "      <th id=\"T_4bfb8_level0_row0\" class=\"row_heading level0 row0\" >sum</th>\n",
       "      <td id=\"T_4bfb8_row0_col0\" class=\"data row0 col0\" >1218.00</td>\n",
       "      <td id=\"T_4bfb8_row0_col1\" class=\"data row0 col1\" >0.00</td>\n",
       "      <td id=\"T_4bfb8_row0_col2\" class=\"data row0 col2\" ></td>\n",
       "    </tr>\n",
       "    <tr>\n",
       "      <th id=\"T_4bfb8_level0_row1\" class=\"row_heading level0 row1\" >mean</th>\n",
       "      <td id=\"T_4bfb8_row1_col0\" class=\"data row1 col0\" ></td>\n",
       "      <td id=\"T_4bfb8_row1_col1\" class=\"data row1 col1\" ></td>\n",
       "      <td id=\"T_4bfb8_row1_col2\" class=\"data row1 col2\" >46.91</td>\n",
       "    </tr>\n",
       "    <tr>\n",
       "      <th id=\"T_4bfb8_level0_row2\" class=\"row_heading level0 row2\" >min</th>\n",
       "      <td id=\"T_4bfb8_row2_col0\" class=\"data row2 col0\" ></td>\n",
       "      <td id=\"T_4bfb8_row2_col1\" class=\"data row2 col1\" ></td>\n",
       "      <td id=\"T_4bfb8_row2_col2\" class=\"data row2 col2\" >12.82</td>\n",
       "    </tr>\n",
       "    <tr>\n",
       "      <th id=\"T_4bfb8_level0_row3\" class=\"row_heading level0 row3\" >max</th>\n",
       "      <td id=\"T_4bfb8_row3_col0\" class=\"data row3 col0\" ></td>\n",
       "      <td id=\"T_4bfb8_row3_col1\" class=\"data row3 col1\" ></td>\n",
       "      <td id=\"T_4bfb8_row3_col2\" class=\"data row3 col2\" >5206.65</td>\n",
       "    </tr>\n",
       "  </tbody>\n",
       "</table>\n"
      ],
      "text/plain": [
       "<IPython.core.display.HTML object>"
      ]
     },
     "metadata": {},
     "output_type": "display_data"
    },
    {
     "data": {
      "text/markdown": [
       "### Ten Worst Average Response Times"
      ],
      "text/plain": [
       "<IPython.core.display.Markdown object>"
      ]
     },
     "metadata": {},
     "output_type": "display_data"
    },
    {
     "data": {
      "text/html": [
       "<style type=\"text/css\">\n",
       "#T_67763 th {\n",
       "  text-align: left;\n",
       "}\n",
       "#T_67763_row0_col0, #T_67763_row0_col1, #T_67763_row0_col2, #T_67763_row1_col0, #T_67763_row1_col1, #T_67763_row1_col2, #T_67763_row2_col0, #T_67763_row2_col1, #T_67763_row2_col2, #T_67763_row3_col0, #T_67763_row3_col1, #T_67763_row3_col2, #T_67763_row4_col0, #T_67763_row4_col1, #T_67763_row4_col2, #T_67763_row5_col0, #T_67763_row5_col1, #T_67763_row5_col2, #T_67763_row6_col0, #T_67763_row6_col1, #T_67763_row6_col2, #T_67763_row7_col0, #T_67763_row7_col1, #T_67763_row7_col2, #T_67763_row8_col0, #T_67763_row8_col1, #T_67763_row8_col2, #T_67763_row9_col0, #T_67763_row9_col1, #T_67763_row9_col2 {\n",
       "  text-align: left;\n",
       "}\n",
       "</style>\n",
       "<table id=\"T_67763\">\n",
       "  <thead>\n",
       "    <tr>\n",
       "      <th class=\"blank level0\" >&nbsp;</th>\n",
       "      <th id=\"T_67763_level0_col0\" class=\"col_heading level0 col0\" >Response Time</th>\n",
       "      <th id=\"T_67763_level0_col1\" class=\"col_heading level0 col1\" >Request Count</th>\n",
       "      <th id=\"T_67763_level0_col2\" class=\"col_heading level0 col2\" >Failure Count</th>\n",
       "    </tr>\n",
       "    <tr>\n",
       "      <th class=\"index_name level0\" >Request</th>\n",
       "      <th class=\"blank col0\" >&nbsp;</th>\n",
       "      <th class=\"blank col1\" >&nbsp;</th>\n",
       "      <th class=\"blank col2\" >&nbsp;</th>\n",
       "    </tr>\n",
       "  </thead>\n",
       "  <tbody>\n",
       "    <tr>\n",
       "      <th id=\"T_67763_level0_row0\" class=\"row_heading level0 row0\" >GET /data/v3/ed-fi/cohorts</th>\n",
       "      <td id=\"T_67763_row0_col0\" class=\"data row0 col0\" >5206.65</td>\n",
       "      <td id=\"T_67763_row0_col1\" class=\"data row0 col1\" >1</td>\n",
       "      <td id=\"T_67763_row0_col2\" class=\"data row0 col2\" >0</td>\n",
       "    </tr>\n",
       "    <tr>\n",
       "      <th id=\"T_67763_level0_row1\" class=\"row_heading level0 row1\" >GET /data/v3/ed-fi/studentNeglectedOrDelinquentProgramAssociations</th>\n",
       "      <td id=\"T_67763_row1_col0\" class=\"data row1 col0\" >440.57</td>\n",
       "      <td id=\"T_67763_row1_col1\" class=\"data row1 col1\" >1</td>\n",
       "      <td id=\"T_67763_row1_col2\" class=\"data row1 col2\" >0</td>\n",
       "    </tr>\n",
       "    <tr>\n",
       "      <th id=\"T_67763_level0_row2\" class=\"row_heading level0 row2\" >GET /data/v3/ed-fi/studentHomelessProgramAssociations</th>\n",
       "      <td id=\"T_67763_row2_col0\" class=\"data row2 col0\" >410.36</td>\n",
       "      <td id=\"T_67763_row2_col1\" class=\"data row2 col1\" >1</td>\n",
       "      <td id=\"T_67763_row2_col2\" class=\"data row2 col2\" >0</td>\n",
       "    </tr>\n",
       "    <tr>\n",
       "      <th id=\"T_67763_level0_row3\" class=\"row_heading level0 row3\" >GET /data/v3/ed-fi/grades</th>\n",
       "      <td id=\"T_67763_row3_col0\" class=\"data row3 col0\" >354.76</td>\n",
       "      <td id=\"T_67763_row3_col1\" class=\"data row3 col1\" >1</td>\n",
       "      <td id=\"T_67763_row3_col2\" class=\"data row3 col2\" >0</td>\n",
       "    </tr>\n",
       "    <tr>\n",
       "      <th id=\"T_67763_level0_row4\" class=\"row_heading level0 row4\" >GET /composites/v1/ed-fi/enrollment/sections</th>\n",
       "      <td id=\"T_67763_row4_col0\" class=\"data row4 col0\" >324.49</td>\n",
       "      <td id=\"T_67763_row4_col1\" class=\"data row4 col1\" >1</td>\n",
       "      <td id=\"T_67763_row4_col2\" class=\"data row4 col2\" >0</td>\n",
       "    </tr>\n",
       "    <tr>\n",
       "      <th id=\"T_67763_level0_row5\" class=\"row_heading level0 row5\" >GET /composites/v1/ed-fi/enrollment/localEducationAgencies/{id}/schools</th>\n",
       "      <td id=\"T_67763_row5_col0\" class=\"data row5 col0\" >308.07</td>\n",
       "      <td id=\"T_67763_row5_col1\" class=\"data row5 col1\" >1</td>\n",
       "      <td id=\"T_67763_row5_col2\" class=\"data row5 col2\" >0</td>\n",
       "    </tr>\n",
       "    <tr>\n",
       "      <th id=\"T_67763_level0_row6\" class=\"row_heading level0 row6\" >GET /data/v3/ed-fi/studentEducationOrganizationAssociations</th>\n",
       "      <td id=\"T_67763_row6_col0\" class=\"data row6 col0\" >291.15</td>\n",
       "      <td id=\"T_67763_row6_col1\" class=\"data row6 col1\" >1</td>\n",
       "      <td id=\"T_67763_row6_col2\" class=\"data row6 col2\" >0</td>\n",
       "    </tr>\n",
       "    <tr>\n",
       "      <th id=\"T_67763_level0_row7\" class=\"row_heading level0 row7\" >GET /data/v3/ed-fi/studentAssessments</th>\n",
       "      <td id=\"T_67763_row7_col0\" class=\"data row7 col0\" >285.15</td>\n",
       "      <td id=\"T_67763_row7_col1\" class=\"data row7 col1\" >1</td>\n",
       "      <td id=\"T_67763_row7_col2\" class=\"data row7 col2\" >0</td>\n",
       "    </tr>\n",
       "    <tr>\n",
       "      <th id=\"T_67763_level0_row8\" class=\"row_heading level0 row8\" >GET /data/v3/ed-fi/courseTranscripts</th>\n",
       "      <td id=\"T_67763_row8_col0\" class=\"data row8 col0\" >258.43</td>\n",
       "      <td id=\"T_67763_row8_col1\" class=\"data row8 col1\" >1</td>\n",
       "      <td id=\"T_67763_row8_col2\" class=\"data row8 col2\" >0</td>\n",
       "    </tr>\n",
       "    <tr>\n",
       "      <th id=\"T_67763_level0_row9\" class=\"row_heading level0 row9\" >GET /composites/v1/ed-fi/enrollment/localEducationAgencies</th>\n",
       "      <td id=\"T_67763_row9_col0\" class=\"data row9 col0\" >256.31</td>\n",
       "      <td id=\"T_67763_row9_col1\" class=\"data row9 col1\" >1</td>\n",
       "      <td id=\"T_67763_row9_col2\" class=\"data row9 col2\" >0</td>\n",
       "    </tr>\n",
       "    <tr>\n",
       "      <th class=\"row_heading level0 row_trim\" >...</th>\n",
       "      <td class=\"data col0 row_trim\" >...</td>\n",
       "      <td class=\"data col1 row_trim\" >...</td>\n",
       "      <td class=\"data col2 row_trim\" >...</td>\n",
       "    </tr>\n",
       "  </tbody>\n",
       "</table>\n"
      ],
      "text/plain": [
       "<IPython.core.display.HTML object>"
      ]
     },
     "metadata": {},
     "output_type": "display_data"
    },
    {
     "data": {
      "text/markdown": [
       "### Ten Best Average Response Times"
      ],
      "text/plain": [
       "<IPython.core.display.Markdown object>"
      ]
     },
     "metadata": {},
     "output_type": "display_data"
    },
    {
     "data": {
      "text/html": [
       "<style type=\"text/css\">\n",
       "#T_3d4d1 th {\n",
       "  text-align: left;\n",
       "}\n",
       "#T_3d4d1_row0_col0, #T_3d4d1_row0_col1, #T_3d4d1_row0_col2, #T_3d4d1_row1_col0, #T_3d4d1_row1_col1, #T_3d4d1_row1_col2, #T_3d4d1_row2_col0, #T_3d4d1_row2_col1, #T_3d4d1_row2_col2, #T_3d4d1_row3_col0, #T_3d4d1_row3_col1, #T_3d4d1_row3_col2, #T_3d4d1_row4_col0, #T_3d4d1_row4_col1, #T_3d4d1_row4_col2, #T_3d4d1_row5_col0, #T_3d4d1_row5_col1, #T_3d4d1_row5_col2, #T_3d4d1_row6_col0, #T_3d4d1_row6_col1, #T_3d4d1_row6_col2, #T_3d4d1_row7_col0, #T_3d4d1_row7_col1, #T_3d4d1_row7_col2, #T_3d4d1_row8_col0, #T_3d4d1_row8_col1, #T_3d4d1_row8_col2, #T_3d4d1_row9_col0, #T_3d4d1_row9_col1, #T_3d4d1_row9_col2 {\n",
       "  text-align: left;\n",
       "}\n",
       "</style>\n",
       "<table id=\"T_3d4d1\">\n",
       "  <thead>\n",
       "    <tr>\n",
       "      <th class=\"blank level0\" >&nbsp;</th>\n",
       "      <th id=\"T_3d4d1_level0_col0\" class=\"col_heading level0 col0\" >Response Time</th>\n",
       "      <th id=\"T_3d4d1_level0_col1\" class=\"col_heading level0 col1\" >Request Count</th>\n",
       "      <th id=\"T_3d4d1_level0_col2\" class=\"col_heading level0 col2\" >Failure Count</th>\n",
       "    </tr>\n",
       "    <tr>\n",
       "      <th class=\"index_name level0\" >Request</th>\n",
       "      <th class=\"blank col0\" >&nbsp;</th>\n",
       "      <th class=\"blank col1\" >&nbsp;</th>\n",
       "      <th class=\"blank col2\" >&nbsp;</th>\n",
       "    </tr>\n",
       "  </thead>\n",
       "  <tbody>\n",
       "    <tr>\n",
       "      <th id=\"T_3d4d1_level0_row0\" class=\"row_heading level0 row0\" >GET /data/v3/ed-fi/localEducationAgencies/{id}</th>\n",
       "      <td id=\"T_3d4d1_row0_col0\" class=\"data row0 col0\" >12.82</td>\n",
       "      <td id=\"T_3d4d1_row0_col1\" class=\"data row0 col1\" >2</td>\n",
       "      <td id=\"T_3d4d1_row0_col2\" class=\"data row0 col2\" >0</td>\n",
       "    </tr>\n",
       "    <tr>\n",
       "      <th id=\"T_3d4d1_level0_row1\" class=\"row_heading level0 row1\" >GET /data/v3/ed-fi/contactTypeDescriptors/{id}</th>\n",
       "      <td id=\"T_3d4d1_row1_col0\" class=\"data row1 col0\" >12.90</td>\n",
       "      <td id=\"T_3d4d1_row1_col1\" class=\"data row1 col1\" >1</td>\n",
       "      <td id=\"T_3d4d1_row1_col2\" class=\"data row1 col2\" >0</td>\n",
       "    </tr>\n",
       "    <tr>\n",
       "      <th id=\"T_3d4d1_level0_row2\" class=\"row_heading level0 row2\" >GET /data/v3/ed-fi/schoolYearTypes/{id}</th>\n",
       "      <td id=\"T_3d4d1_row2_col0\" class=\"data row2 col0\" >12.95</td>\n",
       "      <td id=\"T_3d4d1_row2_col1\" class=\"data row2 col1\" >1</td>\n",
       "      <td id=\"T_3d4d1_row2_col2\" class=\"data row2 col2\" >0</td>\n",
       "    </tr>\n",
       "    <tr>\n",
       "      <th id=\"T_3d4d1_level0_row3\" class=\"row_heading level0 row3\" >GET /data/v3/ed-fi/accommodationDescriptors/{id}</th>\n",
       "      <td id=\"T_3d4d1_row3_col0\" class=\"data row3 col0\" >13.04</td>\n",
       "      <td id=\"T_3d4d1_row3_col1\" class=\"data row3 col1\" >1</td>\n",
       "      <td id=\"T_3d4d1_row3_col2\" class=\"data row3 col2\" >0</td>\n",
       "    </tr>\n",
       "    <tr>\n",
       "      <th id=\"T_3d4d1_level0_row4\" class=\"row_heading level0 row4\" >GET /data/v3/ed-fi/academicHonorCategoryDescriptors/{id}</th>\n",
       "      <td id=\"T_3d4d1_row4_col0\" class=\"data row4 col0\" >13.10</td>\n",
       "      <td id=\"T_3d4d1_row4_col1\" class=\"data row4 col1\" >1</td>\n",
       "      <td id=\"T_3d4d1_row4_col2\" class=\"data row4 col2\" >0</td>\n",
       "    </tr>\n",
       "    <tr>\n",
       "      <th id=\"T_3d4d1_level0_row5\" class=\"row_heading level0 row5\" >GET /data/v3/ed-fi/educationContents/{id}</th>\n",
       "      <td id=\"T_3d4d1_row5_col0\" class=\"data row5 col0\" >13.31</td>\n",
       "      <td id=\"T_3d4d1_row5_col1\" class=\"data row5 col1\" >1</td>\n",
       "      <td id=\"T_3d4d1_row5_col2\" class=\"data row5 col2\" >0</td>\n",
       "    </tr>\n",
       "    <tr>\n",
       "      <th id=\"T_3d4d1_level0_row6\" class=\"row_heading level0 row6\" >GET /data/v3/ed-fi/absenceEventCategoryDescriptors/{id}</th>\n",
       "      <td id=\"T_3d4d1_row6_col0\" class=\"data row6 col0\" >13.38</td>\n",
       "      <td id=\"T_3d4d1_row6_col1\" class=\"data row6 col1\" >1</td>\n",
       "      <td id=\"T_3d4d1_row6_col2\" class=\"data row6 col2\" >0</td>\n",
       "    </tr>\n",
       "    <tr>\n",
       "      <th id=\"T_3d4d1_level0_row7\" class=\"row_heading level0 row7\" >GET /data/v3/ed-fi/communityProviderLicenses/{id}</th>\n",
       "      <td id=\"T_3d4d1_row7_col0\" class=\"data row7 col0\" >13.50</td>\n",
       "      <td id=\"T_3d4d1_row7_col1\" class=\"data row7 col1\" >1</td>\n",
       "      <td id=\"T_3d4d1_row7_col2\" class=\"data row7 col2\" >0</td>\n",
       "    </tr>\n",
       "    <tr>\n",
       "      <th id=\"T_3d4d1_level0_row8\" class=\"row_heading level0 row8\" >GET /data/v3/ed-fi/budgets/{id}</th>\n",
       "      <td id=\"T_3d4d1_row8_col0\" class=\"data row8 col0\" >13.51</td>\n",
       "      <td id=\"T_3d4d1_row8_col1\" class=\"data row8 col1\" >1</td>\n",
       "      <td id=\"T_3d4d1_row8_col2\" class=\"data row8 col2\" >0</td>\n",
       "    </tr>\n",
       "    <tr>\n",
       "      <th id=\"T_3d4d1_level0_row9\" class=\"row_heading level0 row9\" >GET /data/v3/ed-fi/students/{id}</th>\n",
       "      <td id=\"T_3d4d1_row9_col0\" class=\"data row9 col0\" >13.59</td>\n",
       "      <td id=\"T_3d4d1_row9_col1\" class=\"data row9 col1\" >2</td>\n",
       "      <td id=\"T_3d4d1_row9_col2\" class=\"data row9 col2\" >0</td>\n",
       "    </tr>\n",
       "    <tr>\n",
       "      <th class=\"row_heading level0 row_trim\" >...</th>\n",
       "      <td class=\"data col0 row_trim\" >...</td>\n",
       "      <td class=\"data col1 row_trim\" >...</td>\n",
       "      <td class=\"data col2 row_trim\" >...</td>\n",
       "    </tr>\n",
       "  </tbody>\n",
       "</table>\n"
      ],
      "text/plain": [
       "<IPython.core.display.HTML object>"
      ]
     },
     "metadata": {},
     "output_type": "display_data"
    }
   ],
   "source": [
    "from edfi_perf_test_analysis.pipeclean import run_analysis\n",
    "run_analysis()"
   ]
  }
 ],
 "metadata": {
  "kernelspec": {
   "display_name": "Python 3 (ipykernel)",
   "language": "python",
   "name": "python3"
  },
  "language_info": {
   "codemirror_mode": {
    "name": "ipython",
    "version": 3
   },
   "file_extension": ".py",
   "mimetype": "text/x-python",
   "name": "python",
   "nbconvert_exporter": "python",
   "pygments_lexer": "ipython3",
   "version": "3.9.9"
  }
 },
 "nbformat": 4,
 "nbformat_minor": 5
}
