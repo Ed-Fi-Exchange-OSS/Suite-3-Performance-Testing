{
 "cells": [
  {
   "cell_type": "markdown",
   "id": "3176ea51",
   "metadata": {},
   "source": [
    "# Volume Test Analysis\n",
    "\n",
    "Run the cell below. It will prompt you for which directory to access with the pipeclean test results to analyze."
   ]
  },
  {
   "cell_type": "code",
   "execution_count": null,
   "id": "46230a89",
   "metadata": {},
   "outputs": [],
   "source": [
    "from edfi_perf_test_analysis.volume import run_analysis, run_comparison\n",
    "results_dir, df_stats = run_analysis()"
   ]
  },
  {
   "cell_type": "markdown",
   "id": "933333ea",
   "metadata": {},
   "source": [
    "# Comparison\n",
    "\n",
    "Optional: run the following to select a second directory for head-to-head comparison of results."
   ]
  },
  {
   "cell_type": "code",
   "execution_count": null,
   "id": "ec80c393",
   "metadata": {},
   "outputs": [],
   "source": [
    "run_comparison(results_dir, df_stats)"
   ]
  }
 ],
 "metadata": {
  "kernelspec": {
   "display_name": "Python 3 (ipykernel)",
   "language": "python",
   "name": "python3"
  },
  "language_info": {
   "codemirror_mode": {
    "name": "ipython",
    "version": 3
   },
   "file_extension": ".py",
   "mimetype": "text/x-python",
   "name": "python",
   "nbconvert_exporter": "python",
   "pygments_lexer": "ipython3",
   "version": "3.9.4"
  }
 },
 "nbformat": 4,
 "nbformat_minor": 5
}
